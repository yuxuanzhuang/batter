{
 "cells": [
  {
   "cell_type": "code",
   "execution_count": 1,
   "metadata": {},
   "outputs": [],
   "source": [
    "from openff.toolkit.typing.engines.smirnoff.forcefield import get_available_force_fields"
   ]
  },
  {
   "cell_type": "code",
   "execution_count": 2,
   "metadata": {},
   "outputs": [
    {
     "name": "stderr",
     "output_type": "stream",
     "text": [
      "/scratch/users/yuzhuang/miniforge3_0507/envs/batter/lib/python3.12/site-packages/smirnoff99frosst/smirnoff99frosst.py:11: UserWarning: pkg_resources is deprecated as an API. See https://setuptools.pypa.io/en/latest/pkg_resources.html. The pkg_resources package is slated for removal as early as 2025-11-30. Refrain from using this package or pin to Setuptools<81.\n",
      "  from pkg_resources import resource_filename\n"
     ]
    },
    {
     "data": {
      "text/plain": [
       "['openff_unconstrained-1.0.0.offxml',\n",
       " 'tip4p_ew.offxml',\n",
       " 'openff_unconstrained-2.0.0-rc.1.offxml',\n",
       " 'openff-1.0.0-RC1.offxml',\n",
       " 'tip3p-1.0.1.offxml',\n",
       " 'tip3p.offxml',\n",
       " 'opc-1.0.2.offxml',\n",
       " 'openff_unconstrained-1.0.1.offxml',\n",
       " 'openff_unconstrained-1.3.1-alpha.1.offxml',\n",
       " 'spce-1.0.0.offxml',\n",
       " 'openff-2.0.0.offxml',\n",
       " 'tip4p_fb-1.0.0.offxml',\n",
       " 'tip5p-1.0.0.offxml',\n",
       " 'openff_unconstrained-2.0.0-rc.2.offxml',\n",
       " 'openff-1.0.1.offxml',\n",
       " 'openff-2.2.0.offxml',\n",
       " 'opc3-1.0.1.offxml',\n",
       " 'openff_unconstrained-1.1.1.offxml',\n",
       " 'openff_unconstrained-2.2.1-rc1.offxml',\n",
       " 'tip4p_ew-1.0.0.offxml',\n",
       " 'openff_unconstrained-2.1.0-rc.1.offxml',\n",
       " 'openff_unconstrained-1.2.1.offxml',\n",
       " 'openff-2.2.1.offxml',\n",
       " 'tip3p-1.0.0.offxml',\n",
       " 'opc-1.0.1.offxml',\n",
       " 'tip3p_fb.offxml',\n",
       " 'openff_unconstrained-1.1.0.offxml',\n",
       " 'openff_unconstrained-2.2.0.offxml',\n",
       " 'openff_unconstrained-2.2.1.offxml',\n",
       " 'openff-2.0.0-rc.1.offxml',\n",
       " 'openff-1.3.0.offxml',\n",
       " 'openff_unconstrained-1.2.0.offxml',\n",
       " 'tip3p_fb-1.1.0.offxml',\n",
       " 'openff_unconstrained-1.0.0-RC2.offxml',\n",
       " 'openff_unconstrained-2.2.0-rc1.offxml',\n",
       " 'openff-2.0.0-rc.2.offxml',\n",
       " 'openff-1.2.0.offxml',\n",
       " 'tip3p_fb-1.0.0.offxml',\n",
       " 'openff_unconstrained-1.0.0-RC1.offxml',\n",
       " 'openff-1.0.0.offxml',\n",
       " 'openff-1.3.1.offxml',\n",
       " 'openff_unconstrained-2.0.0.offxml',\n",
       " 'tip4p_fb-1.0.1.offxml',\n",
       " 'tip4p_fb.offxml',\n",
       " 'opc.offxml',\n",
       " 'openff-1.1.1.offxml',\n",
       " 'openff-2.1.0-rc.1.offxml',\n",
       " 'tip5p.offxml',\n",
       " 'openff-2.1.0.offxml',\n",
       " 'spce.offxml',\n",
       " 'opc3.offxml',\n",
       " 'openff_unconstrained-2.1.1.offxml',\n",
       " 'opc-1.0.0.offxml',\n",
       " 'opc3-1.0.0.offxml',\n",
       " 'openff-1.3.1-alpha.1.offxml',\n",
       " 'openff-2.2.1-rc1.offxml',\n",
       " 'openff_unconstrained-2.1.0.offxml',\n",
       " 'openff_unconstrained-1.3.1.offxml',\n",
       " 'openff-2.2.0-rc1.offxml',\n",
       " 'openff-1.2.1.offxml',\n",
       " 'tip3p_fb-1.1.1.offxml',\n",
       " 'openff_unconstrained-1.3.0.offxml',\n",
       " 'openff-2.1.1.offxml',\n",
       " 'openff-1.0.0-RC2.offxml',\n",
       " 'openff-1.1.0.offxml',\n",
       " 'smirnoff99Frosst-1.0.7.offxml',\n",
       " 'smirnoff99Frosst-1.0.9.offxml',\n",
       " 'smirnoff99Frosst-1.1.0.offxml',\n",
       " 'smirnoff99Frosst-1.0.5.offxml',\n",
       " 'smirnoff99Frosst-1.0.6.offxml',\n",
       " 'smirnoff99Frosst-1.0.2.offxml',\n",
       " 'smirnoff99Frosst-1.0.1.offxml',\n",
       " 'smirnoff99Frosst-1.0.8.offxml',\n",
       " 'smirnoff99Frosst-1.0.0.offxml',\n",
       " 'smirnoff99Frosst-1.0.3.offxml',\n",
       " 'smirnoff99Frosst-1.0.4.offxml',\n",
       " 'ff14sb_off_impropers_0.0.2.offxml',\n",
       " 'ff14sb_0.0.3.offxml',\n",
       " 'ff14sb_off_impropers_0.0.4.offxml',\n",
       " 'ff14sb_0.0.1.offxml',\n",
       " 'ff14sb_0.0.4.offxml',\n",
       " 'ff14sb_off_impropers_0.0.1.offxml',\n",
       " 'ff14sb_off_impropers_0.0.3.offxml',\n",
       " 'ff14sb_0.0.2.offxml']"
      ]
     },
     "execution_count": 2,
     "metadata": {},
     "output_type": "execute_result"
    }
   ],
   "source": [
    "get_available_force_fields()"
   ]
  },
  {
   "cell_type": "code",
   "execution_count": 1,
   "metadata": {},
   "outputs": [],
   "source": [
    "from batter.ligand_process import LigandFactory"
   ]
  },
  {
   "cell_type": "code",
   "execution_count": 2,
   "metadata": {},
   "outputs": [],
   "source": [
    "ligand_path = '2RH1.sdf'\n",
    "ind = 0\n",
    "ligandff_folder = 'test_pipeline'\n",
    "ligand_name = 'g1i'\n",
    "retain_lig_prot = True\n",
    "ligand_ff = 'openff-2.2.1'"
   ]
  },
  {
   "cell_type": "code",
   "execution_count": 3,
   "metadata": {},
   "outputs": [],
   "source": [
    "ligand_factory = LigandFactory()\n",
    "ligand = ligand_factory.create_ligand(\n",
    "        ligand_file=ligand_path,\n",
    "        index=ind,\n",
    "        output_dir=ligandff_folder,\n",
    "        ligand_name=ligand_name,\n",
    "        retain_lig_prot=retain_lig_prot,\n",
    "        ligand_ff=ligand_ff\n",
    ")"
   ]
  },
  {
   "cell_type": "code",
   "execution_count": 4,
   "metadata": {},
   "outputs": [
    {
     "name": "stderr",
     "output_type": "stream",
     "text": [
      "INFO | \u001b[1mThe net charge of the ligand g1i in 2RH1.sdf is 1.0.\u001b[0m \n",
      "INFO | \u001b[1mLigand g1i AMBER parameters prepared: /oak/stanford/groups/rondror/users/yuzhuang/software/batter/batter/tests/ligand/test_pipeline/g1i.lib\u001b[0m \n",
      "INFO | \u001b[1mLigand g1i OpenFF parameters prepared: /oak/stanford/groups/rondror/users/yuzhuang/software/batter/batter/tests/ligand/test_pipeline/g1i.prmtop\u001b[0m \n"
     ]
    }
   ],
   "source": [
    "ligand.prepare_ligand_parameters()"
   ]
  },
  {
   "cell_type": "code",
   "execution_count": null,
   "metadata": {},
   "outputs": [],
   "source": [
    "ligand.op"
   ]
  },
  {
   "cell_type": "code",
   "execution_count": 5,
   "metadata": {},
   "outputs": [],
   "source": [
    "from openff.toolkit import ForceField, Molecule, Topology\n",
    "from openfe import SmallMoleculeComponent"
   ]
  },
  {
   "cell_type": "code",
   "execution_count": 6,
   "metadata": {},
   "outputs": [],
   "source": [
    "openff_ff = ForceField(f\"{ligand.ligand_ff}.offxml\")\n",
    "topology = Topology()\n",
    "topology.add_molecule(ligand.openff_molecule)\n",
    "interchange = openff_ff.create_interchange(topology)"
   ]
  },
  {
   "cell_type": "code",
   "execution_count": 40,
   "metadata": {},
   "outputs": [
    {
     "data": {
      "text/plain": [
       "{'_aromaticity_model': 'OEAroModel_MDL',\n",
       " '_constrained_atom_pairs': {},\n",
       " '_box_vectors': None,\n",
       " '_molecules': [Molecule with name 'g1i' and SMILES '[H][O][C@]([H])([C]([H])([H])[O][c]1[c]([H])[c]([H])[c]([H])[c]2[c]1-[c]1[c]([H])[c]([H])[c]([H])[c]([H])[c]1[N]2[H])[C]([H])([H])[N+]([H])([H])[C]([H])([C]([H])([H])[H])[C]([H])([H])[H]'],\n",
       " '_cached_chemically_identical_molecules': None}"
      ]
     },
     "execution_count": 40,
     "metadata": {},
     "output_type": "execute_result"
    }
   ],
   "source": [
    "interchange.topology.__dict__"
   ]
  },
  {
   "cell_type": "code",
   "execution_count": 12,
   "metadata": {},
   "outputs": [
    {
     "data": {
      "text/plain": [
       "139963616030176"
      ]
     },
     "execution_count": 12,
     "metadata": {},
     "output_type": "execute_result"
    }
   ],
   "source": [
    "id(interchange.topology)"
   ]
  },
  {
   "cell_type": "code",
   "execution_count": 9,
   "metadata": {},
   "outputs": [
    {
     "name": "stdout",
     "output_type": "stream",
     "text": [
      "g1i\n"
     ]
    }
   ],
   "source": [
    "for residue in interchange.topology.hierarchy_iterator(\"residues\"):\n",
    "    residue.residue_name = 'g1i'\n",
    "    print(residue.residue_name)"
   ]
  },
  {
   "cell_type": "code",
   "execution_count": 11,
   "metadata": {},
   "outputs": [],
   "source": [
    "\n",
    "interchange.to_prmtop(f\"test.prmtop\")"
   ]
  },
  {
   "cell_type": "code",
   "execution_count": null,
   "metadata": {},
   "outputs": [],
   "source": []
  }
 ],
 "metadata": {
  "kernelspec": {
   "display_name": "openfe_env",
   "language": "python",
   "name": "python3"
  },
  "language_info": {
   "codemirror_mode": {
    "name": "ipython",
    "version": 3
   },
   "file_extension": ".py",
   "mimetype": "text/x-python",
   "name": "python",
   "nbconvert_exporter": "python",
   "pygments_lexer": "ipython3",
   "version": "3.12.11"
  }
 },
 "nbformat": 4,
 "nbformat_minor": 2
}
