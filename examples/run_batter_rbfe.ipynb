{
 "cells": [
  {
   "cell_type": "code",
   "execution_count": 1,
   "metadata": {},
   "outputs": [
    {
     "name": "stderr",
     "output_type": "stream",
     "text": [
      "/scratch/users/yuzhuang/miniforge3/envs/batter/lib/python3.11/site-packages/tqdm/auto.py:21: TqdmWarning: IProgress not found. Please update jupyter and ipywidgets. See https://ipywidgets.readthedocs.io/en/stable/user_install.html\n",
      "  from .autonotebook import tqdm as notebook_tqdm\n"
     ]
    }
   ],
   "source": [
    "import glob\n",
    "import numpy as np\n",
    "from batter import RBFESystem\n",
    "from batter.input_process import get_configure_from_file, parse_input_file\n",
    "\n",
    "from logging import getLogger, DEBUG \n",
    "logger = getLogger()\n",
    "logger.setLevel(DEBUG)"
   ]
  },
  {
   "cell_type": "code",
   "execution_count": 2,
   "metadata": {},
   "outputs": [],
   "source": [
    "protein_file = 'data/7T2G_mp/protein_input.pdb'\n",
    "system_file = 'data/7T2G_mp/system_input.pdb'\n",
    "ligand_files = ['data/7T2G_mp/ligand_MP.pdb',\n",
    "                'data/7T2G_mp/ligand_MP2.pdb',\n",
    "                'data/7T2G_mp/ligand_DAMGO.pdb']\n",
    "#system_inpcrd = 'data/7T2G_mp/system_input.inpcrd'\n",
    "equilibrated_rst = 'data/7T2G_mp/equilibrated.rst'"
   ]
  },
  {
   "cell_type": "code",
   "execution_count": 3,
   "metadata": {},
   "outputs": [
    {
     "name": "stderr",
     "output_type": "stream",
     "text": [
      "10-Jan-2025 12:25:14 | INFO | Loading an existing system: /oak/stanford/groups/rondror/users/yuzhuang/software/batter/examples/test/rbfe/\n",
      "10-Jan-2025 12:25:15 | INFO | The folder does not contain fe: /oak/stanford/groups/rondror/users/yuzhuang/software/batter/examples/test/rbfe/\n"
     ]
    }
   ],
   "source": [
    "output_folder = 'test/rbfe'\n",
    "test_system = RBFESystem(folder=output_folder)"
   ]
  },
  {
   "cell_type": "code",
   "execution_count": 4,
   "metadata": {},
   "outputs": [
    {
     "name": "stderr",
     "output_type": "stream",
     "text": [
      "10-Jan-2025 12:25:17 | INFO | Input: membrane system\n",
      "10-Jan-2025 12:25:17 | INFO | Getting the alignment of the protein and ligand to the system\n",
      "10-Jan-2025 12:25:17 | WARNING | Elongating the ligand name: mp to mp1\n",
      "10-Jan-2025 12:25:17 | WARNING | Elongating the ligand name: mp to mp2\n",
      "10-Jan-2025 12:25:17 | WARNING | Shortening the ligand name: damg to dam\n",
      "10-Jan-2025 12:25:17 | INFO | Preparing ligand poses\n",
      "10-Jan-2025 12:25:18 | INFO | System loaded and prepared\n"
     ]
    }
   ],
   "source": [
    "test_system.create_system(\n",
    "            system_name='7T2G',\n",
    "            protein_input=protein_file,\n",
    "            system_topology=system_file,\n",
    "            system_coordinate=equilibrated_rst,\n",
    "            ligand_paths=ligand_files,\n",
    "#            overwrite=True,\n",
    "            lipid_mol=['POPC'])"
   ]
  },
  {
   "cell_type": "code",
   "execution_count": 5,
   "metadata": {},
   "outputs": [
    {
     "name": "stdout",
     "output_type": "stream",
     "text": [
      "l1_x: 1.98\n",
      "l1_y: -6.75\n",
      "l1_z: 4.06\n"
     ]
    }
   ],
   "source": [
    "import MDAnalysis as mda\n",
    "\n",
    "u_prot = mda.Universe(f'{output_folder}/all-poses/reference.pdb')\n",
    "u_lig = mda.Universe(f'{output_folder}/all-poses/pose0.pdb')\n",
    "u_merge = mda.Merge(u_prot.atoms, u_lig.atoms)\n",
    "\n",
    "P1_atom = u_merge.select_atoms('name CA and resid 149')\n",
    "P2_atom = u_merge.select_atoms('name CA and resid 119')\n",
    "P3_atom = u_merge.select_atoms('name CA and resid 328')\n",
    "if P1_atom.n_atoms != 1 or P2_atom.n_atoms != 1 or P3_atom.n_atoms != 1:\n",
    "    raise ValueError('Error: more than one atom selected')\n",
    "\n",
    "lig_atom = u_merge.select_atoms(f'resname {u_lig.atoms.resnames[0]} and name C12')\n",
    "\n",
    "# get ll_x,y,z distances\n",
    "r_vect = lig_atom.center_of_mass() - P1_atom.positions\n",
    "print(f'l1_x: {r_vect[0][0]:.2f}')\n",
    "print(f'l1_y: {r_vect[0][1]:.2f}')\n",
    "print(f'l1_z: {r_vect[0][2]:.2f}')"
   ]
  },
  {
   "cell_type": "markdown",
   "metadata": {},
   "source": [
    "Modify the `test/abfe/abfe.in` file to include the following lines based on the output of the above script:\n",
    "    \n",
    "```bash\n",
    "    l1_x: xxx\n",
    "    l1_y: xxx\n",
    "    l1_z: xxx\n",
    "```"
   ]
  },
  {
   "cell_type": "code",
   "execution_count": 6,
   "metadata": {},
   "outputs": [],
   "source": [
    "sim_config = get_configure_from_file('data/md_input/lipid_rbfe.in')"
   ]
  },
  {
   "cell_type": "code",
   "execution_count": 7,
   "metadata": {},
   "outputs": [
    {
     "name": "stderr",
     "output_type": "stream",
     "text": [
      "10-Jan-2025 12:25:31 | INFO | Preparing the system\n",
      "10-Jan-2025 12:25:31 | INFO | Simulation configuration: software='amber' calc_type='dock' celpp_receptor='7T2G' poses_list=['0', '1', '2'] p1=':147@CA' p2=':117@CA' p3=':326@CA' ligand_list=[] other_mol=[] solv_shell=4.0 lipid_mol=['POPC', 'PA', 'PC', 'OL'] fe_type='relative' components=['x', 'e', 'n', 'm'] release_eq=[10.0, 2.5, 0.5, 0.0] attach_rest=[0.0, 0.1, 0.24, 0.56, 1.33, 3.16, 7.5, 10.5, 17.78, 20.0, 42.17, 50.0, 60.0, 75.0, 80.0, 100.0] ti_points=0 lambdas=[0.0001, 0.02, 0.04, 0.06, 0.1, 0.15, 0.2, 0.25, 0.3, 0.35, 0.4, 0.45, 0.5, 0.55, 0.6, 0.65, 0.7, 0.75, 0.8, 0.85, 0.92, 0.96, 0.98, 0.9999] sdr_dist=40.0 dec_method='exchange' dec_int='mbar' blocks=5 rec_dihcf_force=50.0 rec_discf_force=5.0 lig_distance_force=5.0 lig_angle_force=250.0 lig_dihcf_force=70.0 rec_com_force=10.0 lig_com_force=10.0 water_model='TIP3P' num_waters=0 buffer_x=12.0 buffer_y=12.0 buffer_z=22.0 lig_buffer=15.0 neutralize_only='no' cation='Na+' anion='Cl-' ion_conc=0.15 hmr='yes' temperature=310.0 eq_steps1=100000 eq_steps2=5000000 n_steps_dict={'a_steps1': 100000, 'a_steps2': 200000, 'l_steps1': 100000, 'l_steps2': 200000, 't_steps1': 100000, 't_steps2': 200000, 'm_steps1': 100000, 'm_steps2': 200000, 'n_steps1': 100000, 'n_steps2': 200000, 'c_steps1': 100000, 'c_steps2': 200000, 'r_steps1': 100000, 'r_steps2': 200000, 'e_steps1': 200000, 'e_steps2': 400000, 'v_steps1': 400000, 'v_steps2': 600000, 'f_steps1': 100000, 'f_steps2': 200000, 'w_steps1': 100000, 'w_steps2': 200000, 'x_steps1': 100000, 'x_steps2': 200000} n_iter_dict={'a_itera1': 0, 'a_itera2': 0, 'l_itera1': 0, 'l_itera2': 0, 't_itera1': 0, 't_itera2': 0, 'm_itera1': 0, 'm_itera2': 0, 'n_itera1': 0, 'n_itera2': 0, 'c_itera1': 0, 'c_itera2': 0, 'r_itera1': 0, 'r_itera2': 0, 'e_itera1': 0, 'e_itera2': 0, 'v_itera1': 0, 'v_itera2': 0, 'f_itera1': 0, 'f_itera2': 0, 'w_itera1': 0, 'w_itera2': 0, 'x_itera1': 0, 'x_itera2': 0} rec_bb='no' bb_start=[1] bb_end=[0] bb_equil='no' l1_x=2.07 l1_y=-6.71 l1_z=4.09 l1_range=2.5 min_adis=3.0 max_adis=7.0 dlambda=0.001 ntpr='1000' ntwr='10000' ntwe='0' ntwx='2500' cut='9.0' gamma_ln='1.0' barostat='2' dt='0.004' itcheck='100' receptor_ff='protein.ff14SB' ligand_ff='gaff2' ligand_ph=7.0 retain_lig_prot='yes' ligand_charge=1 lipid_ff='lipid21' weights=[] mols=[] rng=3 ion_def=['Na+', 'Cl-', 0.15] poses_def=['pose0', 'pose1', 'pose2'] dic_steps1={'a': 100000, 'l': 100000, 't': 100000, 'm': 100000, 'n': 100000, 'c': 100000, 'r': 100000, 'e': 200000, 'v': 400000, 'f': 100000, 'w': 100000, 'x': 100000} dic_steps2={'a': 200000, 'l': 200000, 't': 200000, 'm': 200000, 'n': 200000, 'c': 200000, 'r': 200000, 'e': 400000, 'v': 600000, 'f': 200000, 'w': 200000, 'x': 200000} dic_itera1={'a': 0, 'l': 0, 't': 0, 'm': 0, 'n': 0, 'c': 0, 'r': 0, 'e': 0, 'v': 0, 'f': 0, 'w': 0, 'x': 0} dic_itera2={'a': 0, 'l': 0, 't': 0, 'm': 0, 'n': 0, 'c': 0, 'r': 0, 'e': 0, 'v': 0, 'f': 0, 'w': 0, 'x': 0} H1=':147@CA' H2=':117@CA' H3=':326@CA' rest=[50.0, 5.0, 5.0, 250.0, 70.0, 10.0, 10.0] celp_st='7T2G' neut='no' apr_sim=2\n",
      "10-Jan-2025 12:25:31 | INFO | Prepare for equilibration stage at /oak/stanford/groups/rondror/users/yuzhuang/software/batter/examples/test/rbfe//equil\n",
      "10-Jan-2025 12:25:31 | INFO | Prepare for equilibration stage\n",
      "10-Jan-2025 12:25:31 | INFO | Preparing pose: pose0\n",
      "10-Jan-2025 12:25:31 | INFO | Building pose0...\n",
      "10-Jan-2025 12:25:34 | WARNING | Receptor is not set as chain A; trying to fetch the first residue from the protein and it may be wrong.\n",
      "10-Jan-2025 12:25:34 | INFO | P1: :82@CA\n",
      "10-Jan-2025 12:25:34 | INFO | P2: :52@CA\n",
      "10-Jan-2025 12:25:34 | INFO | P3: :261@CA\n",
      "10-Jan-2025 12:25:34 | WARNING | The residue names of the lipids are four-letter names.They were truncated to three-letter namesfor compatibility with AMBER.\n"
     ]
    },
    {
     "name": "stdout",
     "output_type": "stream",
     "text": [
      "Building the system in /oak/stanford/groups/rondror/users/yuzhuang/software/batter/examples/test/rbfe/equil/pose0\n"
     ]
    },
    {
     "name": "stderr",
     "output_type": "stream",
     "text": [
      "10-Jan-2025 12:25:45 | INFO | Ligand anchors:\n",
      "10-Jan-2025 12:25:45 | INFO | L1: :289@C24\n",
      "10-Jan-2025 12:25:45 | INFO | L2: :289@C49\n",
      "10-Jan-2025 12:25:45 | INFO | L3: :289@O51\n",
      "10-Jan-2025 12:25:45 | WARNING | WARNING: Switch to Berendsen barostat\n",
      "10-Jan-2025 12:26:17 | INFO | Preparing pose: pose1\n",
      "10-Jan-2025 12:26:17 | INFO | Building pose1...\n",
      "10-Jan-2025 12:26:19 | WARNING | Receptor is not set as chain A; trying to fetch the first residue from the protein and it may be wrong.\n",
      "10-Jan-2025 12:26:19 | INFO | P1: :82@CA\n",
      "10-Jan-2025 12:26:19 | INFO | P2: :52@CA\n",
      "10-Jan-2025 12:26:19 | INFO | P3: :261@CA\n",
      "10-Jan-2025 12:26:19 | WARNING | The residue names of the lipids are four-letter names.They were truncated to three-letter namesfor compatibility with AMBER.\n",
      "10-Jan-2025 12:26:29 | INFO | Ligand anchors:\n",
      "10-Jan-2025 12:26:29 | INFO | L1: :289@C24\n",
      "10-Jan-2025 12:26:29 | INFO | L2: :289@C49\n",
      "10-Jan-2025 12:26:29 | INFO | L3: :289@O51\n"
     ]
    },
    {
     "name": "stdout",
     "output_type": "stream",
     "text": [
      "Building the system in /oak/stanford/groups/rondror/users/yuzhuang/software/batter/examples/test/rbfe/equil/pose1\n"
     ]
    },
    {
     "name": "stderr",
     "output_type": "stream",
     "text": [
      "10-Jan-2025 12:26:29 | WARNING | WARNING: Switch to Berendsen barostat\n",
      "10-Jan-2025 12:27:01 | INFO | Preparing pose: pose2\n",
      "10-Jan-2025 12:27:01 | INFO | Building pose2...\n",
      "10-Jan-2025 12:27:03 | WARNING | Receptor is not set as chain A; trying to fetch the first residue from the protein and it may be wrong.\n",
      "10-Jan-2025 12:27:03 | INFO | P1: :82@CA\n",
      "10-Jan-2025 12:27:03 | INFO | P2: :52@CA\n",
      "10-Jan-2025 12:27:03 | INFO | P3: :261@CA\n",
      "10-Jan-2025 12:27:03 | WARNING | The residue names of the lipids are four-letter names.They were truncated to three-letter namesfor compatibility with AMBER.\n"
     ]
    },
    {
     "name": "stdout",
     "output_type": "stream",
     "text": [
      "Building the system in /oak/stanford/groups/rondror/users/yuzhuang/software/batter/examples/test/rbfe/equil/pose2\n"
     ]
    },
    {
     "name": "stderr",
     "output_type": "stream",
     "text": [
      "10-Jan-2025 12:27:14 | INFO | Ligand anchors:\n",
      "10-Jan-2025 12:27:14 | INFO | L1: :289@C16\n",
      "10-Jan-2025 12:27:14 | INFO | L2: :289@N\n",
      "10-Jan-2025 12:27:14 | INFO | L3: :289@C10\n",
      "10-Jan-2025 12:27:14 | WARNING | WARNING: Switch to Berendsen barostat\n",
      "10-Jan-2025 12:27:45 | INFO | Equilibration systems have been created for all poses listed in the input file.\n",
      "10-Jan-2025 12:27:45 | INFO | now cd equil/pose0\n",
      "10-Jan-2025 12:27:45 | INFO | sbatch SLURMM-run\n",
      "10-Jan-2025 12:27:45 | INFO | Equil System prepared\n"
     ]
    }
   ],
   "source": [
    "# Prepare the system for the equilibration stage\n",
    "test_system.prepare(\n",
    "    stage='equil',\n",
    "#    input_file='data/md_input/lipid.in',\n",
    "    input_file=sim_config,\n",
    "    overwrite=False,\n",
    ")"
   ]
  },
  {
   "cell_type": "code",
   "execution_count": 9,
   "metadata": {},
   "outputs": [
    {
     "name": "stderr",
     "output_type": "stream",
     "text": [
      "09-Jan-2025 15:08:41 | INFO | Submit equilibration stage\n",
      "09-Jan-2025 15:08:43 | INFO | Equilibration systems have been submitted for all poses listed in the input file.\n"
     ]
    }
   ],
   "source": [
    "# Submit the equilibration job to SLURM\n",
    "test_system.submit(stage='equil')"
   ]
  },
  {
   "cell_type": "code",
   "execution_count": 8,
   "metadata": {},
   "outputs": [
    {
     "name": "stderr",
     "output_type": "stream",
     "text": [
      "10-Jan-2025 12:34:26 | INFO | Preparing the system\n",
      "10-Jan-2025 12:34:26 | INFO | Simulation configuration: software='amber' calc_type='dock' celpp_receptor='7T2G' poses_list=['0', '1', '2'] p1=':147@CA' p2=':117@CA' p3=':326@CA' ligand_list=[] other_mol=[] solv_shell=4.0 lipid_mol=['POPC', 'PA', 'PC', 'OL'] fe_type='relative' components=['x', 'e', 'n', 'm'] release_eq=[10.0, 2.5, 0.5, 0.0] attach_rest=[0.0, 0.1, 0.24, 0.56, 1.33, 3.16, 7.5, 10.5, 17.78, 20.0, 42.17, 50.0, 60.0, 75.0, 80.0, 100.0] ti_points=0 lambdas=[0.0001, 0.02, 0.04, 0.06, 0.1, 0.15, 0.2, 0.25, 0.3, 0.35, 0.4, 0.45, 0.5, 0.55, 0.6, 0.65, 0.7, 0.75, 0.8, 0.85, 0.92, 0.96, 0.98, 0.9999] sdr_dist=40.0 dec_method='exchange' dec_int='mbar' blocks=5 rec_dihcf_force=50.0 rec_discf_force=5.0 lig_distance_force=5.0 lig_angle_force=250.0 lig_dihcf_force=70.0 rec_com_force=10.0 lig_com_force=10.0 water_model='TIP3P' num_waters=0 buffer_x=12.0 buffer_y=12.0 buffer_z=22.0 lig_buffer=15.0 neutralize_only='no' cation='Na+' anion='Cl-' ion_conc=0.15 hmr='yes' temperature=310.0 eq_steps1=100000 eq_steps2=5000000 n_steps_dict={'a_steps1': 100000, 'a_steps2': 200000, 'l_steps1': 100000, 'l_steps2': 200000, 't_steps1': 100000, 't_steps2': 200000, 'm_steps1': 100000, 'm_steps2': 200000, 'n_steps1': 100000, 'n_steps2': 200000, 'c_steps1': 100000, 'c_steps2': 200000, 'r_steps1': 100000, 'r_steps2': 200000, 'e_steps1': 200000, 'e_steps2': 400000, 'v_steps1': 400000, 'v_steps2': 600000, 'f_steps1': 100000, 'f_steps2': 200000, 'w_steps1': 100000, 'w_steps2': 200000, 'x_steps1': 100000, 'x_steps2': 200000} n_iter_dict={'a_itera1': 0, 'a_itera2': 0, 'l_itera1': 0, 'l_itera2': 0, 't_itera1': 0, 't_itera2': 0, 'm_itera1': 0, 'm_itera2': 0, 'n_itera1': 0, 'n_itera2': 0, 'c_itera1': 0, 'c_itera2': 0, 'r_itera1': 0, 'r_itera2': 0, 'e_itera1': 0, 'e_itera2': 0, 'v_itera1': 0, 'v_itera2': 0, 'f_itera1': 0, 'f_itera2': 0, 'w_itera1': 0, 'w_itera2': 0, 'x_itera1': 0, 'x_itera2': 0} rec_bb='no' bb_start=[1] bb_end=[0] bb_equil='no' l1_x=2.07 l1_y=-6.71 l1_z=4.09 l1_range=2.5 min_adis=3.0 max_adis=7.0 dlambda=0.001 ntpr='1000' ntwr='10000' ntwe='0' ntwx='2500' cut='9.0' gamma_ln='1.0' barostat='2' dt='0.004' itcheck='100' receptor_ff='protein.ff14SB' ligand_ff='gaff2' ligand_ph=7.0 retain_lig_prot='yes' ligand_charge=1 lipid_ff='lipid21' weights=[] mols=[] rng=3 ion_def=['Na+', 'Cl-', 0.15] poses_def=['pose0', 'pose1', 'pose2'] dic_steps1={'a': 100000, 'l': 100000, 't': 100000, 'm': 100000, 'n': 100000, 'c': 100000, 'r': 100000, 'e': 200000, 'v': 400000, 'f': 100000, 'w': 100000, 'x': 100000} dic_steps2={'a': 200000, 'l': 200000, 't': 200000, 'm': 200000, 'n': 200000, 'c': 200000, 'r': 200000, 'e': 400000, 'v': 600000, 'f': 200000, 'w': 200000, 'x': 200000} dic_itera1={'a': 0, 'l': 0, 't': 0, 'm': 0, 'n': 0, 'c': 0, 'r': 0, 'e': 0, 'v': 0, 'f': 0, 'w': 0, 'x': 0} dic_itera2={'a': 0, 'l': 0, 't': 0, 'm': 0, 'n': 0, 'c': 0, 'r': 0, 'e': 0, 'v': 0, 'f': 0, 'w': 0, 'x': 0} H1=':147@CA' H2=':117@CA' H3=':326@CA' rest=[50.0, 5.0, 5.0, 250.0, 70.0, 10.0, 10.0] celp_st='7T2G' neut='no' apr_sim=2\n"
     ]
    },
    {
     "ename": "NotImplementedError",
     "evalue": "Free energy system preparation is not implemented yet",
     "output_type": "error",
     "traceback": [
      "\u001b[0;31m---------------------------------------------------------------------------\u001b[0m",
      "\u001b[0;31mNotImplementedError\u001b[0m                       Traceback (most recent call last)",
      "Cell \u001b[0;32mIn[8], line 2\u001b[0m\n\u001b[1;32m      1\u001b[0m \u001b[38;5;66;03m# Prepare the system for the free energy calculation\u001b[39;00m\n\u001b[0;32m----> 2\u001b[0m \u001b[43mtest_system\u001b[49m\u001b[38;5;241;43m.\u001b[39;49m\u001b[43mprepare\u001b[49m\u001b[43m(\u001b[49m\n\u001b[1;32m      3\u001b[0m \u001b[43m    \u001b[49m\u001b[43mstage\u001b[49m\u001b[38;5;241;43m=\u001b[39;49m\u001b[38;5;124;43m'\u001b[39;49m\u001b[38;5;124;43mfe\u001b[39;49m\u001b[38;5;124;43m'\u001b[39;49m\u001b[43m,\u001b[49m\n\u001b[1;32m      4\u001b[0m \u001b[38;5;66;43;03m#    input_file='data/md_input/lipid_rbfe.in',\u001b[39;49;00m\n\u001b[1;32m      5\u001b[0m \u001b[43m    \u001b[49m\u001b[43minput_file\u001b[49m\u001b[38;5;241;43m=\u001b[39;49m\u001b[43msim_config\u001b[49m\u001b[43m,\u001b[49m\n\u001b[1;32m      6\u001b[0m \u001b[38;5;66;43;03m#    overwrite=True,\u001b[39;49;00m\n\u001b[1;32m      7\u001b[0m \u001b[43m)\u001b[49m\n",
      "File \u001b[0;32m/oak/stanford/groups/rondror/users/yuzhuang/software/batter/batter/batter.py:633\u001b[0m, in \u001b[0;36mSystem.prepare\u001b[0;34m(self, stage, input_file, overwrite)\u001b[0m\n\u001b[1;32m    630\u001b[0m \u001b[38;5;28;01mwith\u001b[39;00m \u001b[38;5;28mopen\u001b[39m(\u001b[38;5;124mf\u001b[39m\u001b[38;5;124m\"\u001b[39m\u001b[38;5;132;01m{\u001b[39;00m\u001b[38;5;28mself\u001b[39m\u001b[38;5;241m.\u001b[39mfe_folder\u001b[38;5;132;01m}\u001b[39;00m\u001b[38;5;124m/sim_config.json\u001b[39m\u001b[38;5;124m\"\u001b[39m, \u001b[38;5;124m'\u001b[39m\u001b[38;5;124mw\u001b[39m\u001b[38;5;124m'\u001b[39m) \u001b[38;5;28;01mas\u001b[39;00m f:\n\u001b[1;32m    631\u001b[0m     json\u001b[38;5;241m.\u001b[39mdump(sim_config\u001b[38;5;241m.\u001b[39mmodel_dump(), f, indent\u001b[38;5;241m=\u001b[39m\u001b[38;5;241m2\u001b[39m)\n\u001b[0;32m--> 633\u001b[0m \u001b[38;5;28;43mself\u001b[39;49m\u001b[38;5;241;43m.\u001b[39;49m\u001b[43m_prepare_fe_system\u001b[49m\u001b[43m(\u001b[49m\u001b[43m)\u001b[49m\n\u001b[1;32m    634\u001b[0m logger\u001b[38;5;241m.\u001b[39minfo(\u001b[38;5;124m'\u001b[39m\u001b[38;5;124mFE System prepared\u001b[39m\u001b[38;5;124m'\u001b[39m)\n",
      "File \u001b[0;32m/oak/stanford/groups/rondror/users/yuzhuang/software/batter/batter/batter.py:742\u001b[0m, in \u001b[0;36mSystem._prepare_fe_system\u001b[0;34m(self)\u001b[0m\n\u001b[1;32m    738\u001b[0m \u001b[38;5;28;01mdef\u001b[39;00m \u001b[38;5;21m_prepare_fe_system\u001b[39m(\u001b[38;5;28mself\u001b[39m):\n\u001b[1;32m    739\u001b[0m \u001b[38;5;250m    \u001b[39m\u001b[38;5;124;03m\"\"\"\u001b[39;00m\n\u001b[1;32m    740\u001b[0m \u001b[38;5;124;03m    Prepare the free energy system.\u001b[39;00m\n\u001b[1;32m    741\u001b[0m \u001b[38;5;124;03m    \"\"\"\u001b[39;00m\n\u001b[0;32m--> 742\u001b[0m     \u001b[38;5;28;01mraise\u001b[39;00m \u001b[38;5;167;01mNotImplementedError\u001b[39;00m(\u001b[38;5;124m\"\u001b[39m\u001b[38;5;124mFree energy system preparation is not implemented yet\u001b[39m\u001b[38;5;124m\"\u001b[39m)\n\u001b[1;32m    743\u001b[0m     sim_config \u001b[38;5;241m=\u001b[39m \u001b[38;5;28mself\u001b[39m\u001b[38;5;241m.\u001b[39msim_config\n\u001b[1;32m    744\u001b[0m     \u001b[38;5;28;01mif\u001b[39;00m \u001b[38;5;28mself\u001b[39m\u001b[38;5;241m.\u001b[39moverwrite:\n",
      "\u001b[0;31mNotImplementedError\u001b[0m: Free energy system preparation is not implemented yet"
     ]
    }
   ],
   "source": [
    "# Prepare the system for the free energy calculation\n",
    "test_system.prepare(\n",
    "    stage='fe',\n",
    "#    input_file='data/md_input/lipid_rbfe.in',\n",
    "    input_file=sim_config,\n",
    "#    overwrite=True,\n",
    ")"
   ]
  },
  {
   "cell_type": "code",
   "execution_count": null,
   "metadata": {},
   "outputs": [],
   "source": []
  },
  {
   "cell_type": "code",
   "execution_count": 22,
   "metadata": {},
   "outputs": [],
   "source": [
    "import MDAnalysis as mda\n",
    "u = mda.Universe('./data/7T2G_mp/ligand_DAMGO.pdb')"
   ]
  },
  {
   "cell_type": "code",
   "execution_count": 23,
   "metadata": {},
   "outputs": [],
   "source": [
    "from MDAnalysis.guesser.default_guesser import DefaultGuesser"
   ]
  },
  {
   "cell_type": "code",
   "execution_count": 24,
   "metadata": {},
   "outputs": [],
   "source": [
    "u.guess_TopologyAttrs(to_guess=['elements'])"
   ]
  },
  {
   "cell_type": "code",
   "execution_count": 25,
   "metadata": {},
   "outputs": [],
   "source": [
    "u.add_TopologyAttr('charges')"
   ]
  },
  {
   "cell_type": "code",
   "execution_count": 26,
   "metadata": {},
   "outputs": [],
   "source": [
    "u.atoms.charges = DefaultGuesser(u).guess_gasteiger_charges(u.atoms)"
   ]
  },
  {
   "cell_type": "code",
   "execution_count": 5,
   "metadata": {},
   "outputs": [
    {
     "ename": "NameError",
     "evalue": "name 'u' is not defined",
     "output_type": "error",
     "traceback": [
      "\u001b[0;31m---------------------------------------------------------------------------\u001b[0m",
      "\u001b[0;31mNameError\u001b[0m                                 Traceback (most recent call last)",
      "Cell \u001b[0;32mIn[5], line 1\u001b[0m\n\u001b[0;32m----> 1\u001b[0m \u001b[43mu\u001b[49m\u001b[38;5;241m.\u001b[39matoms\u001b[38;5;241m.\u001b[39mcharges\u001b[38;5;241m.\u001b[39msum()\n",
      "\u001b[0;31mNameError\u001b[0m: name 'u' is not defined"
     ]
    }
   ],
   "source": [
    "u.atoms.charges.sum()"
   ]
  },
  {
   "cell_type": "code",
   "execution_count": null,
   "metadata": {},
   "outputs": [],
   "source": []
  }
 ],
 "metadata": {
  "kernelspec": {
   "display_name": "test",
   "language": "python",
   "name": "python3"
  },
  "language_info": {
   "codemirror_mode": {
    "name": "ipython",
    "version": 3
   },
   "file_extension": ".py",
   "mimetype": "text/x-python",
   "name": "python",
   "nbconvert_exporter": "python",
   "pygments_lexer": "ipython3",
   "version": "3.11.0"
  }
 },
 "nbformat": 4,
 "nbformat_minor": 2
}
