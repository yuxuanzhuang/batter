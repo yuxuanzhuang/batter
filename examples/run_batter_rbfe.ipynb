{
 "cells": [
  {
   "cell_type": "code",
   "execution_count": 1,
   "metadata": {},
   "outputs": [
    {
     "name": "stderr",
     "output_type": "stream",
     "text": [
      "/Users/scottzhuang/mambaforge/envs/test/lib/python3.11/site-packages/tqdm/auto.py:21: TqdmWarning: IProgress not found. Please update jupyter and ipywidgets. See https://ipywidgets.readthedocs.io/en/stable/user_install.html\n",
      "  from .autonotebook import tqdm as notebook_tqdm\n",
      "/Users/scottzhuang/mambaforge/envs/test/lib/python3.11/site-packages/Bio/Application/__init__.py:39: BiopythonDeprecationWarning: The Bio.Application modules and modules relying on it have been deprecated.\n",
      "\n",
      "Due to the on going maintenance burden of keeping command line application\n",
      "wrappers up to date, we have decided to deprecate and eventually remove these\n",
      "modules.\n",
      "\n",
      "We instead now recommend building your command line and invoking it directly\n",
      "with the subprocess module.\n",
      "  warnings.warn(\n"
     ]
    }
   ],
   "source": [
    "import glob\n",
    "import numpy as np\n",
    "from batter import RBFESystem\n",
    "from batter.input_process import get_configure_from_file, parse_input_file\n",
    "\n",
    "from logging import getLogger, DEBUG \n",
    "logger = getLogger()\n",
    "logger.setLevel(DEBUG)"
   ]
  },
  {
   "cell_type": "code",
   "execution_count": 2,
   "metadata": {},
   "outputs": [],
   "source": [
    "protein_file = 'data/7T2G_mp/protein_input.pdb'\n",
    "system_file = 'data/7T2G_mp/system_input.pdb'\n",
    "ligand_files = ['data/7T2G_mp/ligand_MP.pdb',\n",
    "                'data/7T2G_mp/ligand_DAMGO.pdb']\n",
    "system_inpcrd = 'data/7T2G_mp/system_input.inpcrd'"
   ]
  },
  {
   "cell_type": "code",
   "execution_count": 3,
   "metadata": {},
   "outputs": [
    {
     "name": "stderr",
     "output_type": "stream",
     "text": [
      "18-Dec-2024 21:32:42 | INFO | Loading an existing system: /Users/scottzhuang/git_rego/batter/examples/test/rbfe/\n",
      "18-Dec-2024 21:32:42 | INFO | Failed to load the system state: /Users/scottzhuang/git_rego/batter/examples/test/rbfe/\n",
      "18-Dec-2024 21:32:42 | INFO | The folder does not contain equil: /Users/scottzhuang/git_rego/batter/examples/test/rbfe/\n",
      "18-Dec-2024 21:32:42 | INFO | Failed to load the system state: /Users/scottzhuang/git_rego/batter/examples/test/rbfe/\n",
      "18-Dec-2024 21:32:42 | INFO | The folder does not contain equil: /Users/scottzhuang/git_rego/batter/examples/test/rbfe/\n"
     ]
    }
   ],
   "source": [
    "test_system = RBFESystem(folder='test/rbfe')"
   ]
  },
  {
   "cell_type": "code",
   "execution_count": 4,
   "metadata": {},
   "outputs": [
    {
     "name": "stderr",
     "output_type": "stream",
     "text": [
      "18-Dec-2024 21:32:43 | INFO | Input: membrane system\n",
      "18-Dec-2024 21:32:43 | INFO | Getting the alignment of the protein and ligand to the system\n",
      "18-Dec-2024 21:32:43 | INFO | Getting the alignment of the protein and ligand to the system\n",
      "18-Dec-2024 21:32:43 | INFO | Processing the system\n",
      "18-Dec-2024 21:32:44 | INFO | Processing ligand: sc3\n",
      "18-Dec-2024 21:32:44 | INFO | Processing ligand file: data/7T2G_mp/ligand_MP.pdb\n",
      "18-Dec-2024 21:32:45 | INFO | The babel protonation of the ligand is for pH 7.40\n",
      "18-Dec-2024 21:32:45 | INFO | The net charge of the ligand is 1.0\n",
      "18-Dec-2024 21:32:45 | INFO | Preparing ligand sc3 parameters\n",
      "18-Dec-2024 21:33:15 | INFO | Ligand {mol} parameters prepared\n",
      "18-Dec-2024 21:33:15 | INFO | Preparing ligand poses\n",
      "18-Dec-2024 21:33:15 | INFO | Processing ligand: damg\n",
      "18-Dec-2024 21:33:15 | INFO | Processing ligand file: data/7T2G_mp/ligand_DAMGO.pdb\n",
      "18-Dec-2024 21:33:16 | INFO | The babel protonation of the ligand is for pH 7.40\n",
      "18-Dec-2024 21:33:16 | INFO | The net charge of the ligand is 1.0\n",
      "18-Dec-2024 21:33:16 | INFO | Preparing ligand damg parameters\n",
      "18-Dec-2024 21:38:29 | INFO | Ligand {mol} parameters prepared\n",
      "18-Dec-2024 21:38:29 | INFO | Preparing ligand poses\n",
      "18-Dec-2024 21:38:29 | INFO | System loaded and prepared\n"
     ]
    }
   ],
   "source": [
    "test_system.create_system(\n",
    "            system_name='7T2G',\n",
    "            protein_input=protein_file,\n",
    "            system_topology=system_file,\n",
    "            system_coordinate=system_inpcrd,\n",
    "            ligand_paths=ligand_files,\n",
    "            overwrite=True,\n",
    "            lipid_mol=['POPC'])"
   ]
  },
  {
   "cell_type": "code",
   "execution_count": 5,
   "metadata": {},
   "outputs": [],
   "source": [
    "sim_config = get_configure_from_file('data/md_input/lipid_rbfe.in')"
   ]
  },
  {
   "cell_type": "code",
   "execution_count": 6,
   "metadata": {},
   "outputs": [
    {
     "name": "stderr",
     "output_type": "stream",
     "text": [
      "18-Dec-2024 21:41:28 | INFO | Preparing the system\n",
      "18-Dec-2024 21:41:28 | INFO | Simulation configuration: software='amber' calc_type='dock' celpp_receptor='7T2G' poses_list=['0'] p1=':147@CA' p2=':117@CA' p3=':326@CA' ligand_list=[] other_mol=[] solv_shell=4.0 lipid_mol=['POPC', 'PA', 'PC', 'OL'] fe_type='relative' components=['x', 'e', 'n', 'm'] release_eq=[10.0, 2.5, 0.5, 0.0] attach_rest=[0.0, 0.1, 0.24, 0.56, 1.33, 3.16, 7.5, 10.5, 17.78, 20.0, 42.17, 50.0, 60.0, 75.0, 80.0, 100.0] ti_points=0 lambdas=[0.0001, 0.02, 0.04, 0.06, 0.1, 0.15, 0.2, 0.25, 0.3, 0.35, 0.4, 0.45, 0.5, 0.55, 0.6, 0.65, 0.7, 0.75, 0.8, 0.85, 0.92, 0.96, 0.98, 0.9999] sdr_dist=40.0 dec_method='exchange' dec_int='mbar' blocks=5 rec_dihcf_force=50.0 rec_discf_force=5.0 lig_distance_force=5.0 lig_angle_force=250.0 lig_dihcf_force=70.0 rec_com_force=10.0 lig_com_force=10.0 water_model='TIP3P' num_waters=0 buffer_x=12.0 buffer_y=12.0 buffer_z=22.0 lig_buffer=15.0 neutralize_only='no' cation='Na+' anion='Cl-' ion_conc=0.15 hmr='yes' temperature=310.0 eq_steps1=100000 eq_steps2=5000000 n_steps_dict={'a_steps1': 100000, 'a_steps2': 200000, 'l_steps1': 100000, 'l_steps2': 200000, 't_steps1': 100000, 't_steps2': 200000, 'm_steps1': 100000, 'm_steps2': 200000, 'n_steps1': 100000, 'n_steps2': 200000, 'c_steps1': 100000, 'c_steps2': 200000, 'r_steps1': 100000, 'r_steps2': 200000, 'e_steps1': 200000, 'e_steps2': 400000, 'v_steps1': 400000, 'v_steps2': 600000, 'f_steps1': 100000, 'f_steps2': 200000, 'w_steps1': 100000, 'w_steps2': 200000, 'x_steps1': 100000, 'x_steps2': 200000} n_iter_dict={'a_itera1': 0, 'a_itera2': 0, 'l_itera1': 0, 'l_itera2': 0, 't_itera1': 0, 't_itera2': 0, 'm_itera1': 0, 'm_itera2': 0, 'n_itera1': 0, 'n_itera2': 0, 'c_itera1': 0, 'c_itera2': 0, 'r_itera1': 0, 'r_itera2': 0, 'e_itera1': 0, 'e_itera2': 0, 'v_itera1': 0, 'v_itera2': 0, 'f_itera1': 0, 'f_itera2': 0, 'w_itera1': 0, 'w_itera2': 0, 'x_itera1': 0, 'x_itera2': 0} rec_bb='no' bb_start=[1] bb_end=[0] bb_equil='no' l1_x=2.1 l1_y=-6.8 l1_z=3.9 l1_range=2.5 min_adis=3.0 max_adis=7.0 dlambda=0.001 ntpr='1000' ntwr='10000' ntwe='0' ntwx='2500' cut='9.0' gamma_ln='1.0' barostat='2' dt='0.004' itcheck='100' receptor_ff='protein.ff14SB' ligand_ff='gaff2' ligand_ph=7.0 retain_lig_prot='yes' ligand_charge=1 lipid_ff='lipid21' weights=[] mols=[] rng=3 ion_def=['Na+', 'Cl-', 0.15] poses_def=['pose0'] dic_steps1={'a': 100000, 'l': 100000, 't': 100000, 'm': 100000, 'n': 100000, 'c': 100000, 'r': 100000, 'e': 200000, 'v': 400000, 'f': 100000, 'w': 100000, 'x': 100000} dic_steps2={'a': 200000, 'l': 200000, 't': 200000, 'm': 200000, 'n': 200000, 'c': 200000, 'r': 200000, 'e': 400000, 'v': 600000, 'f': 200000, 'w': 200000, 'x': 200000} dic_itera1={'a': 0, 'l': 0, 't': 0, 'm': 0, 'n': 0, 'c': 0, 'r': 0, 'e': 0, 'v': 0, 'f': 0, 'w': 0, 'x': 0} dic_itera2={'a': 0, 'l': 0, 't': 0, 'm': 0, 'n': 0, 'c': 0, 'r': 0, 'e': 0, 'v': 0, 'f': 0, 'w': 0, 'x': 0} H1=':147@CA' H2=':117@CA' H3=':326@CA' rest=[50.0, 5.0, 5.0, 250.0, 70.0, 10.0, 10.0] celp_st='7T2G' neut='no' apr_sim=2\n",
      "18-Dec-2024 21:41:28 | INFO | Prepare for equilibration stage at /Users/scottzhuang/git_rego/batter/examples/test/rbfe//equil\n",
      "18-Dec-2024 21:41:28 | INFO | Overwrite is set. Removing existing equilibration files\n",
      "18-Dec-2024 21:41:28 | INFO | Prepare for equilibration stage\n",
      "18-Dec-2024 21:41:28 | INFO | Preparing pose: pose0\n",
      "18-Dec-2024 21:41:28 | INFO | Building pose0...\n",
      "18-Dec-2024 21:41:28 | INFO | Command failed with return code 127\n"
     ]
    },
    {
     "ename": "CalledProcessError",
     "evalue": "Command 'vmd -dispdev text -e split.tcl' returned non-zero exit status 127.",
     "output_type": "error",
     "traceback": [
      "\u001b[0;31m---------------------------------------------------------------------------\u001b[0m",
      "\u001b[0;31mCalledProcessError\u001b[0m                        Traceback (most recent call last)",
      "Cell \u001b[0;32mIn[6], line 2\u001b[0m\n\u001b[1;32m      1\u001b[0m \u001b[38;5;66;03m# Prepare the system for the equilibration stage\u001b[39;00m\n\u001b[0;32m----> 2\u001b[0m \u001b[43mtest_system\u001b[49m\u001b[38;5;241;43m.\u001b[39;49m\u001b[43mprepare\u001b[49m\u001b[43m(\u001b[49m\n\u001b[1;32m      3\u001b[0m \u001b[43m    \u001b[49m\u001b[43mstage\u001b[49m\u001b[38;5;241;43m=\u001b[39;49m\u001b[38;5;124;43m'\u001b[39;49m\u001b[38;5;124;43mequil\u001b[39;49m\u001b[38;5;124;43m'\u001b[39;49m\u001b[43m,\u001b[49m\n\u001b[1;32m      4\u001b[0m \u001b[38;5;66;43;03m#    input_file='data/md_input/lipid.in',\u001b[39;49;00m\n\u001b[1;32m      5\u001b[0m \u001b[43m    \u001b[49m\u001b[43minput_file\u001b[49m\u001b[38;5;241;43m=\u001b[39;49m\u001b[43msim_config\u001b[49m\u001b[43m,\u001b[49m\n\u001b[1;32m      6\u001b[0m \u001b[43m    \u001b[49m\u001b[43moverwrite\u001b[49m\u001b[38;5;241;43m=\u001b[39;49m\u001b[38;5;28;43;01mTrue\u001b[39;49;00m\u001b[43m,\u001b[49m\n\u001b[1;32m      7\u001b[0m \u001b[43m)\u001b[49m\n",
      "File \u001b[0;32m~/git_rego/batter/batter/batter.py:591\u001b[0m, in \u001b[0;36mSystem.prepare\u001b[0;34m(self, stage, input_file, overwrite)\u001b[0m\n\u001b[1;32m    588\u001b[0m     \u001b[38;5;28;01mwith\u001b[39;00m \u001b[38;5;28mopen\u001b[39m(\u001b[38;5;124mf\u001b[39m\u001b[38;5;124m\"\u001b[39m\u001b[38;5;132;01m{\u001b[39;00m\u001b[38;5;28mself\u001b[39m\u001b[38;5;241m.\u001b[39mequil_folder\u001b[38;5;132;01m}\u001b[39;00m\u001b[38;5;124m/sim_config.json\u001b[39m\u001b[38;5;124m\"\u001b[39m, \u001b[38;5;124m'\u001b[39m\u001b[38;5;124mw\u001b[39m\u001b[38;5;124m'\u001b[39m) \u001b[38;5;28;01mas\u001b[39;00m f:\n\u001b[1;32m    589\u001b[0m         json\u001b[38;5;241m.\u001b[39mdump(sim_config\u001b[38;5;241m.\u001b[39mmodel_dump(), f, indent\u001b[38;5;241m=\u001b[39m\u001b[38;5;241m2\u001b[39m)\n\u001b[0;32m--> 591\u001b[0m     \u001b[38;5;28;43mself\u001b[39;49m\u001b[38;5;241;43m.\u001b[39;49m\u001b[43m_prepare_equil_system\u001b[49m\u001b[43m(\u001b[49m\u001b[43m)\u001b[49m\n\u001b[1;32m    592\u001b[0m     logger\u001b[38;5;241m.\u001b[39minfo(\u001b[38;5;124m'\u001b[39m\u001b[38;5;124mEquil System prepared\u001b[39m\u001b[38;5;124m'\u001b[39m)\n\u001b[1;32m    594\u001b[0m \u001b[38;5;28;01mif\u001b[39;00m stage \u001b[38;5;241m==\u001b[39m \u001b[38;5;124m'\u001b[39m\u001b[38;5;124mfe\u001b[39m\u001b[38;5;124m'\u001b[39m:\n",
      "File \u001b[0;32m~/git_rego/batter/batter/batter.py:706\u001b[0m, in \u001b[0;36mSystem._prepare_equil_system\u001b[0;34m(self)\u001b[0m\n\u001b[1;32m    699\u001b[0m \u001b[38;5;28;01mfor\u001b[39;00m pose \u001b[38;5;129;01min\u001b[39;00m \u001b[38;5;28mself\u001b[39m\u001b[38;5;241m.\u001b[39msim_config\u001b[38;5;241m.\u001b[39mposes_def:\n\u001b[1;32m    700\u001b[0m     logger\u001b[38;5;241m.\u001b[39minfo(\u001b[38;5;124mf\u001b[39m\u001b[38;5;124m'\u001b[39m\u001b[38;5;124mPreparing pose: \u001b[39m\u001b[38;5;132;01m{\u001b[39;00mpose\u001b[38;5;132;01m}\u001b[39;00m\u001b[38;5;124m'\u001b[39m)\n\u001b[1;32m    701\u001b[0m     equil_builder \u001b[38;5;241m=\u001b[39m \u001b[43mEquilibrationBuilder\u001b[49m\u001b[43m(\u001b[49m\n\u001b[1;32m    702\u001b[0m \u001b[43m        \u001b[49m\u001b[43msystem\u001b[49m\u001b[38;5;241;43m=\u001b[39;49m\u001b[38;5;28;43mself\u001b[39;49m\u001b[43m,\u001b[49m\n\u001b[1;32m    703\u001b[0m \u001b[43m        \u001b[49m\u001b[43mpose_name\u001b[49m\u001b[38;5;241;43m=\u001b[39;49m\u001b[43mpose\u001b[49m\u001b[43m,\u001b[49m\n\u001b[1;32m    704\u001b[0m \u001b[43m        \u001b[49m\u001b[43msim_config\u001b[49m\u001b[38;5;241;43m=\u001b[39;49m\u001b[43msim_config\u001b[49m\u001b[43m,\u001b[49m\n\u001b[1;32m    705\u001b[0m \u001b[43m        \u001b[49m\u001b[43mworking_dir\u001b[49m\u001b[38;5;241;43m=\u001b[39;49m\u001b[38;5;124;43mf\u001b[39;49m\u001b[38;5;124;43m'\u001b[39;49m\u001b[38;5;132;43;01m{\u001b[39;49;00m\u001b[38;5;28;43mself\u001b[39;49m\u001b[38;5;241;43m.\u001b[39;49m\u001b[43mequil_folder\u001b[49m\u001b[38;5;132;43;01m}\u001b[39;49;00m\u001b[38;5;124;43m'\u001b[39;49m\u001b[43m,\u001b[49m\n\u001b[0;32m--> 706\u001b[0m \u001b[43m    \u001b[49m\u001b[43m)\u001b[49m\u001b[38;5;241;43m.\u001b[39;49m\u001b[43mbuild\u001b[49m\u001b[43m(\u001b[49m\u001b[43m)\u001b[49m\n\u001b[1;32m    708\u001b[0m logger\u001b[38;5;241m.\u001b[39minfo(\u001b[38;5;124m'\u001b[39m\u001b[38;5;124mEquilibration systems have been created for all poses listed in the input file.\u001b[39m\u001b[38;5;124m'\u001b[39m)\n\u001b[1;32m    709\u001b[0m logger\u001b[38;5;241m.\u001b[39minfo(\u001b[38;5;124mf\u001b[39m\u001b[38;5;124m'\u001b[39m\u001b[38;5;124mnow cd equil/pose0\u001b[39m\u001b[38;5;124m'\u001b[39m)\n",
      "File \u001b[0;32m~/git_rego/batter/batter/builder.py:80\u001b[0m, in \u001b[0;36mSystemBuilder.build\u001b[0;34m(self)\u001b[0m\n\u001b[1;32m     78\u001b[0m \u001b[38;5;28;01mwith\u001b[39;00m \u001b[38;5;28mself\u001b[39m\u001b[38;5;241m.\u001b[39m_change_dir(\u001b[38;5;124m'\u001b[39m\u001b[38;5;124mbuild_files\u001b[39m\u001b[38;5;124m'\u001b[39m):\n\u001b[1;32m     79\u001b[0m     logger\u001b[38;5;241m.\u001b[39mdebug(\u001b[38;5;124mf\u001b[39m\u001b[38;5;124m'\u001b[39m\u001b[38;5;124mCreating build_files in  \u001b[39m\u001b[38;5;132;01m{\u001b[39;00mos\u001b[38;5;241m.\u001b[39mgetcwd()\u001b[38;5;132;01m}\u001b[39;00m\u001b[38;5;124m'\u001b[39m)\n\u001b[0;32m---> 80\u001b[0m     anchor_found \u001b[38;5;241m=\u001b[39m \u001b[38;5;28;43mself\u001b[39;49m\u001b[38;5;241;43m.\u001b[39;49m\u001b[43m_build_complex\u001b[49m\u001b[43m(\u001b[49m\u001b[43m)\u001b[49m\n\u001b[1;32m     81\u001b[0m     \u001b[38;5;28;01mif\u001b[39;00m \u001b[38;5;129;01mnot\u001b[39;00m anchor_found:\n\u001b[1;32m     82\u001b[0m         warnings\u001b[38;5;241m.\u001b[39mwarn(\u001b[38;5;124mf\u001b[39m\u001b[38;5;124m'\u001b[39m\u001b[38;5;124mCould not find the ligand anchors for \u001b[39m\u001b[38;5;132;01m{\u001b[39;00m\u001b[38;5;28mself\u001b[39m\u001b[38;5;241m.\u001b[39mpose_name\u001b[38;5;132;01m}\u001b[39;00m\u001b[38;5;124m.\u001b[39m\u001b[38;5;124m'\u001b[39m)\n",
      "File \u001b[0;32m~/git_rego/batter/batter/builder.py:226\u001b[0m, in \u001b[0;36mEquilibrationBuilder._build_complex\u001b[0;34m(self)\u001b[0m\n\u001b[1;32m    221\u001b[0m             \u001b[38;5;28;01mif\u001b[39;00m \u001b[38;5;124m'\u001b[39m\u001b[38;5;124mlig\u001b[39m\u001b[38;5;124m'\u001b[39m \u001b[38;5;129;01mnot\u001b[39;00m \u001b[38;5;129;01min\u001b[39;00m line:\n\u001b[1;32m    222\u001b[0m                 fout\u001b[38;5;241m.\u001b[39mwrite(line\u001b[38;5;241m.\u001b[39mreplace(\u001b[38;5;124m'\u001b[39m\u001b[38;5;124mSHLL\u001b[39m\u001b[38;5;124m'\u001b[39m, \u001b[38;5;124m'\u001b[39m\u001b[38;5;132;01m%4.2f\u001b[39;00m\u001b[38;5;124m'\u001b[39m \u001b[38;5;241m%\u001b[39m solv_shell)\n\u001b[1;32m    223\u001b[0m                            \u001b[38;5;241m.\u001b[39mreplace(\u001b[38;5;124m'\u001b[39m\u001b[38;5;124mOTHRS\u001b[39m\u001b[38;5;124m'\u001b[39m, \u001b[38;5;28mstr\u001b[39m(other_mol_vmd))\n\u001b[1;32m    224\u001b[0m                            \u001b[38;5;241m.\u001b[39mreplace(\u001b[38;5;124m'\u001b[39m\u001b[38;5;124mLIPIDS\u001b[39m\u001b[38;5;124m'\u001b[39m, \u001b[38;5;28mstr\u001b[39m(lipid_mol_vmd))\n\u001b[1;32m    225\u001b[0m                            \u001b[38;5;241m.\u001b[39mreplace(\u001b[38;5;124m'\u001b[39m\u001b[38;5;124mMMM\u001b[39m\u001b[38;5;124m'\u001b[39m, mol))\n\u001b[0;32m--> 226\u001b[0m \u001b[43mrun_with_log\u001b[49m\u001b[43m(\u001b[49m\u001b[38;5;124;43m'\u001b[39;49m\u001b[38;5;124;43mvmd -dispdev text -e split.tcl\u001b[39;49m\u001b[38;5;124;43m'\u001b[39;49m\u001b[43m)\u001b[49m\n\u001b[1;32m    228\u001b[0m \u001b[38;5;66;03m# Remove possible remaining molecules\u001b[39;00m\n\u001b[1;32m    229\u001b[0m \u001b[38;5;28;01mif\u001b[39;00m \u001b[38;5;129;01mnot\u001b[39;00m other_mol:\n",
      "File \u001b[0;32m~/git_rego/batter/batter/utils/utils.py:67\u001b[0m, in \u001b[0;36mrun_with_log\u001b[0;34m(command, level, working_dir, error_match)\u001b[0m\n\u001b[1;32m     64\u001b[0m logger\u001b[38;5;241m.\u001b[39mdebug(\u001b[38;5;124mf\u001b[39m\u001b[38;5;124m\"\u001b[39m\u001b[38;5;124mWorking directory: \u001b[39m\u001b[38;5;132;01m{\u001b[39;00mworking_dir\u001b[38;5;132;01m}\u001b[39;00m\u001b[38;5;124m\"\u001b[39m)\n\u001b[1;32m     65\u001b[0m \u001b[38;5;28;01mtry\u001b[39;00m:\n\u001b[1;32m     66\u001b[0m     \u001b[38;5;66;03m# Run the command and capture output\u001b[39;00m\n\u001b[0;32m---> 67\u001b[0m     result \u001b[38;5;241m=\u001b[39m \u001b[43msp\u001b[49m\u001b[38;5;241;43m.\u001b[39;49m\u001b[43mrun\u001b[49m\u001b[43m(\u001b[49m\n\u001b[1;32m     68\u001b[0m \u001b[43m        \u001b[49m\u001b[43mcommand\u001b[49m\u001b[43m,\u001b[49m\n\u001b[1;32m     69\u001b[0m \u001b[43m        \u001b[49m\u001b[43mshell\u001b[49m\u001b[38;5;241;43m=\u001b[39;49m\u001b[38;5;28;43;01mTrue\u001b[39;49;00m\u001b[43m,\u001b[49m\n\u001b[1;32m     70\u001b[0m \u001b[43m        \u001b[49m\u001b[43mstdout\u001b[49m\u001b[38;5;241;43m=\u001b[39;49m\u001b[43msp\u001b[49m\u001b[38;5;241;43m.\u001b[39;49m\u001b[43mPIPE\u001b[49m\u001b[43m,\u001b[49m\n\u001b[1;32m     71\u001b[0m \u001b[43m        \u001b[49m\u001b[43mstderr\u001b[49m\u001b[38;5;241;43m=\u001b[39;49m\u001b[43msp\u001b[49m\u001b[38;5;241;43m.\u001b[39;49m\u001b[43mPIPE\u001b[49m\u001b[43m,\u001b[49m\n\u001b[1;32m     72\u001b[0m \u001b[43m        \u001b[49m\u001b[43mtext\u001b[49m\u001b[38;5;241;43m=\u001b[39;49m\u001b[38;5;28;43;01mTrue\u001b[39;49;00m\u001b[43m,\u001b[49m\n\u001b[1;32m     73\u001b[0m \u001b[43m        \u001b[49m\u001b[43mcheck\u001b[49m\u001b[38;5;241;43m=\u001b[39;49m\u001b[38;5;28;43;01mTrue\u001b[39;49;00m\u001b[43m,\u001b[49m\n\u001b[1;32m     74\u001b[0m \u001b[43m        \u001b[49m\u001b[43mcwd\u001b[49m\u001b[38;5;241;43m=\u001b[39;49m\u001b[43mworking_dir\u001b[49m\n\u001b[1;32m     75\u001b[0m \u001b[43m    \u001b[49m\u001b[43m)\u001b[49m\n\u001b[1;32m     77\u001b[0m     \u001b[38;5;28;01mif\u001b[39;00m error_match:\n\u001b[1;32m     78\u001b[0m         \u001b[38;5;28;01mif\u001b[39;00m error_match \u001b[38;5;129;01min\u001b[39;00m result\u001b[38;5;241m.\u001b[39mstdout \u001b[38;5;129;01mor\u001b[39;00m error_match \u001b[38;5;129;01min\u001b[39;00m result\u001b[38;5;241m.\u001b[39mstderr:\n",
      "File \u001b[0;32m~/mambaforge/envs/test/lib/python3.11/subprocess.py:571\u001b[0m, in \u001b[0;36mrun\u001b[0;34m(input, capture_output, timeout, check, *popenargs, **kwargs)\u001b[0m\n\u001b[1;32m    569\u001b[0m     retcode \u001b[38;5;241m=\u001b[39m process\u001b[38;5;241m.\u001b[39mpoll()\n\u001b[1;32m    570\u001b[0m     \u001b[38;5;28;01mif\u001b[39;00m check \u001b[38;5;129;01mand\u001b[39;00m retcode:\n\u001b[0;32m--> 571\u001b[0m         \u001b[38;5;28;01mraise\u001b[39;00m CalledProcessError(retcode, process\u001b[38;5;241m.\u001b[39margs,\n\u001b[1;32m    572\u001b[0m                                  output\u001b[38;5;241m=\u001b[39mstdout, stderr\u001b[38;5;241m=\u001b[39mstderr)\n\u001b[1;32m    573\u001b[0m \u001b[38;5;28;01mreturn\u001b[39;00m CompletedProcess(process\u001b[38;5;241m.\u001b[39margs, retcode, stdout, stderr)\n",
      "\u001b[0;31mCalledProcessError\u001b[0m: Command 'vmd -dispdev text -e split.tcl' returned non-zero exit status 127."
     ]
    }
   ],
   "source": [
    "# Prepare the system for the equilibration stage\n",
    "test_system.prepare(\n",
    "    stage='equil',\n",
    "#    input_file='data/md_input/lipid.in',\n",
    "    input_file=sim_config,\n",
    "    overwrite=True,\n",
    ")"
   ]
  },
  {
   "cell_type": "code",
   "execution_count": 7,
   "metadata": {},
   "outputs": [],
   "source": [
    "# Submit the equilibration job to SLURM\n",
    "# test_system.submit(stage='equil')"
   ]
  },
  {
   "cell_type": "code",
   "execution_count": 8,
   "metadata": {},
   "outputs": [
    {
     "name": "stderr",
     "output_type": "stream",
     "text": [
      "16-Dec-2024 12:55:17 | INFO | Preparing the system\n",
      "16-Dec-2024 12:55:17 | INFO | Simulation configuration: software='amber' calc_type='dock' celpp_receptor='7T2G' poses_list=['0'] p1=':147@CA' p2=':117@CA' p3=':326@CA' ligand_list=[] other_mol=[] solv_shell=4.0 lipid_mol=['POPC', 'PA', 'PC', 'OL'] fe_type='express' components=['m', 'n', 'e', 'v'] release_eq=[10.0, 2.5, 0.5, 0.0] attach_rest=[0.0, 0.1, 0.24, 0.56, 1.33, 3.16, 7.5, 10.5, 17.78, 20.0, 42.17, 50.0, 60.0, 75.0, 80.0, 100.0] ti_points=0 lambdas=[0.0001, 0.02, 0.04, 0.06, 0.1, 0.15, 0.2, 0.25, 0.3, 0.35, 0.4, 0.45, 0.5, 0.55, 0.6, 0.65, 0.7, 0.75, 0.8, 0.85, 0.92, 0.96, 0.98, 0.9999] sdr_dist=40.0 dec_method='sdr' dec_int='mbar' blocks=5 rec_dihcf_force=50.0 rec_discf_force=5.0 lig_distance_force=5.0 lig_angle_force=250.0 lig_dihcf_force=70.0 rec_com_force=10.0 lig_com_force=10.0 water_model='TIP3P' num_waters=0 buffer_x=12.0 buffer_y=12.0 buffer_z=22.0 lig_buffer=15.0 neutralize_only='no' cation='Na+' anion='Cl-' ion_conc=0.15 hmr='yes' temperature=310.0 eq_steps1=100000 eq_steps2=5000000 n_steps_dict={'a_steps1': 100000, 'a_steps2': 200000, 'l_steps1': 100000, 'l_steps2': 200000, 't_steps1': 100000, 't_steps2': 200000, 'm_steps1': 100000, 'm_steps2': 200000, 'n_steps1': 100000, 'n_steps2': 200000, 'c_steps1': 100000, 'c_steps2': 200000, 'r_steps1': 100000, 'r_steps2': 200000, 'e_steps1': 200000, 'e_steps2': 400000, 'v_steps1': 400000, 'v_steps2': 600000, 'f_steps1': 100000, 'f_steps2': 200000, 'w_steps1': 100000, 'w_steps2': 200000, 'x_steps1': 0, 'x_steps2': 0} n_iter_dict={'a_itera1': 0, 'a_itera2': 0, 'l_itera1': 0, 'l_itera2': 0, 't_itera1': 0, 't_itera2': 0, 'm_itera1': 0, 'm_itera2': 0, 'n_itera1': 0, 'n_itera2': 0, 'c_itera1': 0, 'c_itera2': 0, 'r_itera1': 0, 'r_itera2': 0, 'e_itera1': 0, 'e_itera2': 0, 'v_itera1': 0, 'v_itera2': 0, 'f_itera1': 0, 'f_itera2': 0, 'w_itera1': 0, 'w_itera2': 0, 'x_itera1': 0, 'x_itera2': 0} rec_bb='no' bb_start=[1] bb_end=[0] bb_equil='no' l1_x=2.1 l1_y=-6.8 l1_z=3.9 l1_range=2.5 min_adis=3.0 max_adis=7.0 dlambda=0.001 ntpr='1000' ntwr='10000' ntwe='0' ntwx='2500' cut='9.0' gamma_ln='1.0' barostat='2' dt='0.004' itcheck='100' receptor_ff='protein.ff14SB' ligand_ff='gaff2' ligand_ph=7.0 retain_lig_prot='yes' ligand_charge=1 lipid_ff='lipid21' weights=[] mols=[] rng=3 ion_def=['Na+', 'Cl-', 0.15] poses_def=['pose0'] dic_steps1={'a': 100000, 'l': 100000, 't': 100000, 'm': 100000, 'n': 100000, 'c': 100000, 'r': 100000, 'e': 200000, 'v': 400000, 'f': 100000, 'w': 100000, 'x': 0} dic_steps2={'a': 200000, 'l': 200000, 't': 200000, 'm': 200000, 'n': 200000, 'c': 200000, 'r': 200000, 'e': 400000, 'v': 600000, 'f': 200000, 'w': 200000, 'x': 0} dic_itera1={'a': 0, 'l': 0, 't': 0, 'm': 0, 'n': 0, 'c': 0, 'r': 0, 'e': 0, 'v': 0, 'f': 0, 'w': 0, 'x': 0} dic_itera2={'a': 0, 'l': 0, 't': 0, 'm': 0, 'n': 0, 'c': 0, 'r': 0, 'e': 0, 'v': 0, 'f': 0, 'w': 0, 'x': 0} H1=':147@CA' H2=':117@CA' H3=':326@CA' rest=[50.0, 5.0, 5.0, 250.0, 70.0, 10.0, 10.0] celp_st='7T2G' neut='no' apr_sim=2\n"
     ]
    },
    {
     "ename": "FileNotFoundError",
     "evalue": "Equilibration not finished yet. First run the equilibration.",
     "output_type": "error",
     "traceback": [
      "\u001b[0;31m---------------------------------------------------------------------------\u001b[0m",
      "\u001b[0;31mFileNotFoundError\u001b[0m                         Traceback (most recent call last)",
      "Cell \u001b[0;32mIn[8], line 2\u001b[0m\n\u001b[1;32m      1\u001b[0m \u001b[38;5;66;03m# Prepare the system for the free energy calculation\u001b[39;00m\n\u001b[0;32m----> 2\u001b[0m \u001b[43mtest_system\u001b[49m\u001b[38;5;241;43m.\u001b[39;49m\u001b[43mprepare\u001b[49m\u001b[43m(\u001b[49m\n\u001b[1;32m      3\u001b[0m \u001b[43m    \u001b[49m\u001b[43mstage\u001b[49m\u001b[38;5;241;43m=\u001b[39;49m\u001b[38;5;124;43m'\u001b[39;49m\u001b[38;5;124;43mfe\u001b[39;49m\u001b[38;5;124;43m'\u001b[39;49m\u001b[43m,\u001b[49m\n\u001b[1;32m      4\u001b[0m \u001b[38;5;66;43;03m#    input_file='data/md_input/lipid.in',\u001b[39;49;00m\n\u001b[1;32m      5\u001b[0m \u001b[43m    \u001b[49m\u001b[43minput_file\u001b[49m\u001b[38;5;241;43m=\u001b[39;49m\u001b[43msim_config\u001b[49m\u001b[43m,\u001b[49m\n\u001b[1;32m      6\u001b[0m \u001b[38;5;66;43;03m#    overwrite=True,\u001b[39;49;00m\n\u001b[1;32m      7\u001b[0m \u001b[43m)\u001b[49m\n",
      "File \u001b[0;32m/oak/stanford/groups/rondror/users/yuzhuang/software/batter/batter/batter.py:585\u001b[0m, in \u001b[0;36mSystem.prepare\u001b[0;34m(self, stage, input_file, overwrite)\u001b[0m\n\u001b[1;32m    582\u001b[0m     \u001b[38;5;28;01mraise\u001b[39;00m \u001b[38;5;167;01mFileNotFoundError\u001b[39;00m(\u001b[38;5;124mf\u001b[39m\u001b[38;5;124m\"\u001b[39m\u001b[38;5;124mEquilibration not generated yet. Run prepare(\u001b[39m\u001b[38;5;124m'\u001b[39m\u001b[38;5;124mequil\u001b[39m\u001b[38;5;124m'\u001b[39m\u001b[38;5;124m) first.\u001b[39m\u001b[38;5;124m\"\u001b[39m)\n\u001b[1;32m    584\u001b[0m \u001b[38;5;28;01mif\u001b[39;00m \u001b[38;5;129;01mnot\u001b[39;00m os\u001b[38;5;241m.\u001b[39mpath\u001b[38;5;241m.\u001b[39mexists(\u001b[38;5;124mf\u001b[39m\u001b[38;5;124m\"\u001b[39m\u001b[38;5;132;01m{\u001b[39;00m\u001b[38;5;28mself\u001b[39m\u001b[38;5;241m.\u001b[39mequil_folder\u001b[38;5;132;01m}\u001b[39;00m\u001b[38;5;124m/\u001b[39m\u001b[38;5;132;01m{\u001b[39;00m\u001b[38;5;28mself\u001b[39m\u001b[38;5;241m.\u001b[39msim_config\u001b[38;5;241m.\u001b[39mposes_def[\u001b[38;5;241m0\u001b[39m]\u001b[38;5;132;01m}\u001b[39;00m\u001b[38;5;124m/md03.rst7\u001b[39m\u001b[38;5;124m\"\u001b[39m):\n\u001b[0;32m--> 585\u001b[0m     \u001b[38;5;28;01mraise\u001b[39;00m \u001b[38;5;167;01mFileNotFoundError\u001b[39;00m(\u001b[38;5;124mf\u001b[39m\u001b[38;5;124m\"\u001b[39m\u001b[38;5;124mEquilibration not finished yet. First run the equilibration.\u001b[39m\u001b[38;5;124m\"\u001b[39m)\n\u001b[1;32m    587\u001b[0m sim_config_eq \u001b[38;5;241m=\u001b[39m json\u001b[38;5;241m.\u001b[39mload(\u001b[38;5;28mopen\u001b[39m(\u001b[38;5;124mf\u001b[39m\u001b[38;5;124m\"\u001b[39m\u001b[38;5;132;01m{\u001b[39;00m\u001b[38;5;28mself\u001b[39m\u001b[38;5;241m.\u001b[39mequil_folder\u001b[38;5;132;01m}\u001b[39;00m\u001b[38;5;124m/sim_config.json\u001b[39m\u001b[38;5;124m\"\u001b[39m))\n\u001b[1;32m    588\u001b[0m \u001b[38;5;28;01mif\u001b[39;00m sim_config_eq \u001b[38;5;241m!=\u001b[39m sim_config\u001b[38;5;241m.\u001b[39mmodel_dump():\n\u001b[1;32m    589\u001b[0m \u001b[38;5;66;03m# raise ValueError(f\"Equilibration and free energy simulation configurations are different\")\u001b[39;00m\n",
      "\u001b[0;31mFileNotFoundError\u001b[0m: Equilibration not finished yet. First run the equilibration."
     ]
    }
   ],
   "source": [
    "# Prepare the system for the free energy calculation\n",
    "test_system.prepare(\n",
    "    stage='fe',\n",
    "#    input_file='data/md_input/lipid.in',\n",
    "    input_file=sim_config,\n",
    "#    overwrite=True,\n",
    ")"
   ]
  },
  {
   "cell_type": "code",
   "execution_count": null,
   "metadata": {},
   "outputs": [],
   "source": []
  },
  {
   "cell_type": "code",
   "execution_count": 22,
   "metadata": {},
   "outputs": [],
   "source": [
    "import MDAnalysis as mda\n",
    "u = mda.Universe('./data/7T2G_mp/ligand_DAMGO.pdb')"
   ]
  },
  {
   "cell_type": "code",
   "execution_count": 23,
   "metadata": {},
   "outputs": [],
   "source": [
    "from MDAnalysis.guesser.default_guesser import DefaultGuesser"
   ]
  },
  {
   "cell_type": "code",
   "execution_count": 24,
   "metadata": {},
   "outputs": [],
   "source": [
    "u.guess_TopologyAttrs(to_guess=['elements'])"
   ]
  },
  {
   "cell_type": "code",
   "execution_count": 25,
   "metadata": {},
   "outputs": [],
   "source": [
    "u.add_TopologyAttr('charges')"
   ]
  },
  {
   "cell_type": "code",
   "execution_count": 26,
   "metadata": {},
   "outputs": [],
   "source": [
    "u.atoms.charges = DefaultGuesser(u).guess_gasteiger_charges(u.atoms)"
   ]
  },
  {
   "cell_type": "code",
   "execution_count": 5,
   "metadata": {},
   "outputs": [
    {
     "ename": "NameError",
     "evalue": "name 'u' is not defined",
     "output_type": "error",
     "traceback": [
      "\u001b[0;31m---------------------------------------------------------------------------\u001b[0m",
      "\u001b[0;31mNameError\u001b[0m                                 Traceback (most recent call last)",
      "Cell \u001b[0;32mIn[5], line 1\u001b[0m\n\u001b[0;32m----> 1\u001b[0m \u001b[43mu\u001b[49m\u001b[38;5;241m.\u001b[39matoms\u001b[38;5;241m.\u001b[39mcharges\u001b[38;5;241m.\u001b[39msum()\n",
      "\u001b[0;31mNameError\u001b[0m: name 'u' is not defined"
     ]
    }
   ],
   "source": [
    "u.atoms.charges.sum()"
   ]
  },
  {
   "cell_type": "code",
   "execution_count": null,
   "metadata": {},
   "outputs": [],
   "source": []
  }
 ],
 "metadata": {
  "kernelspec": {
   "display_name": "test",
   "language": "python",
   "name": "python3"
  },
  "language_info": {
   "codemirror_mode": {
    "name": "ipython",
    "version": 3
   },
   "file_extension": ".py",
   "mimetype": "text/x-python",
   "name": "python",
   "nbconvert_exporter": "python",
   "pygments_lexer": "ipython3",
   "version": "3.11.11"
  }
 },
 "nbformat": 4,
 "nbformat_minor": 2
}
