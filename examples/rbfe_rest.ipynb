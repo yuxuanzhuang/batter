{
 "cells": [
  {
   "cell_type": "code",
   "execution_count": 1,
   "metadata": {},
   "outputs": [
    {
     "name": "stderr",
     "output_type": "stream",
     "text": [
      "/scratch/users/yuzhuang/miniforge3/envs/batter/lib/python3.11/site-packages/tqdm/auto.py:21: TqdmWarning: IProgress not found. Please update jupyter and ipywidgets. See https://ipywidgets.readthedocs.io/en/stable/user_install.html\n",
      "  from .autonotebook import tqdm as notebook_tqdm\n"
     ]
    }
   ],
   "source": [
    "import numpy as np\n",
    "from batter import RBFESystem"
   ]
  },
  {
   "cell_type": "code",
   "execution_count": 7,
   "metadata": {},
   "outputs": [],
   "source": [
    "state = 'inactive'\n",
    "state = 'active'\n",
    "protein_file = f'data/MOR/{state}/protein_input.pdb'\n",
    "system_file = f'data/MOR/{state}/{state}.pdb'\n",
    "ligand_files = [f'data/MOR/{state}/ligand_mp.pdb',\n",
    "                f'data/MOR/{state}/ligand_damgo.pdb',\n",
    "                f'data/MOR/{state}/ligand_fna.pdb']\n",
    "#system_inpcrd = 'data/7T2G_mp/system_input.inpcrd'\n",
    "equilibrated_rst = f'data/MOR/{state}/{state}_eq.rst'\n",
    "\n",
    "input_file = f'data/MOR/{state}/rbfe.in'\n",
    "\n",
    "# make sure they all exist\n",
    "import os\n",
    "for f in [protein_file, system_file, equilibrated_rst, input_file] + ligand_files:\n",
    "    if not os.path.exists(f):\n",
    "        raise FileNotFoundError(f)"
   ]
  },
  {
   "cell_type": "code",
   "execution_count": 9,
   "metadata": {},
   "outputs": [
    {
     "name": "stderr",
     "output_type": "stream",
     "text": [
      "INFO | Loading an existing system: /oak/stanford/groups/rondror/users/yuzhuang/software/batter/examples/test/active_rbfe/\n",
      "INFO | The folder does not contain fe: /oak/stanford/groups/rondror/users/yuzhuang/software/batter/examples/test/active_rbfe/\n"
     ]
    }
   ],
   "source": [
    "output_folder = f'test/{state}_rbfe'\n",
    "system = RBFESystem(folder=output_folder)"
   ]
  },
  {
   "cell_type": "code",
   "execution_count": 10,
   "metadata": {},
   "outputs": [
    {
     "name": "stdout",
     "output_type": "stream",
     "text": [
      "\u001b[0;31mSignature:\u001b[0m\n",
      "\u001b[0msystem\u001b[0m\u001b[0;34m.\u001b[0m\u001b[0mcreate_system\u001b[0m\u001b[0;34m(\u001b[0m\u001b[0;34m\u001b[0m\n",
      "\u001b[0;34m\u001b[0m    \u001b[0msystem_name\u001b[0m\u001b[0;34m:\u001b[0m \u001b[0mstr\u001b[0m\u001b[0;34m,\u001b[0m\u001b[0;34m\u001b[0m\n",
      "\u001b[0;34m\u001b[0m    \u001b[0mprotein_input\u001b[0m\u001b[0;34m:\u001b[0m \u001b[0mstr\u001b[0m\u001b[0;34m,\u001b[0m\u001b[0;34m\u001b[0m\n",
      "\u001b[0;34m\u001b[0m    \u001b[0msystem_topology\u001b[0m\u001b[0;34m:\u001b[0m \u001b[0mstr\u001b[0m\u001b[0;34m,\u001b[0m\u001b[0;34m\u001b[0m\n",
      "\u001b[0;34m\u001b[0m    \u001b[0mligand_paths\u001b[0m\u001b[0;34m:\u001b[0m \u001b[0mList\u001b[0m\u001b[0;34m[\u001b[0m\u001b[0mstr\u001b[0m\u001b[0;34m]\u001b[0m\u001b[0;34m,\u001b[0m\u001b[0;34m\u001b[0m\n",
      "\u001b[0;34m\u001b[0m    \u001b[0mreceptor_segment\u001b[0m\u001b[0;34m:\u001b[0m \u001b[0mstr\u001b[0m \u001b[0;34m=\u001b[0m \u001b[0;32mNone\u001b[0m\u001b[0;34m,\u001b[0m\u001b[0;34m\u001b[0m\n",
      "\u001b[0;34m\u001b[0m    \u001b[0msystem_coordinate\u001b[0m\u001b[0;34m:\u001b[0m \u001b[0mstr\u001b[0m \u001b[0;34m=\u001b[0m \u001b[0;32mNone\u001b[0m\u001b[0;34m,\u001b[0m\u001b[0;34m\u001b[0m\n",
      "\u001b[0;34m\u001b[0m    \u001b[0mprotein_align\u001b[0m\u001b[0;34m:\u001b[0m \u001b[0mstr\u001b[0m \u001b[0;34m=\u001b[0m \u001b[0;34m'name CA and resid 60 to 250'\u001b[0m\u001b[0;34m,\u001b[0m\u001b[0;34m\u001b[0m\n",
      "\u001b[0;34m\u001b[0m    \u001b[0mretain_lig_prot\u001b[0m\u001b[0;34m:\u001b[0m \u001b[0mbool\u001b[0m \u001b[0;34m=\u001b[0m \u001b[0;32mTrue\u001b[0m\u001b[0;34m,\u001b[0m\u001b[0;34m\u001b[0m\n",
      "\u001b[0;34m\u001b[0m    \u001b[0mligand_ph\u001b[0m\u001b[0;34m:\u001b[0m \u001b[0mfloat\u001b[0m \u001b[0;34m=\u001b[0m \u001b[0;36m7.4\u001b[0m\u001b[0;34m,\u001b[0m\u001b[0;34m\u001b[0m\n",
      "\u001b[0;34m\u001b[0m    \u001b[0mligand_ff\u001b[0m\u001b[0;34m:\u001b[0m \u001b[0mstr\u001b[0m \u001b[0;34m=\u001b[0m \u001b[0;34m'gaff2'\u001b[0m\u001b[0;34m,\u001b[0m\u001b[0;34m\u001b[0m\n",
      "\u001b[0;34m\u001b[0m    \u001b[0mlipid_mol\u001b[0m\u001b[0;34m:\u001b[0m \u001b[0mList\u001b[0m\u001b[0;34m[\u001b[0m\u001b[0mstr\u001b[0m\u001b[0;34m]\u001b[0m \u001b[0;34m=\u001b[0m \u001b[0;34m[\u001b[0m\u001b[0;34m]\u001b[0m\u001b[0;34m,\u001b[0m\u001b[0;34m\u001b[0m\n",
      "\u001b[0;34m\u001b[0m    \u001b[0mlipid_ff\u001b[0m\u001b[0;34m:\u001b[0m \u001b[0mstr\u001b[0m \u001b[0;34m=\u001b[0m \u001b[0;34m'lipid21'\u001b[0m\u001b[0;34m,\u001b[0m\u001b[0;34m\u001b[0m\n",
      "\u001b[0;34m\u001b[0m    \u001b[0moverwrite\u001b[0m\u001b[0;34m:\u001b[0m \u001b[0mbool\u001b[0m \u001b[0;34m=\u001b[0m \u001b[0;32mFalse\u001b[0m\u001b[0;34m,\u001b[0m\u001b[0;34m\u001b[0m\n",
      "\u001b[0;34m\u001b[0m\u001b[0;34m)\u001b[0m\u001b[0;34m\u001b[0m\u001b[0;34m\u001b[0m\u001b[0m\n",
      "\u001b[0;31mDocstring:\u001b[0m\n",
      "Create a new single-ligand single-receptor system.\n",
      "\n",
      "Parameters\n",
      "----------\n",
      "protein_input : str\n",
      "    Path to the protein file in PDB format.\n",
      "    It should be exported from Maestro,\n",
      "    which means the protonation states of the protein are assigned.\n",
      "    Water and ligand can be present in the file,\n",
      "    but they will be removed during preparation.\n",
      "system_topology : str\n",
      "    PDB file of a prepared simulation system with `dabble`.\n",
      "    The ligand does not need to be present.\n",
      "system_coordinate : str\n",
      "    The coordinate file for the system.\n",
      "    The coordiantes and box dimensions will be used for the system.\n",
      "    It can be an INPCRD file prepared from `dabble` or\n",
      "    it can be a snapshot of the equilibrated system.\n",
      "    If it is not provided, the coordinates from the system_topology\n",
      "    will be used if available.\n",
      "ligand_paths : List[str]\n",
      "    List of ligand files. It can be either PDB or mol2 format.\n",
      "    It will be stored in the `all-poses` folder as `pose0.pdb`,\n",
      "    `pose1.pdb`, etc.\n",
      "receptor_segment : str\n",
      "    The segment of the receptor in the system_topology.\n",
      "    It will be used to set the protein anchor for the ligand.\n",
      "    Default is None, which means all protein atoms will be used.\n",
      "    Warning: if the protein for acnhoring\n",
      "    is not the first protein entry of the system_topology,\n",
      "    it will cause problems when bat.py is trying to \n",
      "    get the protein anchor.\n",
      "protein_align : str\n",
      "    The selection string for aligning the protein to the system.\n",
      "    Default is 'name CA and resid 60 to 250'.\n",
      "retain_lig_prot : bool, optional\n",
      "    Whether to retain hydrogens in the ligand. Default is True.\n",
      "ligand_ph : float, optional\n",
      "    pH value for protonating the ligand. Default is 7.4.\n",
      "ligand_ff : str, optional\n",
      "    Parameter set for the ligand. Default is 'gaff'.\n",
      "    Options are 'gaff' and 'gaff2'.\n",
      "lipid_mol : List[str], optional\n",
      "    List of lipid molecules to be included in the simulations.\n",
      "    Default is an empty list.\n",
      "lipid_ff : str, optional\n",
      "    Force field for lipid atoms. Default is 'lipid21'.\n",
      "overwrite : bool, optional\n",
      "    Whether to overwrite the existing files. Default is False.\n",
      "\u001b[0;31mFile:\u001b[0m      /oak/stanford/groups/rondror/users/yuzhuang/software/batter/batter/batter.py\n",
      "\u001b[0;31mType:\u001b[0m      method"
     ]
    }
   ],
   "source": [
    "# check available input of create_system\n",
    "system.create_system?"
   ]
  },
  {
   "cell_type": "code",
   "execution_count": 16,
   "metadata": {},
   "outputs": [
    {
     "name": "stderr",
     "output_type": "stream",
     "text": [
      "INFO | self: <batter.batter.RBFESystem object at 0x7ff364f58ed0>\n",
      "INFO | system_name: MOR\n",
      "INFO | protein_input: data/MOR/inactive/protein_input.pdb\n",
      "INFO | system_topology: data/MOR/inactive/inactive.pdb\n",
      "INFO | ligand_paths: ['data/MOR/inactive/ligand_mp.pdb', 'data/MOR/inactive/ligand_damgo.pdb', 'data/MOR/inactive/ligand_fna.pdb']\n",
      "INFO | receptor_segment: None\n",
      "INFO | system_coordinate: data/MOR/inactive/inactive_eq.rst\n",
      "INFO | protein_align: name CA and resid 60 to 250\n",
      "INFO | retain_lig_prot: True\n",
      "INFO | ligand_ph: 7.4\n",
      "INFO | ligand_ff: gaff2\n",
      "INFO | lipid_mol: ['POPC']\n",
      "INFO | lipid_ff: lipid21\n",
      "INFO | overwrite: False\n",
      "WARNING | Elongating the ligand name: mp to mp1\n",
      "INFO | The net charge of the ligand mp1 in /oak/stanford/groups/rondror/users/yuzhuang/software/batter/examples/test/inactive_rbfe//ff/mp1.pdb is 1.0\n",
      "WARNING | Shortening the ligand name: damg to dam\n",
      "INFO | The net charge of the ligand dam in /oak/stanford/groups/rondror/users/yuzhuang/software/batter/examples/test/inactive_rbfe//ff/dam.pdb is 1.0\n",
      "INFO | The net charge of the ligand bf0 in /oak/stanford/groups/rondror/users/yuzhuang/software/batter/examples/test/inactive_rbfe//ff/bf0.pdb is 1.0\n",
      "INFO | System loaded and prepared\n"
     ]
    }
   ],
   "source": [
    "system.create_system(\n",
    "            system_name='MOR',\n",
    "            protein_input=protein_file,\n",
    "            system_topology=system_file,\n",
    "            system_coordinate=equilibrated_rst,\n",
    "            ligand_paths=ligand_files,\n",
    "#            overwrite=True,\n",
    "            lipid_mol=['POPC'])"
   ]
  },
  {
   "cell_type": "code",
   "execution_count": 18,
   "metadata": {},
   "outputs": [
    {
     "name": "stdout",
     "output_type": "stream",
     "text": [
      "l1_x: 1.41\n",
      "l1_y: -5.73\n",
      "l1_z: 4.02\n"
     ]
    }
   ],
   "source": [
    "import MDAnalysis as mda\n",
    "\n",
    "u_prot = mda.Universe(f'{output_folder}/all-poses/reference.pdb')\n",
    "u_lig = mda.Universe(f'{output_folder}/all-poses/pose0.pdb')\n",
    "u_merge = mda.Merge(u_prot.atoms, u_lig.atoms)\n",
    "\n",
    "P1_atom = u_merge.select_atoms('name CA and resid 149')\n",
    "P2_atom = u_merge.select_atoms('name CA and resid 119')\n",
    "P3_atom = u_merge.select_atoms('name CA and resid 328')\n",
    "if P1_atom.n_atoms != 1 or P2_atom.n_atoms != 1 or P3_atom.n_atoms != 1:\n",
    "    raise ValueError('Error: more than one atom selected')\n",
    "\n",
    "lig_atom = u_merge.select_atoms(f'resname {u_lig.atoms.resnames[0]} and name C12')\n",
    "\n",
    "# get ll_x,y,z distances\n",
    "r_vect = lig_atom.center_of_mass() - P1_atom.positions\n",
    "print(f'l1_x: {r_vect[0][0]:.2f}')\n",
    "print(f'l1_y: {r_vect[0][1]:.2f}')\n",
    "print(f'l1_z: {r_vect[0][2]:.2f}')"
   ]
  },
  {
   "cell_type": "markdown",
   "metadata": {},
   "source": [
    "Modify the `abfe.in` file to include the following lines based on the output of the above script:\n",
    "    \n",
    "```bash\n",
    "    l1_x: xxx\n",
    "    l1_y: xxx\n",
    "    l1_z: xxx\n",
    "```"
   ]
  },
  {
   "cell_type": "code",
   "execution_count": 19,
   "metadata": {},
   "outputs": [
    {
     "name": "stderr",
     "output_type": "stream",
     "text": [
      "INFO | Simulation configuration: software='amber' calc_type='dock' celpp_receptor='MOR' poses_list=['0', '1', '2'] p1=':149@CA' p2=':119@CA' p3=':328@CA' ligand_list=[] other_mol=[] solv_shell=4.0 lipid_mol=['POPC', 'PA', 'PC', 'OL'] fe_type='relative' components=['x', 'e', 'n', 'm'] release_eq=[10.0, 2.5, 0.5, 0.0] attach_rest=[0.0, 0.1, 0.24, 0.56, 1.33, 3.16, 7.5, 10.5, 17.78, 20.0, 42.17, 50.0, 60.0, 75.0, 80.0, 100.0] ti_points=0 lambdas=[0.0001, 0.02, 0.04, 0.06, 0.1, 0.15, 0.2, 0.25, 0.3, 0.35, 0.4, 0.45, 0.5, 0.55, 0.6, 0.65, 0.7, 0.75, 0.8, 0.85, 0.92, 0.96, 0.98, 0.9999] sdr_dist=40.0 dec_method='exchange' dec_int='mbar' blocks=5 rec_dihcf_force=50.0 rec_discf_force=5.0 lig_distance_force=5.0 lig_angle_force=250.0 lig_dihcf_force=70.0 rec_com_force=10.0 lig_com_force=10.0 water_model='TIP3P' num_waters=0 buffer_x=12.0 buffer_y=12.0 buffer_z=22.0 lig_buffer=15.0 neutralize_only='no' cation='Na+' anion='Cl-' ion_conc=0.15 hmr='yes' temperature=310.0 eq_steps1=100000 eq_steps2=500000 n_steps_dict={'a_steps1': 100000, 'a_steps2': 200000, 'l_steps1': 100000, 'l_steps2': 200000, 't_steps1': 100000, 't_steps2': 200000, 'm_steps1': 100000, 'm_steps2': 200000, 'n_steps1': 100000, 'n_steps2': 200000, 'c_steps1': 100000, 'c_steps2': 200000, 'r_steps1': 100000, 'r_steps2': 200000, 'e_steps1': 400000, 'e_steps2': 600000, 'v_steps1': 400000, 'v_steps2': 600000, 'f_steps1': 100000, 'f_steps2': 200000, 'w_steps1': 100000, 'w_steps2': 200000, 'x_steps1': 400000, 'x_steps2': 600000} n_iter_dict={'a_itera1': 0, 'a_itera2': 0, 'l_itera1': 0, 'l_itera2': 0, 't_itera1': 0, 't_itera2': 0, 'm_itera1': 0, 'm_itera2': 0, 'n_itera1': 0, 'n_itera2': 0, 'c_itera1': 0, 'c_itera2': 0, 'r_itera1': 0, 'r_itera2': 0, 'e_itera1': 0, 'e_itera2': 0, 'v_itera1': 0, 'v_itera2': 0, 'f_itera1': 0, 'f_itera2': 0, 'w_itera1': 0, 'w_itera2': 0, 'x_itera1': 0, 'x_itera2': 0} rec_bb='no' bb_start=[1] bb_end=[0] bb_equil='no' l1_x=1.41 l1_y=-5.73 l1_z=4.02 l1_range=2.5 min_adis=3.0 max_adis=7.0 dlambda=0.001 ntpr='1000' ntwr='10000' ntwe='0' ntwx='10000' cut='9.0' gamma_ln='1.0' barostat='2' dt='0.004' itcheck='100' receptor_ff='protein.ff14SB' ligand_ff='gaff2' ligand_ph=7.0 retain_lig_prot='yes' ligand_charge=1 lipid_ff='lipid21' weights=[] mols=[] rng=3 ion_def=['Na+', 'Cl-', 0.15] poses_def=['pose0', 'pose1', 'pose2'] dic_steps1={'a': 100000, 'l': 100000, 't': 100000, 'm': 100000, 'n': 100000, 'c': 100000, 'r': 100000, 'e': 400000, 'v': 400000, 'f': 100000, 'w': 100000, 'x': 400000} dic_steps2={'a': 200000, 'l': 200000, 't': 200000, 'm': 200000, 'n': 200000, 'c': 200000, 'r': 200000, 'e': 600000, 'v': 600000, 'f': 200000, 'w': 200000, 'x': 600000} dic_itera1={'a': 0, 'l': 0, 't': 0, 'm': 0, 'n': 0, 'c': 0, 'r': 0, 'e': 0, 'v': 0, 'f': 0, 'w': 0, 'x': 0} dic_itera2={'a': 0, 'l': 0, 't': 0, 'm': 0, 'n': 0, 'c': 0, 'r': 0, 'e': 0, 'v': 0, 'f': 0, 'w': 0, 'x': 0} H1=':149@CA' H2=':119@CA' H3=':328@CA' rest=[50.0, 5.0, 5.0, 250.0, 70.0, 10.0, 10.0] celp_st='MOR' neut='no' apr_sim=2\n",
      "WARNING | Different retain_lig_prot in the input: yesSystem is prepared with {self.retain_lig_prot}\n",
      "INFO | Prepare for equilibration stage at /oak/stanford/groups/rondror/users/yuzhuang/software/batter/examples/test/inactive_rbfe//equil\n",
      "INFO | Preparing pose: pose0\n",
      "WARNING | Receptor is not set as chain A; trying to fetch the first residue from the protein and it may be wrong.\n",
      "INFO | Receptor anchors: P1: :84@CA; P2: :54@CA; P3: :263@CA\n",
      "INFO | Ligand anchors: L1: :289@O17; L2: :289@C18; L3: :289@C06\n",
      "INFO | Preparing pose: pose1\n",
      "WARNING | Receptor is not set as chain A; trying to fetch the first residue from the protein and it may be wrong.\n",
      "INFO | Receptor anchors: P1: :84@CA; P2: :54@CA; P3: :263@CA\n",
      "INFO | Ligand anchors: L1: :289@CE1; L2: :289@N2; L3: :289@N4\n",
      "INFO | Preparing pose: pose2\n",
      "WARNING | Receptor is not set as chain A; trying to fetch the first residue from the protein and it may be wrong.\n",
      "INFO | Receptor anchors: P1: :84@CA; P2: :54@CA; P3: :263@CA\n",
      "INFO | Ligand anchors: L1: :289@CAB; L2: :289@CAQ; L3: :289@CAY\n",
      "INFO | Equilibration systems have been created for all poses listed in the input file.\n",
      "INFO | Equil System prepared\n"
     ]
    }
   ],
   "source": [
    "# Prepare the system for the equilibration stage\n",
    "system.prepare(\n",
    "    stage='equil',\n",
    "    input_file=input_file,\n",
    "    overwrite=True,\n",
    ")"
   ]
  },
  {
   "cell_type": "markdown",
   "metadata": {},
   "source": [
    "Run the scripts in `generate_rmsf_restraints.ipynb` to generate the restraints file."
   ]
  },
  {
   "cell_type": "code",
   "execution_count": 20,
   "metadata": {},
   "outputs": [],
   "source": [
    "system.add_rmsf_restraints(\n",
    "    stage='equil',\n",
    "    avg_struc=f'test/{state}_avg.pdb',\n",
    "    rmsf_file=f'test/{state}_rmsf.txt'\n",
    ")"
   ]
  },
  {
   "cell_type": "code",
   "execution_count": 22,
   "metadata": {},
   "outputs": [
    {
     "name": "stderr",
     "output_type": "stream",
     "text": [
      "INFO | Submit equilibration stage\n",
      "INFO | Equilibration systems have been submitted for all poses listed in the input file.\n"
     ]
    }
   ],
   "source": [
    "# Submit the equilibration job to SLURM\n",
    "system.submit(stage='equil')"
   ]
  },
  {
   "cell_type": "markdown",
   "metadata": {},
   "source": [
    "Wait for the equilbration to finish."
   ]
  },
  {
   "cell_type": "code",
   "execution_count": 11,
   "metadata": {},
   "outputs": [
    {
     "name": "stderr",
     "output_type": "stream",
     "text": [
      "INFO | Simulation configuration: software='amber' calc_type='dock' celpp_receptor='MOR' poses_list=['0', '1', '2'] p1=':149@CA' p2=':119@CA' p3=':328@CA' ligand_list=[] other_mol=[] solv_shell=4.0 lipid_mol=['POPC', 'PA', 'PC', 'OL'] fe_type='relative' components=['x', 'e', 'n', 'm'] release_eq=[10.0, 2.5, 0.5, 0.0] attach_rest=[0.0, 0.1, 0.24, 0.56, 1.33, 3.16, 7.5, 10.5, 17.78, 20.0, 42.17, 50.0, 60.0, 75.0, 80.0, 100.0] ti_points=0 lambdas=[0.0001, 0.02, 0.04, 0.06, 0.1, 0.15, 0.2, 0.25, 0.3, 0.35, 0.4, 0.45, 0.5, 0.55, 0.6, 0.65, 0.7, 0.75, 0.8, 0.85, 0.92, 0.96, 0.98, 0.9999] sdr_dist=40.0 dec_method='exchange' dec_int='mbar' blocks=5 rec_dihcf_force=50.0 rec_discf_force=5.0 lig_distance_force=5.0 lig_angle_force=250.0 lig_dihcf_force=70.0 rec_com_force=10.0 lig_com_force=10.0 water_model='TIP3P' num_waters=0 buffer_x=12.0 buffer_y=12.0 buffer_z=22.0 lig_buffer=15.0 neutralize_only='no' cation='Na+' anion='Cl-' ion_conc=0.15 hmr='yes' temperature=310.0 eq_steps1=100000 eq_steps2=500000 n_steps_dict={'a_steps1': 100000, 'a_steps2': 200000, 'l_steps1': 100000, 'l_steps2': 200000, 't_steps1': 100000, 't_steps2': 200000, 'm_steps1': 100000, 'm_steps2': 200000, 'n_steps1': 100000, 'n_steps2': 200000, 'c_steps1': 100000, 'c_steps2': 200000, 'r_steps1': 100000, 'r_steps2': 200000, 'e_steps1': 400000, 'e_steps2': 600000, 'v_steps1': 400000, 'v_steps2': 600000, 'f_steps1': 100000, 'f_steps2': 200000, 'w_steps1': 100000, 'w_steps2': 200000, 'x_steps1': 400000, 'x_steps2': 600000} n_iter_dict={'a_itera1': 0, 'a_itera2': 0, 'l_itera1': 0, 'l_itera2': 0, 't_itera1': 0, 't_itera2': 0, 'm_itera1': 0, 'm_itera2': 0, 'n_itera1': 0, 'n_itera2': 0, 'c_itera1': 0, 'c_itera2': 0, 'r_itera1': 0, 'r_itera2': 0, 'e_itera1': 0, 'e_itera2': 0, 'v_itera1': 0, 'v_itera2': 0, 'f_itera1': 0, 'f_itera2': 0, 'w_itera1': 0, 'w_itera2': 0, 'x_itera1': 0, 'x_itera2': 0} rec_bb='no' bb_start=[1] bb_end=[0] bb_equil='no' l1_x=1.98 l1_y=-6.75 l1_z=4.06 l1_range=2.5 min_adis=3.0 max_adis=7.0 dlambda=0.001 ntpr='1000' ntwr='10000' ntwe='0' ntwx='10000' cut='9.0' gamma_ln='1.0' barostat='2' dt='0.004' itcheck='100' receptor_ff='protein.ff14SB' ligand_ff='gaff2' ligand_ph=7.0 retain_lig_prot='yes' ligand_charge=1 lipid_ff='lipid21' weights=[] mols=[] rng=3 ion_def=['Na+', 'Cl-', 0.15] poses_def=['pose0', 'pose1', 'pose2'] dic_steps1={'a': 100000, 'l': 100000, 't': 100000, 'm': 100000, 'n': 100000, 'c': 100000, 'r': 100000, 'e': 400000, 'v': 400000, 'f': 100000, 'w': 100000, 'x': 400000} dic_steps2={'a': 200000, 'l': 200000, 't': 200000, 'm': 200000, 'n': 200000, 'c': 200000, 'r': 200000, 'e': 600000, 'v': 600000, 'f': 200000, 'w': 200000, 'x': 600000} dic_itera1={'a': 0, 'l': 0, 't': 0, 'm': 0, 'n': 0, 'c': 0, 'r': 0, 'e': 0, 'v': 0, 'f': 0, 'w': 0, 'x': 0} dic_itera2={'a': 0, 'l': 0, 't': 0, 'm': 0, 'n': 0, 'c': 0, 'r': 0, 'e': 0, 'v': 0, 'f': 0, 'w': 0, 'x': 0} H1=':149@CA' H2=':119@CA' H3=':328@CA' rest=[50.0, 5.0, 5.0, 250.0, 70.0, 10.0, 10.0] celp_st='MOR' neut='no' apr_sim=2\n",
      "WARNING | Different retain_lig_prot in the input: yesSystem is prepared with {self.retain_lig_prot}\n",
      "INFO | Prepare for free energy stage\n",
      "  0%|          | 0/3 [00:00<?, ?it/s]"
     ]
    },
    {
     "name": "stderr",
     "output_type": "stream",
     "text": [
      "Preparing pose=pose0, comp=x, win=0.0001:   0%|          | 0/3 [00:01<?, ?it/s]"
     ]
    }
   ],
   "source": [
    "# Prepare the system for the free energy calculation\n",
    "system.prepare(\n",
    "    stage='fe',\n",
    "    input_file=input_file,\n",
    "#    overwrite=True,\n",
    ")"
   ]
  },
  {
   "cell_type": "code",
   "execution_count": 5,
   "metadata": {},
   "outputs": [],
   "source": [
    "system.add_rmsf_restraints(\n",
    "    stage='fe',\n",
    "    avg_struc=f'test/{state}_avg.pdb',\n",
    "    rmsf_file=f'test/{state}_rmsf.txt'\n",
    ")"
   ]
  },
  {
   "cell_type": "code",
   "execution_count": 6,
   "metadata": {},
   "outputs": [
    {
     "name": "stderr",
     "output_type": "stream",
     "text": [
      "INFO | Submit free energy stage\n",
      "INFO | Free energy systems have been submitted for all poses listed in the input file.\n"
     ]
    }
   ],
   "source": [
    "# Submit the equilibration job to SLURM\n",
    "system.submit(stage='fe')"
   ]
  },
  {
   "cell_type": "markdown",
   "metadata": {},
   "source": [
    "Wait for the production to finish."
   ]
  },
  {
   "cell_type": "code",
   "execution_count": null,
   "metadata": {},
   "outputs": [],
   "source": [
    "system.analysis()"
   ]
  }
 ],
 "metadata": {
  "kernelspec": {
   "display_name": "batter",
   "language": "python",
   "name": "python3"
  },
  "language_info": {
   "codemirror_mode": {
    "name": "ipython",
    "version": 3
   },
   "file_extension": ".py",
   "mimetype": "text/x-python",
   "name": "python",
   "nbconvert_exporter": "python",
   "pygments_lexer": "ipython3",
   "version": "3.11.0"
  }
 },
 "nbformat": 4,
 "nbformat_minor": 2
}
