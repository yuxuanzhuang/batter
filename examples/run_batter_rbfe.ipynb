{
 "cells": [
  {
   "cell_type": "code",
   "execution_count": 2,
   "metadata": {},
   "outputs": [],
   "source": [
    "import glob\n",
    "import numpy as np\n",
    "from batter import RBFESystem\n",
    "from batter.input_process import get_configure_from_file, parse_input_file\n",
    "\n",
    "from logging import getLogger, DEBUG \n",
    "logger = getLogger()\n",
    "logger.setLevel(DEBUG)"
   ]
  },
  {
   "cell_type": "code",
   "execution_count": 3,
   "metadata": {},
   "outputs": [],
   "source": [
    "protein_file = 'data/7T2G_mp/protein_input.pdb'\n",
    "system_file = 'data/7T2G_mp/system_input.pdb'\n",
    "ligand_files = ['data/7T2G_mp/ligand_MP.pdb',\n",
    "                'data/7T2G_mp/ligand_DAMGO.pdb']\n",
    "system_inpcrd = 'data/7T2G_mp/system_input.inpcrd'"
   ]
  },
  {
   "cell_type": "code",
   "execution_count": 5,
   "metadata": {},
   "outputs": [
    {
     "name": "stderr",
     "output_type": "stream",
     "text": [
      "16-Dec-2024 13:57:53 | INFO | Creating a new system: /oak/stanford/groups/rondror/users/yuzhuang/software/batter/examples/test/rbfe/\n"
     ]
    }
   ],
   "source": [
    "test_system = RBFESystem(folder='test/rbfe')"
   ]
  },
  {
   "cell_type": "code",
   "execution_count": 7,
   "metadata": {},
   "outputs": [
    {
     "name": "stderr",
     "output_type": "stream",
     "text": [
      "16-Dec-2024 13:58:00 | INFO | Input: membrane system\n",
      "16-Dec-2024 13:58:00 | INFO | Getting the alignment of the protein and ligand to the system\n",
      "16-Dec-2024 13:58:01 | INFO | Processing the system\n",
      "16-Dec-2024 13:58:06 | INFO | Processing ligand: sc3\n",
      "16-Dec-2024 13:58:06 | INFO | Processing ligand file: data/7T2G_mp/ligand_MP.pdb\n",
      "16-Dec-2024 13:58:06 | INFO | The babel protonation of the ligand is for pH 7.40\n",
      "16-Dec-2024 13:58:06 | INFO | The net charge of the ligand is 1.0\n",
      "16-Dec-2024 13:58:06 | INFO | Preparing ligand sc3 parameters\n",
      "16-Dec-2024 13:59:43 | INFO | Ligand {mol} parameters prepared\n",
      "16-Dec-2024 13:59:43 | INFO | Preparing ligand poses\n",
      "16-Dec-2024 13:59:43 | INFO | Processing ligand: damg\n",
      "16-Dec-2024 13:59:43 | INFO | Processing ligand file: data/7T2G_mp/ligand_DAMGO.pdb\n",
      "16-Dec-2024 13:59:44 | INFO | The babel protonation of the ligand is for pH 7.40\n",
      "16-Dec-2024 13:59:44 | INFO | The net charge of the ligand is 0.0\n",
      "16-Dec-2024 13:59:44 | INFO | Preparing ligand damg parameters\n",
      "16-Dec-2024 13:59:44 | INFO | Command failed with return code 1\n"
     ]
    },
    {
     "ename": "CalledProcessError",
     "evalue": "Command 'antechamber -i /oak/stanford/groups/rondror/users/yuzhuang/software/batter/examples/test/rbfe//ff/damg.mol2 -fi mol2 -o /oak/stanford/groups/rondror/users/yuzhuang/software/batter/examples/test/rbfe//ff/damg_ante.mol2 -fo mol2 -c bcc -s 2 -at gaff2 -nc 0.0' returned non-zero exit status 1.",
     "output_type": "error",
     "traceback": [
      "\u001b[0;31m---------------------------------------------------------------------------\u001b[0m",
      "\u001b[0;31mCalledProcessError\u001b[0m                        Traceback (most recent call last)",
      "Cell \u001b[0;32mIn[7], line 1\u001b[0m\n\u001b[0;32m----> 1\u001b[0m \u001b[43mtest_system\u001b[49m\u001b[38;5;241;43m.\u001b[39;49m\u001b[43mcreate_system\u001b[49m\u001b[43m(\u001b[49m\n\u001b[1;32m      2\u001b[0m \u001b[43m            \u001b[49m\u001b[43msystem_name\u001b[49m\u001b[38;5;241;43m=\u001b[39;49m\u001b[38;5;124;43m'\u001b[39;49m\u001b[38;5;124;43m7T2G\u001b[39;49m\u001b[38;5;124;43m'\u001b[39;49m\u001b[43m,\u001b[49m\n\u001b[1;32m      3\u001b[0m \u001b[43m            \u001b[49m\u001b[43mprotein_input\u001b[49m\u001b[38;5;241;43m=\u001b[39;49m\u001b[43mprotein_file\u001b[49m\u001b[43m,\u001b[49m\n\u001b[1;32m      4\u001b[0m \u001b[43m            \u001b[49m\u001b[43msystem_topology\u001b[49m\u001b[38;5;241;43m=\u001b[39;49m\u001b[43msystem_file\u001b[49m\u001b[43m,\u001b[49m\n\u001b[1;32m      5\u001b[0m \u001b[43m            \u001b[49m\u001b[43msystem_coordinate\u001b[49m\u001b[38;5;241;43m=\u001b[39;49m\u001b[43msystem_inpcrd\u001b[49m\u001b[43m,\u001b[49m\n\u001b[1;32m      6\u001b[0m \u001b[43m            \u001b[49m\u001b[43mligand_paths\u001b[49m\u001b[38;5;241;43m=\u001b[39;49m\u001b[43mligand_files\u001b[49m\u001b[43m,\u001b[49m\n\u001b[1;32m      7\u001b[0m \u001b[43m            \u001b[49m\u001b[43moverwrite\u001b[49m\u001b[38;5;241;43m=\u001b[39;49m\u001b[38;5;28;43;01mTrue\u001b[39;49;00m\u001b[43m,\u001b[49m\n\u001b[1;32m      8\u001b[0m \u001b[43m            \u001b[49m\u001b[43mlipid_mol\u001b[49m\u001b[38;5;241;43m=\u001b[39;49m\u001b[43m[\u001b[49m\u001b[38;5;124;43m'\u001b[39;49m\u001b[38;5;124;43mPOPC\u001b[39;49m\u001b[38;5;124;43m'\u001b[39;49m\u001b[43m]\u001b[49m\u001b[43m)\u001b[49m\n",
      "File \u001b[0;32m/oak/stanford/groups/rondror/users/yuzhuang/software/batter/batter/batter.py:272\u001b[0m, in \u001b[0;36mSystem.create_system\u001b[0;34m(self, system_name, protein_input, system_topology, ligand_paths, receptor_segment, system_coordinate, protein_align, retain_lig_prot, ligand_ph, ligand_ff, lipid_mol, lipid_ff, overwrite)\u001b[0m\n\u001b[1;32m    270\u001b[0m     \u001b[38;5;28;01mif\u001b[39;00m \u001b[38;5;28mself\u001b[39m\u001b[38;5;241m.\u001b[39moverwrite \u001b[38;5;129;01mor\u001b[39;00m \u001b[38;5;129;01mnot\u001b[39;00m os\u001b[38;5;241m.\u001b[39mpath\u001b[38;5;241m.\u001b[39mexists(\u001b[38;5;124mf\u001b[39m\u001b[38;5;124m\"\u001b[39m\u001b[38;5;132;01m{\u001b[39;00m\u001b[38;5;28mself\u001b[39m\u001b[38;5;241m.\u001b[39mligandff_folder\u001b[38;5;132;01m}\u001b[39;00m\u001b[38;5;124m/\u001b[39m\u001b[38;5;132;01m{\u001b[39;00m\u001b[38;5;28mself\u001b[39m\u001b[38;5;241m.\u001b[39m_mol\u001b[38;5;132;01m}\u001b[39;00m\u001b[38;5;124m.frcmod\u001b[39m\u001b[38;5;124m\"\u001b[39m):\n\u001b[1;32m    271\u001b[0m         logger\u001b[38;5;241m.\u001b[39minfo(\u001b[38;5;124mf\u001b[39m\u001b[38;5;124m'\u001b[39m\u001b[38;5;124mProcessing ligand: \u001b[39m\u001b[38;5;132;01m{\u001b[39;00m\u001b[38;5;28mself\u001b[39m\u001b[38;5;241m.\u001b[39m_mol\u001b[38;5;132;01m}\u001b[39;00m\u001b[38;5;124m'\u001b[39m)\n\u001b[0;32m--> 272\u001b[0m         \u001b[38;5;28;43mself\u001b[39;49m\u001b[38;5;241;43m.\u001b[39;49m\u001b[43m_process_ligand\u001b[49m\u001b[43m(\u001b[49m\u001b[43m)\u001b[49m\n\u001b[1;32m    273\u001b[0m         \u001b[38;5;28mself\u001b[39m\u001b[38;5;241m.\u001b[39m_prepare_ligand_poses()\n\u001b[1;32m    275\u001b[0m \u001b[38;5;66;03m# dump the system configuration\u001b[39;00m\n",
      "File \u001b[0;32m/oak/stanford/groups/rondror/users/yuzhuang/software/batter/batter/batter.py:432\u001b[0m, in \u001b[0;36mSystem._process_ligand\u001b[0;34m(self)\u001b[0m\n\u001b[1;32m    429\u001b[0m logger\u001b[38;5;241m.\u001b[39minfo(\u001b[38;5;124mf\u001b[39m\u001b[38;5;124m'\u001b[39m\u001b[38;5;124mThe babel protonation of the ligand is for pH \u001b[39m\u001b[38;5;132;01m{\u001b[39;00m\u001b[38;5;28mself\u001b[39m\u001b[38;5;241m.\u001b[39mligand_ph\u001b[38;5;132;01m:\u001b[39;00m\u001b[38;5;124m.2f\u001b[39m\u001b[38;5;132;01m}\u001b[39;00m\u001b[38;5;124m'\u001b[39m)\n\u001b[1;32m    430\u001b[0m logger\u001b[38;5;241m.\u001b[39minfo(\u001b[38;5;124mf\u001b[39m\u001b[38;5;124m'\u001b[39m\u001b[38;5;124mThe net charge of the ligand is \u001b[39m\u001b[38;5;132;01m{\u001b[39;00m\u001b[38;5;28mself\u001b[39m\u001b[38;5;241m.\u001b[39mligand_charge\u001b[38;5;132;01m}\u001b[39;00m\u001b[38;5;124m'\u001b[39m)\n\u001b[0;32m--> 432\u001b[0m \u001b[38;5;28;43mself\u001b[39;49m\u001b[38;5;241;43m.\u001b[39;49m\u001b[43m_prepare_ligand_parameters\u001b[49m\u001b[43m(\u001b[49m\u001b[43m)\u001b[49m\n",
      "File \u001b[0;32m/oak/stanford/groups/rondror/users/yuzhuang/software/batter/batter/batter.py:443\u001b[0m, in \u001b[0;36mSystem._prepare_ligand_parameters\u001b[0;34m(self)\u001b[0m\n\u001b[1;32m    441\u001b[0m antechamber_command \u001b[38;5;241m=\u001b[39m \u001b[38;5;124mf\u001b[39m\u001b[38;5;124m'\u001b[39m\u001b[38;5;132;01m{\u001b[39;00mantechamber\u001b[38;5;132;01m}\u001b[39;00m\u001b[38;5;124m -i \u001b[39m\u001b[38;5;132;01m{\u001b[39;00m\u001b[38;5;28mself\u001b[39m\u001b[38;5;241m.\u001b[39m_ligand_mol2_path\u001b[38;5;132;01m}\u001b[39;00m\u001b[38;5;124m -fi mol2 -o \u001b[39m\u001b[38;5;132;01m{\u001b[39;00m\u001b[38;5;28mself\u001b[39m\u001b[38;5;241m.\u001b[39mligandff_folder\u001b[38;5;132;01m}\u001b[39;00m\u001b[38;5;124m/\u001b[39m\u001b[38;5;132;01m{\u001b[39;00mmol\u001b[38;5;132;01m}\u001b[39;00m\u001b[38;5;124m_ante.mol2 -fo mol2 -c bcc -s 2 -at \u001b[39m\u001b[38;5;132;01m{\u001b[39;00m\u001b[38;5;28mself\u001b[39m\u001b[38;5;241m.\u001b[39mligand_ff\u001b[38;5;132;01m}\u001b[39;00m\u001b[38;5;124m -nc \u001b[39m\u001b[38;5;132;01m{\u001b[39;00m\u001b[38;5;28mself\u001b[39m\u001b[38;5;241m.\u001b[39mligand_charge\u001b[38;5;132;01m}\u001b[39;00m\u001b[38;5;124m'\u001b[39m\n\u001b[1;32m    442\u001b[0m \u001b[38;5;28;01mwith\u001b[39;00m tempfile\u001b[38;5;241m.\u001b[39mTemporaryDirectory() \u001b[38;5;28;01mas\u001b[39;00m tmpdir:\n\u001b[0;32m--> 443\u001b[0m     \u001b[43mrun_with_log\u001b[49m\u001b[43m(\u001b[49m\u001b[43mantechamber_command\u001b[49m\u001b[43m,\u001b[49m\u001b[43m \u001b[49m\u001b[43mworking_dir\u001b[49m\u001b[38;5;241;43m=\u001b[39;49m\u001b[43mtmpdir\u001b[49m\u001b[43m)\u001b[49m\n\u001b[1;32m    444\u001b[0m shutil\u001b[38;5;241m.\u001b[39mcopy(\u001b[38;5;124mf\u001b[39m\u001b[38;5;124m\"\u001b[39m\u001b[38;5;132;01m{\u001b[39;00m\u001b[38;5;28mself\u001b[39m\u001b[38;5;241m.\u001b[39mligandff_folder\u001b[38;5;132;01m}\u001b[39;00m\u001b[38;5;124m/\u001b[39m\u001b[38;5;132;01m{\u001b[39;00mmol\u001b[38;5;132;01m}\u001b[39;00m\u001b[38;5;124m_ante.mol2\u001b[39m\u001b[38;5;124m\"\u001b[39m, \u001b[38;5;124mf\u001b[39m\u001b[38;5;124m\"\u001b[39m\u001b[38;5;132;01m{\u001b[39;00m\u001b[38;5;28mself\u001b[39m\u001b[38;5;241m.\u001b[39mligandff_folder\u001b[38;5;132;01m}\u001b[39;00m\u001b[38;5;124m/\u001b[39m\u001b[38;5;132;01m{\u001b[39;00mmol\u001b[38;5;132;01m}\u001b[39;00m\u001b[38;5;124m.mol2\u001b[39m\u001b[38;5;124m\"\u001b[39m)\n\u001b[1;32m    445\u001b[0m \u001b[38;5;28mself\u001b[39m\u001b[38;5;241m.\u001b[39m_ligand_mol2_path \u001b[38;5;241m=\u001b[39m \u001b[38;5;124mf\u001b[39m\u001b[38;5;124m\"\u001b[39m\u001b[38;5;132;01m{\u001b[39;00m\u001b[38;5;28mself\u001b[39m\u001b[38;5;241m.\u001b[39mligandff_folder\u001b[38;5;132;01m}\u001b[39;00m\u001b[38;5;124m/\u001b[39m\u001b[38;5;132;01m{\u001b[39;00mmol\u001b[38;5;132;01m}\u001b[39;00m\u001b[38;5;124m.mol2\u001b[39m\u001b[38;5;124m\"\u001b[39m\n",
      "File \u001b[0;32m/oak/stanford/groups/rondror/users/yuzhuang/software/batter/batter/utils/utils.py:67\u001b[0m, in \u001b[0;36mrun_with_log\u001b[0;34m(command, level, working_dir, error_match)\u001b[0m\n\u001b[1;32m     64\u001b[0m logger\u001b[38;5;241m.\u001b[39mdebug(\u001b[38;5;124mf\u001b[39m\u001b[38;5;124m\"\u001b[39m\u001b[38;5;124mWorking directory: \u001b[39m\u001b[38;5;132;01m{\u001b[39;00mworking_dir\u001b[38;5;132;01m}\u001b[39;00m\u001b[38;5;124m\"\u001b[39m)\n\u001b[1;32m     65\u001b[0m \u001b[38;5;28;01mtry\u001b[39;00m:\n\u001b[1;32m     66\u001b[0m     \u001b[38;5;66;03m# Run the command and capture output\u001b[39;00m\n\u001b[0;32m---> 67\u001b[0m     result \u001b[38;5;241m=\u001b[39m \u001b[43msp\u001b[49m\u001b[38;5;241;43m.\u001b[39;49m\u001b[43mrun\u001b[49m\u001b[43m(\u001b[49m\n\u001b[1;32m     68\u001b[0m \u001b[43m        \u001b[49m\u001b[43mcommand\u001b[49m\u001b[43m,\u001b[49m\n\u001b[1;32m     69\u001b[0m \u001b[43m        \u001b[49m\u001b[43mshell\u001b[49m\u001b[38;5;241;43m=\u001b[39;49m\u001b[38;5;28;43;01mTrue\u001b[39;49;00m\u001b[43m,\u001b[49m\n\u001b[1;32m     70\u001b[0m \u001b[43m        \u001b[49m\u001b[43mstdout\u001b[49m\u001b[38;5;241;43m=\u001b[39;49m\u001b[43msp\u001b[49m\u001b[38;5;241;43m.\u001b[39;49m\u001b[43mPIPE\u001b[49m\u001b[43m,\u001b[49m\n\u001b[1;32m     71\u001b[0m \u001b[43m        \u001b[49m\u001b[43mstderr\u001b[49m\u001b[38;5;241;43m=\u001b[39;49m\u001b[43msp\u001b[49m\u001b[38;5;241;43m.\u001b[39;49m\u001b[43mPIPE\u001b[49m\u001b[43m,\u001b[49m\n\u001b[1;32m     72\u001b[0m \u001b[43m        \u001b[49m\u001b[43mtext\u001b[49m\u001b[38;5;241;43m=\u001b[39;49m\u001b[38;5;28;43;01mTrue\u001b[39;49;00m\u001b[43m,\u001b[49m\n\u001b[1;32m     73\u001b[0m \u001b[43m        \u001b[49m\u001b[43mcheck\u001b[49m\u001b[38;5;241;43m=\u001b[39;49m\u001b[38;5;28;43;01mTrue\u001b[39;49;00m\u001b[43m,\u001b[49m\n\u001b[1;32m     74\u001b[0m \u001b[43m        \u001b[49m\u001b[43mcwd\u001b[49m\u001b[38;5;241;43m=\u001b[39;49m\u001b[43mworking_dir\u001b[49m\n\u001b[1;32m     75\u001b[0m \u001b[43m    \u001b[49m\u001b[43m)\u001b[49m\n\u001b[1;32m     77\u001b[0m     \u001b[38;5;28;01mif\u001b[39;00m error_match:\n\u001b[1;32m     78\u001b[0m         \u001b[38;5;28;01mif\u001b[39;00m error_match \u001b[38;5;129;01min\u001b[39;00m result\u001b[38;5;241m.\u001b[39mstdout \u001b[38;5;129;01mor\u001b[39;00m error_match \u001b[38;5;129;01min\u001b[39;00m result\u001b[38;5;241m.\u001b[39mstderr:\n",
      "File \u001b[0;32m/scratch/users/yuzhuang/miniforge3/envs/md_0807/lib/python3.11/subprocess.py:569\u001b[0m, in \u001b[0;36mrun\u001b[0;34m(input, capture_output, timeout, check, *popenargs, **kwargs)\u001b[0m\n\u001b[1;32m    567\u001b[0m     retcode \u001b[38;5;241m=\u001b[39m process\u001b[38;5;241m.\u001b[39mpoll()\n\u001b[1;32m    568\u001b[0m     \u001b[38;5;28;01mif\u001b[39;00m check \u001b[38;5;129;01mand\u001b[39;00m retcode:\n\u001b[0;32m--> 569\u001b[0m         \u001b[38;5;28;01mraise\u001b[39;00m CalledProcessError(retcode, process\u001b[38;5;241m.\u001b[39margs,\n\u001b[1;32m    570\u001b[0m                                  output\u001b[38;5;241m=\u001b[39mstdout, stderr\u001b[38;5;241m=\u001b[39mstderr)\n\u001b[1;32m    571\u001b[0m \u001b[38;5;28;01mreturn\u001b[39;00m CompletedProcess(process\u001b[38;5;241m.\u001b[39margs, retcode, stdout, stderr)\n",
      "\u001b[0;31mCalledProcessError\u001b[0m: Command 'antechamber -i /oak/stanford/groups/rondror/users/yuzhuang/software/batter/examples/test/rbfe//ff/damg.mol2 -fi mol2 -o /oak/stanford/groups/rondror/users/yuzhuang/software/batter/examples/test/rbfe//ff/damg_ante.mol2 -fo mol2 -c bcc -s 2 -at gaff2 -nc 0.0' returned non-zero exit status 1."
     ]
    }
   ],
   "source": [
    "test_system.create_system(\n",
    "            system_name='7T2G',\n",
    "            protein_input=protein_file,\n",
    "            system_topology=system_file,\n",
    "            system_coordinate=system_inpcrd,\n",
    "            ligand_paths=ligand_files,\n",
    "            overwrite=True,\n",
    "            lipid_mol=['POPC'])"
   ]
  },
  {
   "cell_type": "code",
   "execution_count": 5,
   "metadata": {},
   "outputs": [],
   "source": [
    "sim_config = get_configure_from_file('data/md_input/lipid.in')"
   ]
  },
  {
   "cell_type": "code",
   "execution_count": 6,
   "metadata": {},
   "outputs": [
    {
     "name": "stderr",
     "output_type": "stream",
     "text": [
      "16-Dec-2024 12:54:02 | INFO | Preparing the system\n",
      "16-Dec-2024 12:54:02 | INFO | Simulation configuration: software='amber' calc_type='dock' celpp_receptor='7T2G' poses_list=['0'] p1=':147@CA' p2=':117@CA' p3=':326@CA' ligand_list=[] other_mol=[] solv_shell=4.0 lipid_mol=['POPC', 'PA', 'PC', 'OL'] fe_type='express' components=['m', 'n', 'e', 'v'] release_eq=[10.0, 2.5, 0.5, 0.0] attach_rest=[0.0, 0.1, 0.24, 0.56, 1.33, 3.16, 7.5, 10.5, 17.78, 20.0, 42.17, 50.0, 60.0, 75.0, 80.0, 100.0] ti_points=0 lambdas=[0.0001, 0.02, 0.04, 0.06, 0.1, 0.15, 0.2, 0.25, 0.3, 0.35, 0.4, 0.45, 0.5, 0.55, 0.6, 0.65, 0.7, 0.75, 0.8, 0.85, 0.92, 0.96, 0.98, 0.9999] sdr_dist=40.0 dec_method='sdr' dec_int='mbar' blocks=5 rec_dihcf_force=50.0 rec_discf_force=5.0 lig_distance_force=5.0 lig_angle_force=250.0 lig_dihcf_force=70.0 rec_com_force=10.0 lig_com_force=10.0 water_model='TIP3P' num_waters=0 buffer_x=12.0 buffer_y=12.0 buffer_z=22.0 lig_buffer=15.0 neutralize_only='no' cation='Na+' anion='Cl-' ion_conc=0.15 hmr='yes' temperature=310.0 eq_steps1=100000 eq_steps2=5000000 n_steps_dict={'a_steps1': 100000, 'a_steps2': 200000, 'l_steps1': 100000, 'l_steps2': 200000, 't_steps1': 100000, 't_steps2': 200000, 'm_steps1': 100000, 'm_steps2': 200000, 'n_steps1': 100000, 'n_steps2': 200000, 'c_steps1': 100000, 'c_steps2': 200000, 'r_steps1': 100000, 'r_steps2': 200000, 'e_steps1': 200000, 'e_steps2': 400000, 'v_steps1': 400000, 'v_steps2': 600000, 'f_steps1': 100000, 'f_steps2': 200000, 'w_steps1': 100000, 'w_steps2': 200000, 'x_steps1': 0, 'x_steps2': 0} n_iter_dict={'a_itera1': 0, 'a_itera2': 0, 'l_itera1': 0, 'l_itera2': 0, 't_itera1': 0, 't_itera2': 0, 'm_itera1': 0, 'm_itera2': 0, 'n_itera1': 0, 'n_itera2': 0, 'c_itera1': 0, 'c_itera2': 0, 'r_itera1': 0, 'r_itera2': 0, 'e_itera1': 0, 'e_itera2': 0, 'v_itera1': 0, 'v_itera2': 0, 'f_itera1': 0, 'f_itera2': 0, 'w_itera1': 0, 'w_itera2': 0, 'x_itera1': 0, 'x_itera2': 0} rec_bb='no' bb_start=[1] bb_end=[0] bb_equil='no' l1_x=2.1 l1_y=-6.8 l1_z=3.9 l1_range=2.5 min_adis=3.0 max_adis=7.0 dlambda=0.001 ntpr='1000' ntwr='10000' ntwe='0' ntwx='2500' cut='9.0' gamma_ln='1.0' barostat='2' dt='0.004' itcheck='100' receptor_ff='protein.ff14SB' ligand_ff='gaff2' ligand_ph=7.0 retain_lig_prot='yes' ligand_charge=1 lipid_ff='lipid21' weights=[] mols=[] rng=3 ion_def=['Na+', 'Cl-', 0.15] poses_def=['pose0'] dic_steps1={'a': 100000, 'l': 100000, 't': 100000, 'm': 100000, 'n': 100000, 'c': 100000, 'r': 100000, 'e': 200000, 'v': 400000, 'f': 100000, 'w': 100000, 'x': 0} dic_steps2={'a': 200000, 'l': 200000, 't': 200000, 'm': 200000, 'n': 200000, 'c': 200000, 'r': 200000, 'e': 400000, 'v': 600000, 'f': 200000, 'w': 200000, 'x': 0} dic_itera1={'a': 0, 'l': 0, 't': 0, 'm': 0, 'n': 0, 'c': 0, 'r': 0, 'e': 0, 'v': 0, 'f': 0, 'w': 0, 'x': 0} dic_itera2={'a': 0, 'l': 0, 't': 0, 'm': 0, 'n': 0, 'c': 0, 'r': 0, 'e': 0, 'v': 0, 'f': 0, 'w': 0, 'x': 0} H1=':147@CA' H2=':117@CA' H3=':326@CA' rest=[50.0, 5.0, 5.0, 250.0, 70.0, 10.0, 10.0] celp_st='7T2G' neut='no' apr_sim=2\n",
      "16-Dec-2024 12:54:02 | INFO | Prepare for equilibration stage at /oak/stanford/groups/rondror/users/yuzhuang/software/batter/examples/test/example//equil\n",
      "16-Dec-2024 12:54:02 | INFO | Overwrite is set. Removing existing equilibration files\n",
      "16-Dec-2024 12:54:02 | INFO | Prepare for equilibration stage\n",
      "16-Dec-2024 12:54:02 | INFO | Preparing pose: pose0\n",
      "16-Dec-2024 12:54:02 | INFO | Building pose0...\n",
      "16-Dec-2024 12:54:05 | WARNING | Receptor is not set as chain A; trying to fetch the first residue from the protein and it may be wrong.\n",
      "16-Dec-2024 12:54:05 | INFO | P1: :82@CA\n",
      "16-Dec-2024 12:54:05 | INFO | P2: :52@CA\n",
      "16-Dec-2024 12:54:05 | INFO | P3: :261@CA\n",
      "16-Dec-2024 12:54:05 | WARNING | The residue names of the lipids are four-letter names.They were truncated to three-letter namesfor compatibility with AMBER.\n",
      "16-Dec-2024 12:54:20 | INFO | Ligand anchors:\n",
      "16-Dec-2024 12:54:20 | INFO | L1: :289@C24\n",
      "16-Dec-2024 12:54:21 | INFO | L2: :289@C1\n",
      "16-Dec-2024 12:54:21 | INFO | L3: :289@O1\n"
     ]
    },
    {
     "name": "stdout",
     "output_type": "stream",
     "text": [
      "Building the system in /oak/stanford/groups/rondror/users/yuzhuang/software/batter/examples/test/example/equil/pose0\n"
     ]
    },
    {
     "name": "stderr",
     "output_type": "stream",
     "text": [
      "16-Dec-2024 12:55:17 | INFO | Equilibration systems have been created for all poses listed in the input file.\n",
      "16-Dec-2024 12:55:17 | INFO | now cd equil/pose0\n",
      "16-Dec-2024 12:55:17 | INFO | sbatch SLURMM-run\n",
      "16-Dec-2024 12:55:17 | INFO | Equil System prepared\n"
     ]
    }
   ],
   "source": [
    "# Prepare the system for the equilibration stage\n",
    "test_system.prepare(\n",
    "    stage='equil',\n",
    "#    input_file='data/md_input/lipid.in',\n",
    "    input_file=sim_config,\n",
    "    overwrite=True,\n",
    ")"
   ]
  },
  {
   "cell_type": "code",
   "execution_count": 7,
   "metadata": {},
   "outputs": [],
   "source": [
    "# Submit the equilibration job to SLURM\n",
    "# test_system.submit(stage='equil')"
   ]
  },
  {
   "cell_type": "code",
   "execution_count": 8,
   "metadata": {},
   "outputs": [
    {
     "name": "stderr",
     "output_type": "stream",
     "text": [
      "16-Dec-2024 12:55:17 | INFO | Preparing the system\n",
      "16-Dec-2024 12:55:17 | INFO | Simulation configuration: software='amber' calc_type='dock' celpp_receptor='7T2G' poses_list=['0'] p1=':147@CA' p2=':117@CA' p3=':326@CA' ligand_list=[] other_mol=[] solv_shell=4.0 lipid_mol=['POPC', 'PA', 'PC', 'OL'] fe_type='express' components=['m', 'n', 'e', 'v'] release_eq=[10.0, 2.5, 0.5, 0.0] attach_rest=[0.0, 0.1, 0.24, 0.56, 1.33, 3.16, 7.5, 10.5, 17.78, 20.0, 42.17, 50.0, 60.0, 75.0, 80.0, 100.0] ti_points=0 lambdas=[0.0001, 0.02, 0.04, 0.06, 0.1, 0.15, 0.2, 0.25, 0.3, 0.35, 0.4, 0.45, 0.5, 0.55, 0.6, 0.65, 0.7, 0.75, 0.8, 0.85, 0.92, 0.96, 0.98, 0.9999] sdr_dist=40.0 dec_method='sdr' dec_int='mbar' blocks=5 rec_dihcf_force=50.0 rec_discf_force=5.0 lig_distance_force=5.0 lig_angle_force=250.0 lig_dihcf_force=70.0 rec_com_force=10.0 lig_com_force=10.0 water_model='TIP3P' num_waters=0 buffer_x=12.0 buffer_y=12.0 buffer_z=22.0 lig_buffer=15.0 neutralize_only='no' cation='Na+' anion='Cl-' ion_conc=0.15 hmr='yes' temperature=310.0 eq_steps1=100000 eq_steps2=5000000 n_steps_dict={'a_steps1': 100000, 'a_steps2': 200000, 'l_steps1': 100000, 'l_steps2': 200000, 't_steps1': 100000, 't_steps2': 200000, 'm_steps1': 100000, 'm_steps2': 200000, 'n_steps1': 100000, 'n_steps2': 200000, 'c_steps1': 100000, 'c_steps2': 200000, 'r_steps1': 100000, 'r_steps2': 200000, 'e_steps1': 200000, 'e_steps2': 400000, 'v_steps1': 400000, 'v_steps2': 600000, 'f_steps1': 100000, 'f_steps2': 200000, 'w_steps1': 100000, 'w_steps2': 200000, 'x_steps1': 0, 'x_steps2': 0} n_iter_dict={'a_itera1': 0, 'a_itera2': 0, 'l_itera1': 0, 'l_itera2': 0, 't_itera1': 0, 't_itera2': 0, 'm_itera1': 0, 'm_itera2': 0, 'n_itera1': 0, 'n_itera2': 0, 'c_itera1': 0, 'c_itera2': 0, 'r_itera1': 0, 'r_itera2': 0, 'e_itera1': 0, 'e_itera2': 0, 'v_itera1': 0, 'v_itera2': 0, 'f_itera1': 0, 'f_itera2': 0, 'w_itera1': 0, 'w_itera2': 0, 'x_itera1': 0, 'x_itera2': 0} rec_bb='no' bb_start=[1] bb_end=[0] bb_equil='no' l1_x=2.1 l1_y=-6.8 l1_z=3.9 l1_range=2.5 min_adis=3.0 max_adis=7.0 dlambda=0.001 ntpr='1000' ntwr='10000' ntwe='0' ntwx='2500' cut='9.0' gamma_ln='1.0' barostat='2' dt='0.004' itcheck='100' receptor_ff='protein.ff14SB' ligand_ff='gaff2' ligand_ph=7.0 retain_lig_prot='yes' ligand_charge=1 lipid_ff='lipid21' weights=[] mols=[] rng=3 ion_def=['Na+', 'Cl-', 0.15] poses_def=['pose0'] dic_steps1={'a': 100000, 'l': 100000, 't': 100000, 'm': 100000, 'n': 100000, 'c': 100000, 'r': 100000, 'e': 200000, 'v': 400000, 'f': 100000, 'w': 100000, 'x': 0} dic_steps2={'a': 200000, 'l': 200000, 't': 200000, 'm': 200000, 'n': 200000, 'c': 200000, 'r': 200000, 'e': 400000, 'v': 600000, 'f': 200000, 'w': 200000, 'x': 0} dic_itera1={'a': 0, 'l': 0, 't': 0, 'm': 0, 'n': 0, 'c': 0, 'r': 0, 'e': 0, 'v': 0, 'f': 0, 'w': 0, 'x': 0} dic_itera2={'a': 0, 'l': 0, 't': 0, 'm': 0, 'n': 0, 'c': 0, 'r': 0, 'e': 0, 'v': 0, 'f': 0, 'w': 0, 'x': 0} H1=':147@CA' H2=':117@CA' H3=':326@CA' rest=[50.0, 5.0, 5.0, 250.0, 70.0, 10.0, 10.0] celp_st='7T2G' neut='no' apr_sim=2\n"
     ]
    },
    {
     "ename": "FileNotFoundError",
     "evalue": "Equilibration not finished yet. First run the equilibration.",
     "output_type": "error",
     "traceback": [
      "\u001b[0;31m---------------------------------------------------------------------------\u001b[0m",
      "\u001b[0;31mFileNotFoundError\u001b[0m                         Traceback (most recent call last)",
      "Cell \u001b[0;32mIn[8], line 2\u001b[0m\n\u001b[1;32m      1\u001b[0m \u001b[38;5;66;03m# Prepare the system for the free energy calculation\u001b[39;00m\n\u001b[0;32m----> 2\u001b[0m \u001b[43mtest_system\u001b[49m\u001b[38;5;241;43m.\u001b[39;49m\u001b[43mprepare\u001b[49m\u001b[43m(\u001b[49m\n\u001b[1;32m      3\u001b[0m \u001b[43m    \u001b[49m\u001b[43mstage\u001b[49m\u001b[38;5;241;43m=\u001b[39;49m\u001b[38;5;124;43m'\u001b[39;49m\u001b[38;5;124;43mfe\u001b[39;49m\u001b[38;5;124;43m'\u001b[39;49m\u001b[43m,\u001b[49m\n\u001b[1;32m      4\u001b[0m \u001b[38;5;66;43;03m#    input_file='data/md_input/lipid.in',\u001b[39;49;00m\n\u001b[1;32m      5\u001b[0m \u001b[43m    \u001b[49m\u001b[43minput_file\u001b[49m\u001b[38;5;241;43m=\u001b[39;49m\u001b[43msim_config\u001b[49m\u001b[43m,\u001b[49m\n\u001b[1;32m      6\u001b[0m \u001b[38;5;66;43;03m#    overwrite=True,\u001b[39;49;00m\n\u001b[1;32m      7\u001b[0m \u001b[43m)\u001b[49m\n",
      "File \u001b[0;32m/oak/stanford/groups/rondror/users/yuzhuang/software/batter/batter/batter.py:585\u001b[0m, in \u001b[0;36mSystem.prepare\u001b[0;34m(self, stage, input_file, overwrite)\u001b[0m\n\u001b[1;32m    582\u001b[0m     \u001b[38;5;28;01mraise\u001b[39;00m \u001b[38;5;167;01mFileNotFoundError\u001b[39;00m(\u001b[38;5;124mf\u001b[39m\u001b[38;5;124m\"\u001b[39m\u001b[38;5;124mEquilibration not generated yet. Run prepare(\u001b[39m\u001b[38;5;124m'\u001b[39m\u001b[38;5;124mequil\u001b[39m\u001b[38;5;124m'\u001b[39m\u001b[38;5;124m) first.\u001b[39m\u001b[38;5;124m\"\u001b[39m)\n\u001b[1;32m    584\u001b[0m \u001b[38;5;28;01mif\u001b[39;00m \u001b[38;5;129;01mnot\u001b[39;00m os\u001b[38;5;241m.\u001b[39mpath\u001b[38;5;241m.\u001b[39mexists(\u001b[38;5;124mf\u001b[39m\u001b[38;5;124m\"\u001b[39m\u001b[38;5;132;01m{\u001b[39;00m\u001b[38;5;28mself\u001b[39m\u001b[38;5;241m.\u001b[39mequil_folder\u001b[38;5;132;01m}\u001b[39;00m\u001b[38;5;124m/\u001b[39m\u001b[38;5;132;01m{\u001b[39;00m\u001b[38;5;28mself\u001b[39m\u001b[38;5;241m.\u001b[39msim_config\u001b[38;5;241m.\u001b[39mposes_def[\u001b[38;5;241m0\u001b[39m]\u001b[38;5;132;01m}\u001b[39;00m\u001b[38;5;124m/md03.rst7\u001b[39m\u001b[38;5;124m\"\u001b[39m):\n\u001b[0;32m--> 585\u001b[0m     \u001b[38;5;28;01mraise\u001b[39;00m \u001b[38;5;167;01mFileNotFoundError\u001b[39;00m(\u001b[38;5;124mf\u001b[39m\u001b[38;5;124m\"\u001b[39m\u001b[38;5;124mEquilibration not finished yet. First run the equilibration.\u001b[39m\u001b[38;5;124m\"\u001b[39m)\n\u001b[1;32m    587\u001b[0m sim_config_eq \u001b[38;5;241m=\u001b[39m json\u001b[38;5;241m.\u001b[39mload(\u001b[38;5;28mopen\u001b[39m(\u001b[38;5;124mf\u001b[39m\u001b[38;5;124m\"\u001b[39m\u001b[38;5;132;01m{\u001b[39;00m\u001b[38;5;28mself\u001b[39m\u001b[38;5;241m.\u001b[39mequil_folder\u001b[38;5;132;01m}\u001b[39;00m\u001b[38;5;124m/sim_config.json\u001b[39m\u001b[38;5;124m\"\u001b[39m))\n\u001b[1;32m    588\u001b[0m \u001b[38;5;28;01mif\u001b[39;00m sim_config_eq \u001b[38;5;241m!=\u001b[39m sim_config\u001b[38;5;241m.\u001b[39mmodel_dump():\n\u001b[1;32m    589\u001b[0m \u001b[38;5;66;03m# raise ValueError(f\"Equilibration and free energy simulation configurations are different\")\u001b[39;00m\n",
      "\u001b[0;31mFileNotFoundError\u001b[0m: Equilibration not finished yet. First run the equilibration."
     ]
    }
   ],
   "source": [
    "# Prepare the system for the free energy calculation\n",
    "test_system.prepare(\n",
    "    stage='fe',\n",
    "#    input_file='data/md_input/lipid.in',\n",
    "    input_file=sim_config,\n",
    "#    overwrite=True,\n",
    ")"
   ]
  },
  {
   "cell_type": "code",
   "execution_count": 17,
   "metadata": {},
   "outputs": [
    {
     "ename": "AttributeError",
     "evalue": "'Universe' object has no attribute 'guess_TopologyAttrs'",
     "output_type": "error",
     "traceback": [
      "\u001b[0;31m---------------------------------------------------------------------------\u001b[0m",
      "\u001b[0;31mAttributeError\u001b[0m                            Traceback (most recent call last)",
      "Cell \u001b[0;32mIn[17], line 3\u001b[0m\n\u001b[1;32m      1\u001b[0m \u001b[38;5;28;01mimport\u001b[39;00m \u001b[38;5;21;01mMDAnalysis\u001b[39;00m \u001b[38;5;28;01mas\u001b[39;00m \u001b[38;5;21;01mmda\u001b[39;00m\n\u001b[1;32m      2\u001b[0m u \u001b[38;5;241m=\u001b[39m mda\u001b[38;5;241m.\u001b[39mUniverse(\u001b[38;5;124m'\u001b[39m\u001b[38;5;124m./data/7T2G_mp/ligand_DAMGO.pdb\u001b[39m\u001b[38;5;124m'\u001b[39m)\n\u001b[0;32m----> 3\u001b[0m \u001b[43mu\u001b[49m\u001b[38;5;241;43m.\u001b[39;49m\u001b[43mguess_TopologyAttrs\u001b[49m(force_guess\u001b[38;5;241m=\u001b[39m[\u001b[38;5;124m'\u001b[39m\u001b[38;5;124mcharges\u001b[39m\u001b[38;5;124m'\u001b[39m]) \n",
      "\u001b[0;31mAttributeError\u001b[0m: 'Universe' object has no attribute 'guess_TopologyAttrs'"
     ]
    }
   ],
   "source": [
    "import MDAnalysis as mda\n",
    "u = mda.Universe('./data/7T2G_mp/ligand_DAMGO.pdb')\n",
    "u.guess_TopologyAttrs(force_guess=['charges']) "
   ]
  },
  {
   "cell_type": "code",
   "execution_count": 15,
   "metadata": {},
   "outputs": [
    {
     "ename": "NoDataError",
     "evalue": "This Universe does not contain charge information",
     "output_type": "error",
     "traceback": [
      "\u001b[0;31m---------------------------------------------------------------------------\u001b[0m",
      "\u001b[0;31mNoDataError\u001b[0m                               Traceback (most recent call last)",
      "Cell \u001b[0;32mIn[15], line 1\u001b[0m\n\u001b[0;32m----> 1\u001b[0m \u001b[43mu\u001b[49m\u001b[38;5;241;43m.\u001b[39;49m\u001b[43matoms\u001b[49m\u001b[38;5;241;43m.\u001b[39;49m\u001b[43mcharges\u001b[49m\n",
      "File \u001b[0;32m/oak/stanford/groups/rondror/users/yuzhuang/software/mdanalysis/package/MDAnalysis/core/groups.py:2650\u001b[0m, in \u001b[0;36mAtomGroup.__getattr__\u001b[0;34m(self, attr)\u001b[0m\n\u001b[1;32m   2648\u001b[0m \u001b[38;5;28;01melif\u001b[39;00m attr \u001b[38;5;241m==\u001b[39m \u001b[38;5;124m'\u001b[39m\u001b[38;5;124mpositions\u001b[39m\u001b[38;5;124m'\u001b[39m:\n\u001b[1;32m   2649\u001b[0m     \u001b[38;5;28;01mraise\u001b[39;00m NoDataError(\u001b[38;5;124m'\u001b[39m\u001b[38;5;124mThis Universe has no coordinates\u001b[39m\u001b[38;5;124m'\u001b[39m)\n\u001b[0;32m-> 2650\u001b[0m \u001b[38;5;28;01mreturn\u001b[39;00m \u001b[38;5;28;43msuper\u001b[39;49m\u001b[43m(\u001b[49m\u001b[43mAtomGroup\u001b[49m\u001b[43m,\u001b[49m\u001b[43m \u001b[49m\u001b[38;5;28;43mself\u001b[39;49m\u001b[43m)\u001b[49m\u001b[38;5;241;43m.\u001b[39;49m\u001b[38;5;21;43m__getattr__\u001b[39;49m\u001b[43m(\u001b[49m\u001b[43mattr\u001b[49m\u001b[43m)\u001b[49m\n",
      "File \u001b[0;32m/oak/stanford/groups/rondror/users/yuzhuang/software/mdanalysis/package/MDAnalysis/core/groups.py:616\u001b[0m, in \u001b[0;36mGroupBase.__getattr__\u001b[0;34m(self, attr)\u001b[0m\n\u001b[1;32m    614\u001b[0m     \u001b[38;5;28;01melse\u001b[39;00m:\n\u001b[1;32m    615\u001b[0m         err \u001b[38;5;241m=\u001b[39m \u001b[38;5;124m'\u001b[39m\u001b[38;5;124mThis Universe does not contain \u001b[39m\u001b[38;5;132;01m{singular}\u001b[39;00m\u001b[38;5;124m information\u001b[39m\u001b[38;5;124m'\u001b[39m\n\u001b[0;32m--> 616\u001b[0m         \u001b[38;5;28;01mraise\u001b[39;00m NoDataError(err\u001b[38;5;241m.\u001b[39mformat(singular\u001b[38;5;241m=\u001b[39m\u001b[38;5;28mcls\u001b[39m\u001b[38;5;241m.\u001b[39msingular))\n\u001b[1;32m    617\u001b[0m \u001b[38;5;28;01melse\u001b[39;00m:\n\u001b[1;32m    618\u001b[0m     \u001b[38;5;28;01mreturn\u001b[39;00m \u001b[38;5;28msuper\u001b[39m(GroupBase, \u001b[38;5;28mself\u001b[39m)\u001b[38;5;241m.\u001b[39m\u001b[38;5;21m__getattr__\u001b[39m(attr)\n",
      "\u001b[0;31mNoDataError\u001b[0m: This Universe does not contain charge information"
     ]
    }
   ],
   "source": [
    "u.atoms.charges"
   ]
  },
  {
   "cell_type": "code",
   "execution_count": 11,
   "metadata": {},
   "outputs": [
    {
     "name": "stdout",
     "output_type": "stream",
     "text": [
      "\u001b[0;31mInit signature:\u001b[0m\n",
      "\u001b[0mmda\u001b[0m\u001b[0;34m.\u001b[0m\u001b[0mUniverse\u001b[0m\u001b[0;34m(\u001b[0m\u001b[0;34m\u001b[0m\n",
      "\u001b[0;34m\u001b[0m    \u001b[0mtopology\u001b[0m\u001b[0;34m=\u001b[0m\u001b[0;32mNone\u001b[0m\u001b[0;34m,\u001b[0m\u001b[0;34m\u001b[0m\n",
      "\u001b[0;34m\u001b[0m    \u001b[0;34m*\u001b[0m\u001b[0mcoordinates\u001b[0m\u001b[0;34m,\u001b[0m\u001b[0;34m\u001b[0m\n",
      "\u001b[0;34m\u001b[0m    \u001b[0mall_coordinates\u001b[0m\u001b[0;34m=\u001b[0m\u001b[0;32mFalse\u001b[0m\u001b[0;34m,\u001b[0m\u001b[0;34m\u001b[0m\n",
      "\u001b[0;34m\u001b[0m    \u001b[0mformat\u001b[0m\u001b[0;34m=\u001b[0m\u001b[0;32mNone\u001b[0m\u001b[0;34m,\u001b[0m\u001b[0;34m\u001b[0m\n",
      "\u001b[0;34m\u001b[0m    \u001b[0mtopology_format\u001b[0m\u001b[0;34m=\u001b[0m\u001b[0;32mNone\u001b[0m\u001b[0;34m,\u001b[0m\u001b[0;34m\u001b[0m\n",
      "\u001b[0;34m\u001b[0m    \u001b[0mtransformations\u001b[0m\u001b[0;34m=\u001b[0m\u001b[0;32mNone\u001b[0m\u001b[0;34m,\u001b[0m\u001b[0;34m\u001b[0m\n",
      "\u001b[0;34m\u001b[0m    \u001b[0mguess_bonds\u001b[0m\u001b[0;34m=\u001b[0m\u001b[0;32mFalse\u001b[0m\u001b[0;34m,\u001b[0m\u001b[0;34m\u001b[0m\n",
      "\u001b[0;34m\u001b[0m    \u001b[0mvdwradii\u001b[0m\u001b[0;34m=\u001b[0m\u001b[0;32mNone\u001b[0m\u001b[0;34m,\u001b[0m\u001b[0;34m\u001b[0m\n",
      "\u001b[0;34m\u001b[0m    \u001b[0mfudge_factor\u001b[0m\u001b[0;34m=\u001b[0m\u001b[0;36m0.55\u001b[0m\u001b[0;34m,\u001b[0m\u001b[0;34m\u001b[0m\n",
      "\u001b[0;34m\u001b[0m    \u001b[0mlower_bound\u001b[0m\u001b[0;34m=\u001b[0m\u001b[0;36m0.1\u001b[0m\u001b[0;34m,\u001b[0m\u001b[0;34m\u001b[0m\n",
      "\u001b[0;34m\u001b[0m    \u001b[0min_memory\u001b[0m\u001b[0;34m=\u001b[0m\u001b[0;32mFalse\u001b[0m\u001b[0;34m,\u001b[0m\u001b[0;34m\u001b[0m\n",
      "\u001b[0;34m\u001b[0m    \u001b[0min_memory_step\u001b[0m\u001b[0;34m=\u001b[0m\u001b[0;36m1\u001b[0m\u001b[0;34m,\u001b[0m\u001b[0;34m\u001b[0m\n",
      "\u001b[0;34m\u001b[0m    \u001b[0;34m**\u001b[0m\u001b[0mkwargs\u001b[0m\u001b[0;34m,\u001b[0m\u001b[0;34m\u001b[0m\n",
      "\u001b[0;34m\u001b[0m\u001b[0;34m)\u001b[0m\u001b[0;34m\u001b[0m\u001b[0;34m\u001b[0m\u001b[0m\n",
      "\u001b[0;31mDocstring:\u001b[0m     \n",
      "The MDAnalysis Universe contains all the information describing the system.\n",
      "\n",
      "The system always requires a *topology file* --- in the simplest case just\n",
      "a list of atoms. This can be a CHARMM/NAMD PSF file or a simple coordinate\n",
      "file with atom informations such as XYZ, PDB, GROMACS GRO or TPR, or CHARMM\n",
      "CRD. See :ref:`Supported topology formats` for what kind of topologies can\n",
      "be read.\n",
      "\n",
      "A *trajectory file* provides coordinates; the coordinates have to be\n",
      "ordered in the same way as the list of atoms in the topology. A trajectory\n",
      "can be a single frame such as a PDB, CRD, or GRO file, or it can be a MD\n",
      "trajectory (in CHARMM/NAMD/LAMMPS DCD, GROMACS XTC/TRR, AMBER nc, generic\n",
      "XYZ format, ...).  See :ref:`Supported coordinate formats` for what can be\n",
      "read as a \"trajectory\".\n",
      "\n",
      "As a special case, when the topology is a file that contains atom\n",
      "information *and* coordinates (such as XYZ, PDB, GRO or CRD, see\n",
      ":ref:`Supported coordinate formats`) then the coordinates are immediately\n",
      "loaded from the \"topology\" file unless a trajectory is supplied.\n",
      "\n",
      "Parameters\n",
      "----------\n",
      "topology: str, stream, Topology, numpy.ndarray, None\n",
      "    A CHARMM/XPLOR PSF topology file, PDB file or Gromacs GRO file; used to\n",
      "    define the list of atoms. If the file includes bond information,\n",
      "    partial charges, atom masses, ... then these data will be available to\n",
      "    MDAnalysis. Alternatively, an existing\n",
      "    :class:`MDAnalysis.core.topology.Topology` instance may be given,\n",
      "    numpy coordinates, or ``None`` for an empty universe.\n",
      "coordinates: str, stream, list of str, list of stream (optional)\n",
      "    Coordinates can be provided as files of\n",
      "    a single frame (eg a PDB, CRD, or GRO file); a list of single\n",
      "    frames; or a trajectory file (in CHARMM/NAMD/LAMMPS DCD, Gromacs\n",
      "    XTC/TRR, or generic XYZ format). The coordinates must be\n",
      "    ordered in the same way as the list of atoms in the topology.\n",
      "    See :ref:`Supported coordinate formats` for what can be read\n",
      "    as coordinates. Alternatively, streams can be given.\n",
      "topology_format: str, ``None``, default ``None``\n",
      "    Provide the file format of the topology file; ``None`` guesses it from\n",
      "    the file extension. Can also pass a subclass of\n",
      "    :class:`MDAnalysis.topology.base.TopologyReaderBase` to define a custom\n",
      "    reader to be used on the topology file.\n",
      "format: str, ``None``, default ``None``\n",
      "    Provide the file format of the coordinate or trajectory file; ``None``\n",
      "    guesses it from the file extension. Note that this keyword has no\n",
      "    effect if a list of file names is supplied because the \"chained\" reader\n",
      "    has to guess the file format for each individual list member.\n",
      "    Can also pass a subclass of :class:`MDAnalysis.coordinates.base.ProtoReader`\n",
      "    to define a custom reader to be used on the trajectory file.\n",
      "all_coordinates: bool, default ``False``\n",
      "    If set to ``True`` specifies that if more than one filename is passed\n",
      "    they are all to be used, if possible, as coordinate files (employing a\n",
      "    :class:`MDAnalysis.coordinates.chain.ChainReader`). The\n",
      "    default behavior is to take the first file as a topology and the\n",
      "    remaining as coordinates. The first argument will always always be used\n",
      "    to infer a topology regardless of *all_coordinates*.\n",
      "guess_bonds: bool, default ``False``\n",
      "    Once Universe has been loaded, attempt to guess the connectivity\n",
      "    between atoms.  This will populate the .bonds, .angles, and .dihedrals\n",
      "    attributes of the Universe.\n",
      "vdwradii: dict, ``None``, default ``None``\n",
      "    For use with *guess_bonds*. Supply a dict giving a vdwradii for each\n",
      "    atom type which are used in guessing bonds.\n",
      "fudge_factor: float, default [0.55]\n",
      "    For use with *guess_bonds*. Supply the factor by which atoms must\n",
      "    overlap each other to be considered a bond.\n",
      "lower_bound: float, default [0.1]\n",
      "    For use with *guess_bonds*. Supply the minimum bond length.\n",
      "transformations: function or list, ``None``, default ``None``\n",
      "    Provide a list of transformations that you wish to apply to the\n",
      "    trajectory upon reading. Transformations can be found in\n",
      "    :mod:`MDAnalysis.transformations`, or can be user-created.\n",
      "in_memory: bool, default ``False``\n",
      "    After reading in the trajectory, transfer it to an in-memory\n",
      "    representations, which allow for manipulation of coordinates.\n",
      "in_memory_step: int, default 1\n",
      "    Only read every nth frame into in-memory representation.\n",
      "continuous: bool, default ``False``\n",
      "    The `continuous` option is used by the\n",
      "    :mod:`ChainReader<MDAnalysis.coordinates.chain>`, which contains the\n",
      "    functionality to treat independent trajectory files as a single virtual\n",
      "    trajectory.\n",
      "**kwargs: extra arguments are passed to the topology parser.\n",
      "\n",
      "Attributes\n",
      "----------\n",
      "trajectory : base.ReaderBase or base.SingleFrameReaderBase\n",
      "    currently loaded trajectory reader; readers are described in\n",
      "    :ref:`Coordinates`\n",
      "dimensions : numpy.ndarray\n",
      "    system dimensions (simulation unit cell, if set in the\n",
      "    trajectory) at the *current time step*\n",
      "    (see :attr:`MDAnalysis.coordinates.timestep.Timestep.dimensions`).\n",
      "    The unit cell can be set for the current time step (but the change is\n",
      "    not permanent unless written to a file).\n",
      "atoms : AtomGroup\n",
      "    all particles (:class:`~MDAnalysis.core.groups.Atom`) in the system,\n",
      "    as read from the `topology` file\n",
      "residues : ResidueGroup\n",
      "    all residues (:class:`~MDAnalysis.core.groups.Residue`) in the system\n",
      "segments : SegmentGroup\n",
      "    all segments (:class:`~MDAnalysis.core.groups.Segment`) in the system\n",
      "bonds : topologyattrs.Bonds\n",
      "    all bonds (if defined in the `topology`) as provided by\n",
      "    :attr:`Universe.atoms.bonds`\n",
      "angles : topologyattrs.Angles\n",
      "    all angles (if defined in the `topology`), same as\n",
      "    :attr:`Universe.atoms.angles`\n",
      "dihedrals : topologyattrs.Dihedrals\n",
      "    all dihedral angles (if defined in the `topology`), same as\n",
      "    :attr:`Universe.atoms.dihedrals`\n",
      "impropers : topologyattrs.Impropers\n",
      "    all improper dihedral angles (if defined in the `topology`), same as\n",
      "    :attr:`Universe.atoms.impropers`\n",
      "\n",
      "Examples\n",
      "--------\n",
      "Examples for setting up a :class:`Universe`::\n",
      "\n",
      "   u = Universe(topology, trajectory)          # read system from file(s)\n",
      "   u = Universe(pdbfile)                       # read atoms and coordinates from PDB or GRO\n",
      "   u = Universe(topology, [traj1, traj2, ...]) # read from a list of trajectories\n",
      "   u = Universe(topology, traj1, traj2, ...)   # read from multiple trajectories\n",
      "\n",
      "Load new data into a universe (replaces old trajectory and does *not* append)::\n",
      "\n",
      "   u.load_new(trajectory)                      # read from a new trajectory file\n",
      "\n",
      "Selecting atoms with :meth:`~Universe.select_atoms` ::\n",
      "\n",
      "   ag = u.select_atoms(...)\n",
      "\n",
      "returns an :class:`~MDAnalysis.core.groups.AtomGroup`.\n",
      "\n",
      "\n",
      ".. versionchanged:: 1.0.0\n",
      "    Universe() now raises an error. Use Universe(None) or :func:`Universe.empty()` instead.\n",
      "    Removed instant selectors.\n",
      "\n",
      ".. versionchanged:: 2.0.0\n",
      "    Universe now can be (un)pickled.\n",
      "    ``topology`` and ``trajectory`` are reserved upon unpickle.\n",
      ".. versionchanged:: 2.5.0\n",
      "    Added fudge_factor and lower_bound parameters for use with\n",
      "    *guess_bonds*.\n",
      "\u001b[0;31mFile:\u001b[0m           /oak/stanford/groups/rondror/users/yuzhuang/software/mdanalysis/package/MDAnalysis/core/universe.py\n",
      "\u001b[0;31mType:\u001b[0m           type\n",
      "\u001b[0;31mSubclasses:\u001b[0m     "
     ]
    }
   ],
   "source": [
    "mda.Universe?"
   ]
  },
  {
   "cell_type": "code",
   "execution_count": null,
   "metadata": {},
   "outputs": [],
   "source": []
  }
 ],
 "metadata": {
  "kernelspec": {
   "display_name": "batter",
   "language": "python",
   "name": "python3"
  },
  "language_info": {
   "codemirror_mode": {
    "name": "ipython",
    "version": 3
   },
   "file_extension": ".py",
   "mimetype": "text/x-python",
   "name": "python",
   "nbconvert_exporter": "python",
   "pygments_lexer": "ipython3",
   "version": "3.11.0"
  }
 },
 "nbformat": 4,
 "nbformat_minor": 2
}
