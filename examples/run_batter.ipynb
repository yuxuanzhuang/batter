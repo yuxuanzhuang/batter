{
 "cells": [
  {
   "cell_type": "code",
   "execution_count": 1,
   "metadata": {},
   "outputs": [
    {
     "name": "stderr",
     "output_type": "stream",
     "text": [
      "/scratch/users/yuzhuang/miniforge3/envs/batter/lib/python3.11/site-packages/tqdm/auto.py:21: TqdmWarning: IProgress not found. Please update jupyter and ipywidgets. See https://ipywidgets.readthedocs.io/en/stable/user_install.html\n",
      "  from .autonotebook import tqdm as notebook_tqdm\n"
     ]
    }
   ],
   "source": [
    "import glob\n",
    "import numpy as np\n",
    "from batter import System\n",
    "from batter.input_process import get_configure_from_file, parse_input_file\n",
    "\n",
    "from logging import getLogger, DEBUG \n",
    "logger = getLogger()\n",
    "logger.setLevel(DEBUG)"
   ]
  },
  {
   "cell_type": "code",
   "execution_count": 2,
   "metadata": {},
   "outputs": [
    {
     "name": "stdout",
     "output_type": "stream",
     "text": [
      "Box dimensions: [ 88.716797  84.511597 111.899002  90.        90.        90.      ]\n"
     ]
    }
   ],
   "source": [
    "protein_file = 'data/7T2G_mp/protein_input.pdb'\n",
    "system_file = 'data/7T2G_mp/system_input.pdb'\n",
    "ligand_file = 'data/7T2G_mp/ligand_input.pdb'\n",
    "system_inpcrd = 'data/7T2G_mp/system_input.inpcrd'\n",
    "\n",
    "# read last line of inpcrd file to get dimensions\n",
    "with open(system_inpcrd) as f:\n",
    "    lines = f.readlines()\n",
    "    box = np.array([float(x) for x in lines[-1].split()])\n",
    "    print(f'Box dimensions: {box}')"
   ]
  },
  {
   "cell_type": "code",
   "execution_count": 3,
   "metadata": {},
   "outputs": [
    {
     "name": "stderr",
     "output_type": "stream",
     "text": [
      "05-Dec-2024 19:05:04 | INFO | Input: membrane system\n",
      "05-Dec-2024 19:05:04 | INFO | System loaded and prepared\n"
     ]
    }
   ],
   "source": [
    "test_system = System(\n",
    "    system_name='7T2G',\n",
    "    protein_input=protein_file,\n",
    "    system_input=system_file,\n",
    "    system_dimensions=box,\n",
    "    ligand_path=ligand_file,\n",
    "    output_dir='test/FEP',\n",
    "#    overwrite=True,\n",
    "    lipid_mol=['POPC'])"
   ]
  },
  {
   "cell_type": "code",
   "execution_count": 4,
   "metadata": {},
   "outputs": [],
   "source": [
    "sim_config = get_configure_from_file('data/md_input/lipid.in')"
   ]
  },
  {
   "cell_type": "code",
   "execution_count": 5,
   "metadata": {},
   "outputs": [
    {
     "name": "stderr",
     "output_type": "stream",
     "text": [
      "05-Dec-2024 19:05:04 | INFO | Preparing the system\n",
      "05-Dec-2024 19:05:04 | INFO | Simulation configuration: software='amber' calc_type='dock' celpp_receptor='7T2G' poses_list=['0'] p1=':147@CA' p2=':117@CA' p3=':326@CA' ligand_list=[] other_mol=[] solv_shell=4.0 lipid_mol=['POPC', 'PA', 'PC', 'OL'] fe_type='express' components=['m', 'n', 'e', 'v'] release_eq=[10.0, 2.5, 0.5, 0.0] attach_rest=[0.0, 0.1, 0.24, 0.56, 1.33, 3.16, 7.5, 10.5, 17.78, 20.0, 42.17, 50.0, 60.0, 75.0, 80.0, 100.0] ti_points=0 lambdas=[0.0001, 0.02, 0.04, 0.06, 0.1, 0.15, 0.2, 0.25, 0.3, 0.35, 0.4, 0.45, 0.5, 0.55, 0.6, 0.65, 0.7, 0.75, 0.8, 0.85, 0.92, 0.96, 0.98, 0.9999] sdr_dist=40.0 dec_method='sdr' dec_int='mbar' blocks=5 rec_dihcf_force=50.0 rec_discf_force=5.0 lig_distance_force=5.0 lig_angle_force=250.0 lig_dihcf_force=70.0 rec_com_force=10.0 lig_com_force=10.0 water_model='TIP3P' num_waters=0 buffer_x=12.0 buffer_y=12.0 buffer_z=22.0 lig_buffer=15.0 neutralize_only='no' cation='Na+' anion='Cl-' ion_conc=0.15 hmr='yes' temperature=310.0 eq_steps1=100000 eq_steps2=5000000 n_steps_dict={'a_steps1': 100000, 'a_steps2': 200000, 'l_steps1': 100000, 'l_steps2': 200000, 't_steps1': 100000, 't_steps2': 200000, 'm_steps1': 100000, 'm_steps2': 200000, 'n_steps1': 100000, 'n_steps2': 200000, 'c_steps1': 100000, 'c_steps2': 200000, 'r_steps1': 100000, 'r_steps2': 200000, 'e_steps1': 200000, 'e_steps2': 400000, 'v_steps1': 400000, 'v_steps2': 600000, 'f_steps1': 100000, 'f_steps2': 200000, 'w_steps1': 100000, 'w_steps2': 200000, 'x_steps1': 0, 'x_steps2': 0} n_iter_dict={'a_itera1': 0, 'a_itera2': 0, 'l_itera1': 0, 'l_itera2': 0, 't_itera1': 0, 't_itera2': 0, 'm_itera1': 0, 'm_itera2': 0, 'n_itera1': 0, 'n_itera2': 0, 'c_itera1': 0, 'c_itera2': 0, 'r_itera1': 0, 'r_itera2': 0, 'e_itera1': 0, 'e_itera2': 0, 'v_itera1': 0, 'v_itera2': 0, 'f_itera1': 0, 'f_itera2': 0, 'w_itera1': 0, 'w_itera2': 0, 'x_itera1': 0, 'x_itera2': 0} rec_bb='no' bb_start=[1] bb_end=[0] bb_equil='no' l1_x=2.1 l1_y=-6.8 l1_z=3.9 l1_range=2.5 min_adis=3.0 max_adis=7.0 dlambda=0.001 ntpr='1000' ntwr='10000' ntwe='0' ntwx='2500' cut='9.0' gamma_ln='1.0' barostat='2' dt='0.004' itcheck='100' receptor_ff='protein.ff14SB' ligand_ff='gaff2' ligand_ph=7.0 retain_lig_prot='yes' ligand_charge=1 lipid_ff='lipid21' weights=[] mols=[] rng=3 ion_def=['Na+', 'Cl-', 0.15] poses_def=['pose0'] dic_steps1={'a': 100000, 'l': 100000, 't': 100000, 'm': 100000, 'n': 100000, 'c': 100000, 'r': 100000, 'e': 200000, 'v': 400000, 'f': 100000, 'w': 100000, 'x': 0} dic_steps2={'a': 200000, 'l': 200000, 't': 200000, 'm': 200000, 'n': 200000, 'c': 200000, 'r': 200000, 'e': 400000, 'v': 600000, 'f': 200000, 'w': 200000, 'x': 0} dic_itera1={'a': 0, 'l': 0, 't': 0, 'm': 0, 'n': 0, 'c': 0, 'r': 0, 'e': 0, 'v': 0, 'f': 0, 'w': 0, 'x': 0} dic_itera2={'a': 0, 'l': 0, 't': 0, 'm': 0, 'n': 0, 'c': 0, 'r': 0, 'e': 0, 'v': 0, 'f': 0, 'w': 0, 'x': 0} H1=':147@CA' H2=':117@CA' H3=':326@CA' rest=[50.0, 5.0, 5.0, 250.0, 70.0, 10.0, 10.0] celp_st='7T2G' neut='no' apr_sim=2\n",
      "05-Dec-2024 19:05:04 | INFO | Prepare for equilibration stage\n",
      "05-Dec-2024 19:05:04 | INFO | Preparing pose: pose0\n",
      "05-Dec-2024 19:05:04 | INFO | Building pose0...\n",
      "05-Dec-2024 19:05:08 | WARNING | Receptor is not set as chain A; trying to fetch the first residue from the protein and it may be wrong.\n",
      "05-Dec-2024 19:05:08 | INFO | P1: :83@CA\n",
      "05-Dec-2024 19:05:08 | INFO | P2: :53@CA\n",
      "05-Dec-2024 19:05:08 | INFO | P3: :262@CA\n",
      "05-Dec-2024 19:05:08 | WARNING | The residue names of the lipids are four-letter names.They were truncated to three-letter namesfor compatibility with AMBER.\n",
      "05-Dec-2024 19:05:22 | INFO | Ligand anchors:\n",
      "05-Dec-2024 19:05:22 | INFO | L1: :283@C14\n",
      "05-Dec-2024 19:05:22 | INFO | L2: :283@C07\n",
      "05-Dec-2024 19:05:22 | INFO | L3: :283@C12\n"
     ]
    },
    {
     "name": "stdout",
     "output_type": "stream",
     "text": [
      "Building the system in /oak/stanford/groups/rondror/users/yuzhuang/software/batter/examples/test/FEP/equil/pose0\n"
     ]
    },
    {
     "name": "stderr",
     "output_type": "stream",
     "text": [
      "05-Dec-2024 19:06:02 | INFO | Equilibration systems have been created for all poses listed in the input file.\n",
      "05-Dec-2024 19:06:02 | INFO | now cd equil/pose0\n",
      "05-Dec-2024 19:06:02 | INFO | sbatch SLURMM-run\n",
      "05-Dec-2024 19:06:02 | INFO | Equil System prepared\n"
     ]
    }
   ],
   "source": [
    "test_system.prepare(\n",
    "    stage='equil',\n",
    "#    input_file='data/md_input/lipid.in',\n",
    "    input_file=sim_config,\n",
    "    overwrite=True,\n",
    ")"
   ]
  },
  {
   "cell_type": "code",
   "execution_count": null,
   "metadata": {},
   "outputs": [],
   "source": []
  }
 ],
 "metadata": {
  "kernelspec": {
   "display_name": "batter",
   "language": "python",
   "name": "python3"
  },
  "language_info": {
   "codemirror_mode": {
    "name": "ipython",
    "version": 3
   },
   "file_extension": ".py",
   "mimetype": "text/x-python",
   "name": "python",
   "nbconvert_exporter": "python",
   "pygments_lexer": "ipython3",
   "version": "3.11.0"
  }
 },
 "nbformat": 4,
 "nbformat_minor": 2
}
