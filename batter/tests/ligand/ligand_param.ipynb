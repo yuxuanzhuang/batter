{
 "cells": [
  {
   "cell_type": "code",
   "execution_count": 1,
   "metadata": {},
   "outputs": [],
   "source": [
    "from batter.ligand_process import LigandFactory"
   ]
  },
  {
   "cell_type": "code",
   "execution_count": 2,
   "metadata": {},
   "outputs": [],
   "source": [
    "ligand_path = '2RH1.sdf'\n",
    "ind = 0\n",
    "ligandff_folder = 'test_ligandff'\n",
    "ligand_name = 'CAU'\n",
    "retain_lig_prot = True\n",
    "ligand_ff = 'gaff2'"
   ]
  },
  {
   "cell_type": "code",
   "execution_count": 3,
   "metadata": {},
   "outputs": [
    {
     "name": "stderr",
     "output_type": "stream",
     "text": [
      "INFO | \u001b[1mLigand 0: cau\u001b[0m \n"
     ]
    }
   ],
   "source": [
    "ligand_factory = LigandFactory()\n",
    "ligand = ligand_factory.create_ligand(\n",
    "        ligand_file=ligand_path,\n",
    "        index=ind,\n",
    "        output_dir=ligandff_folder,\n",
    "        ligand_name=ligand_name,\n",
    "        retain_lig_prot=retain_lig_prot,\n",
    "        ligand_ff=ligand_ff\n",
    ")"
   ]
  },
  {
   "cell_type": "code",
   "execution_count": 4,
   "metadata": {},
   "outputs": [
    {
     "name": "stderr",
     "output_type": "stream",
     "text": [
      "INFO | \u001b[1mThe net charge of the ligand cau in 2RH1.sdf is 1.0\u001b[0m \n",
      "INFO | \u001b[1mLigand cau parameters prepared: /oak/stanford/groups/rondror/users/yuzhuang/software/batter/batter/tests/ligand/test_ligandff/cau.lib\u001b[0m \n"
     ]
    }
   ],
   "source": [
    "ligand.prepare_ligand_parameters()"
   ]
  },
  {
   "cell_type": "code",
   "execution_count": 17,
   "metadata": {},
   "outputs": [],
   "source": [
    "from openff.toolkit import ForceField, Molecule, Topology\n",
    "from openfe import SmallMoleculeComponent\n",
    "\n",
    "sage_ff14sb = ForceField(\"openff-2.2.0.offxml\", \"ff14sb_off_impropers_0.0.4.offxml\")"
   ]
  },
  {
   "cell_type": "code",
   "execution_count": 6,
   "metadata": {},
   "outputs": [
    {
     "data": {
      "application/vnd.jupyter.widget-view+json": {
       "model_id": "e3c7064cb54d49b0b865246cfbb0ad9d",
       "version_major": 2,
       "version_minor": 0
      },
      "text/plain": []
     },
     "metadata": {},
     "output_type": "display_data"
    },
    {
     "data": {
      "application/vnd.jupyter.widget-view+json": {
       "model_id": "19d216148bd248e69392c056982772b0",
       "version_major": 2,
       "version_minor": 0
      },
      "text/plain": [
       "NGLWidget()"
      ]
     },
     "metadata": {},
     "output_type": "display_data"
    }
   ],
   "source": [
    "ligand.openff_molecule"
   ]
  },
  {
   "cell_type": "code",
   "execution_count": 30,
   "metadata": {},
   "outputs": [
    {
     "data": {
      "text/plain": [
       "0"
      ]
     },
     "execution_count": 30,
     "metadata": {},
     "output_type": "execute_result"
    }
   ],
   "source": [
    "topology = Topology()\n",
    "topology.add_molecule(ligand.openff_molecule)"
   ]
  },
  {
   "cell_type": "code",
   "execution_count": 31,
   "metadata": {},
   "outputs": [],
   "source": [
    "interchange = sage_ff14sb.create_interchange(topology)"
   ]
  },
  {
   "cell_type": "code",
   "execution_count": 37,
   "metadata": {},
   "outputs": [
    {
     "ename": "AttributeError",
     "evalue": "'Interchange' object has no attribute 'to_amber'",
     "output_type": "error",
     "traceback": [
      "\u001b[31m---------------------------------------------------------------------------\u001b[39m",
      "\u001b[31mAttributeError\u001b[39m                            Traceback (most recent call last)",
      "\u001b[36mCell\u001b[39m\u001b[36m \u001b[39m\u001b[32mIn[37]\u001b[39m\u001b[32m, line 1\u001b[39m\n\u001b[32m----> \u001b[39m\u001b[32m1\u001b[39m \u001b[43minterchange\u001b[49m\u001b[43m.\u001b[49m\u001b[43mto_amber\u001b[49m()\n",
      "\u001b[36mFile \u001b[39m\u001b[32m/scratch/users/yuzhuang/miniforge3_0507/envs/openfe_env/lib/python3.12/site-packages/openff/interchange/components/interchange.py:895\u001b[39m, in \u001b[36mInterchange.__getattr__\u001b[39m\u001b[34m(self, attr)\u001b[39m\n\u001b[32m    893\u001b[39m     \u001b[38;5;28;01mreturn\u001b[39;00m \u001b[38;5;28mself\u001b[39m.collections\n\u001b[32m    894\u001b[39m \u001b[38;5;28;01melse\u001b[39;00m:\n\u001b[32m--> \u001b[39m\u001b[32m895\u001b[39m     \u001b[38;5;28;01mreturn\u001b[39;00m \u001b[38;5;28;43msuper\u001b[39;49m\u001b[43m(\u001b[49m\u001b[43m)\u001b[49m\u001b[43m.\u001b[49m\u001b[34;43m__getattribute__\u001b[39;49m\u001b[43m(\u001b[49m\u001b[43mattr\u001b[49m\u001b[43m)\u001b[49m\n",
      "\u001b[31mAttributeError\u001b[39m: 'Interchange' object has no attribute 'to_amber'"
     ]
    }
   ],
   "source": [
    "interchange.to_amber()"
   ]
  },
  {
   "cell_type": "code",
   "execution_count": 38,
   "metadata": {},
   "outputs": [],
   "source": [
    "interchange.to_prmtop(f\"test_ligandff/cau.prmtop\")"
   ]
  },
  {
   "cell_type": "code",
   "execution_count": 39,
   "metadata": {},
   "outputs": [],
   "source": [
    "from openff.interchange.drivers import get_amber_energies, get_openmm_energies"
   ]
  },
  {
   "cell_type": "code",
   "execution_count": 41,
   "metadata": {},
   "outputs": [
    {
     "name": "stdout",
     "output_type": "stream",
     "text": [
      "{'Bond': <Quantity(32.5903839, 'kilojoule / mole')>, 'Angle': <Quantity(87.4273526, 'kilojoule / mole')>, 'Torsion': <Quantity(26.8279295, 'kilojoule / mole')>, 'Nonbonded': <Quantity(218.72762, 'kilojoule / mole')>}\n"
     ]
    }
   ],
   "source": [
    "openmm_energies = get_openmm_energies(interchange)\n",
    "print(openmm_energies.energies)"
   ]
  },
  {
   "cell_type": "code",
   "execution_count": 42,
   "metadata": {},
   "outputs": [
    {
     "ename": "UnsupportedExportError",
     "evalue": "vdW method no-cutoff not supported",
     "output_type": "error",
     "traceback": [
      "\u001b[31m---------------------------------------------------------------------------\u001b[39m",
      "\u001b[31mUnsupportedExportError\u001b[39m                    Traceback (most recent call last)",
      "\u001b[36mCell\u001b[39m\u001b[36m \u001b[39m\u001b[32mIn[42]\u001b[39m\u001b[32m, line 1\u001b[39m\n\u001b[32m----> \u001b[39m\u001b[32m1\u001b[39m amber_energies = \u001b[43mget_amber_energies\u001b[49m\u001b[43m(\u001b[49m\u001b[43minterchange\u001b[49m\u001b[43m)\u001b[49m\n\u001b[32m      2\u001b[39m \u001b[38;5;28mprint\u001b[39m(amber_energies.energies)\n",
      "\u001b[36mFile \u001b[39m\u001b[32m/scratch/users/yuzhuang/miniforge3_0507/envs/openfe_env/lib/python3.12/site-packages/openff/interchange/drivers/amber.py:48\u001b[39m, in \u001b[36mget_amber_energies\u001b[39m\u001b[34m(interchange, writer, detailed)\u001b[39m\n\u001b[32m     22\u001b[39m \u001b[38;5;28;01mdef\u001b[39;00m\u001b[38;5;250m \u001b[39m\u001b[34mget_amber_energies\u001b[39m(\n\u001b[32m     23\u001b[39m     interchange: Interchange,\n\u001b[32m     24\u001b[39m     writer: \u001b[38;5;28mstr\u001b[39m = \u001b[33m\"\u001b[39m\u001b[33minternal\u001b[39m\u001b[33m\"\u001b[39m,\n\u001b[32m     25\u001b[39m     detailed: \u001b[38;5;28mbool\u001b[39m = \u001b[38;5;28;01mFalse\u001b[39;00m,\n\u001b[32m     26\u001b[39m ) -> EnergyReport:\n\u001b[32m     27\u001b[39m \u001b[38;5;250m    \u001b[39m\u001b[33;03m\"\"\"\u001b[39;00m\n\u001b[32m     28\u001b[39m \u001b[33;03m    Given an OpenFF Interchange object, return single-point energies as computed by Amber.\u001b[39;00m\n\u001b[32m     29\u001b[39m \n\u001b[32m   (...)\u001b[39m\u001b[32m     45\u001b[39m \n\u001b[32m     46\u001b[39m \u001b[33;03m    \"\"\"\u001b[39;00m\n\u001b[32m     47\u001b[39m     \u001b[38;5;28;01mreturn\u001b[39;00m _process(\n\u001b[32m---> \u001b[39m\u001b[32m48\u001b[39m         \u001b[43m_get_amber_energies\u001b[49m\u001b[43m(\u001b[49m\n\u001b[32m     49\u001b[39m \u001b[43m            \u001b[49m\u001b[43minterchange\u001b[49m\u001b[43m=\u001b[49m\u001b[43minterchange\u001b[49m\u001b[43m,\u001b[49m\n\u001b[32m     50\u001b[39m \u001b[43m            \u001b[49m\u001b[43mwriter\u001b[49m\u001b[43m=\u001b[49m\u001b[43mwriter\u001b[49m\u001b[43m,\u001b[49m\n\u001b[32m     51\u001b[39m \u001b[43m        \u001b[49m\u001b[43m)\u001b[49m,\n\u001b[32m     52\u001b[39m         detailed=\u001b[38;5;28;01mFalse\u001b[39;00m,\n\u001b[32m     53\u001b[39m     )\n",
      "\u001b[36mFile \u001b[39m\u001b[32m/scratch/users/yuzhuang/miniforge3_0507/envs/openfe_env/lib/python3.12/site-packages/openff/interchange/drivers/amber.py:73\u001b[39m, in \u001b[36m_get_amber_energies\u001b[39m\u001b[34m(interchange, writer)\u001b[39m\n\u001b[32m     70\u001b[39m     \u001b[38;5;28;01mraise\u001b[39;00m InvalidWriterError(\u001b[33mf\u001b[39m\u001b[33m\"\u001b[39m\u001b[33mUnsupported `writer` argument \u001b[39m\u001b[38;5;132;01m{\u001b[39;00mwriter\u001b[38;5;132;01m}\u001b[39;00m\u001b[33m\"\u001b[39m)\n\u001b[32m     72\u001b[39m mdconfig = MDConfig.from_interchange(interchange)\n\u001b[32m---> \u001b[39m\u001b[32m73\u001b[39m \u001b[43mmdconfig\u001b[49m\u001b[43m.\u001b[49m\u001b[43mwrite_sander_input_file\u001b[49m\u001b[43m(\u001b[49m\u001b[33;43m\"\u001b[39;49m\u001b[33;43mrun.in\u001b[39;49m\u001b[33;43m\"\u001b[39;49m\u001b[43m)\u001b[49m\n\u001b[32m     75\u001b[39m \u001b[38;5;28;01mreturn\u001b[39;00m _run_sander(\n\u001b[32m     76\u001b[39m     prmtop_file=\u001b[33m\"\u001b[39m\u001b[33mout.prmtop\u001b[39m\u001b[33m\"\u001b[39m,\n\u001b[32m     77\u001b[39m     inpcrd_file=\u001b[33m\"\u001b[39m\u001b[33mout.inpcrd\u001b[39m\u001b[33m\"\u001b[39m,\n\u001b[32m     78\u001b[39m     input_file=\u001b[33m\"\u001b[39m\u001b[33mrun.in\u001b[39m\u001b[33m\"\u001b[39m,\n\u001b[32m     79\u001b[39m )\n",
      "\u001b[36mFile \u001b[39m\u001b[32m/scratch/users/yuzhuang/miniforge3_0507/envs/openfe_env/lib/python3.12/site-packages/openff/interchange/components/mdconfig.py:428\u001b[39m, in \u001b[36mMDConfig.write_sander_input_file\u001b[39m\u001b[34m(self, input_file)\u001b[39m\n\u001b[32m    426\u001b[39m     sander.write(\u001b[33mf\u001b[39m\u001b[33m\"\u001b[39m\u001b[33mcut=\u001b[39m\u001b[38;5;132;01m{\u001b[39;00mvdw_cutoff\u001b[38;5;132;01m}\u001b[39;00m\u001b[33m,\u001b[39m\u001b[38;5;130;01m\\n\u001b[39;00m\u001b[33m\"\u001b[39m)\n\u001b[32m    427\u001b[39m \u001b[38;5;28;01melse\u001b[39;00m:\n\u001b[32m--> \u001b[39m\u001b[32m428\u001b[39m     \u001b[38;5;28;01mraise\u001b[39;00m UnsupportedExportError(\n\u001b[32m    429\u001b[39m         \u001b[33mf\u001b[39m\u001b[33m\"\u001b[39m\u001b[33mvdW method \u001b[39m\u001b[38;5;132;01m{\u001b[39;00m\u001b[38;5;28mself\u001b[39m.vdw_method\u001b[38;5;132;01m}\u001b[39;00m\u001b[33m not supported\u001b[39m\u001b[33m\"\u001b[39m,\n\u001b[32m    430\u001b[39m     )\n\u001b[32m    432\u001b[39m \u001b[38;5;28;01mif\u001b[39;00m \u001b[38;5;28mself\u001b[39m.coul_method == _PME:\n\u001b[32m    433\u001b[39m     sander.write(\u001b[33m\"\u001b[39m\u001b[33m/\u001b[39m\u001b[38;5;130;01m\\n\u001b[39;00m\u001b[33m&ewald\u001b[39m\u001b[38;5;130;01m\\n\u001b[39;00m\u001b[33morder=4\u001b[39m\u001b[38;5;130;01m\\n\u001b[39;00m\u001b[33mskinnb=1.0\u001b[39m\u001b[38;5;130;01m\\n\u001b[39;00m\u001b[33m/\u001b[39m\u001b[33m\"\u001b[39m)\n",
      "\u001b[31mUnsupportedExportError\u001b[39m: vdW method no-cutoff not supported"
     ]
    }
   ],
   "source": [
    "amber_energies = get_amber_energies(interchange)\n",
    "print(amber_energies.energies)"
   ]
  }
 ],
 "metadata": {
  "kernelspec": {
   "display_name": "openfe_env",
   "language": "python",
   "name": "python3"
  },
  "language_info": {
   "codemirror_mode": {
    "name": "ipython",
    "version": 3
   },
   "file_extension": ".py",
   "mimetype": "text/x-python",
   "name": "python",
   "nbconvert_exporter": "python",
   "pygments_lexer": "ipython3",
   "version": "3.12.10"
  }
 },
 "nbformat": 4,
 "nbformat_minor": 2
}
