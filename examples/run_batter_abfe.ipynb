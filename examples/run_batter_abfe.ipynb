{
 "cells": [
  {
   "cell_type": "code",
   "execution_count": 4,
   "metadata": {},
   "outputs": [],
   "source": [
    "from batter import MABFESystem\n",
    "from batter.input_process import get_configure_from_file, parse_input_file"
   ]
  },
  {
   "cell_type": "code",
   "execution_count": 5,
   "metadata": {},
   "outputs": [],
   "source": [
    "protein_file = 'data/7T2G_mp/protein_input.pdb'\n",
    "system_file = 'data/7T2G_mp/system_input.pdb'\n",
    "ligand_files = ['data/7T2G_mp/ligand_MP.pdb',\n",
    "                'data/7T2G_mp/ligand_MP2.pdb',\n",
    "                'data/7T2G_mp/ligand_DAMGO.pdb']\n",
    "#system_inpcrd = 'data/7T2G_mp/system_input.inpcrd'\n",
    "equilibrated_rst = 'data/7T2G_mp/equilibrated.rst'\n",
    "\n",
    "input_file = 'data/input_files/abfe.in'"
   ]
  },
  {
   "cell_type": "code",
   "execution_count": null,
   "metadata": {},
   "outputs": [],
   "source": [
    "output_folder = 'test/abfe'\n",
    "system = MABFESystem(folder=output_folder)"
   ]
  },
  {
   "cell_type": "code",
   "execution_count": null,
   "metadata": {},
   "outputs": [],
   "source": [
    "# check available input of create_system\n",
    "system.create_system?"
   ]
  },
  {
   "cell_type": "code",
   "execution_count": null,
   "metadata": {},
   "outputs": [],
   "source": [
    "system.create_system(\n",
    "            system_name='7T2G',\n",
    "            protein_input=protein_file,\n",
    "            system_topology=system_file,\n",
    "            system_coordinate=equilibrated_rst,\n",
    "            ligand_paths=ligand_files,\n",
    "#            overwrite=True,\n",
    "            lipid_mol=['POPC'])"
   ]
  },
  {
   "cell_type": "code",
   "execution_count": null,
   "metadata": {},
   "outputs": [],
   "source": [
    "import MDAnalysis as mda\n",
    "\n",
    "u_prot = mda.Universe(f'{output_folder}/all-poses/reference.pdb')\n",
    "u_lig = mda.Universe(f'{output_folder}/all-poses/pose0.pdb')\n",
    "u_merge = mda.Merge(u_prot.atoms, u_lig.atoms)\n",
    "\n",
    "P1_atom = u_merge.select_atoms('name CA and resid 149')\n",
    "P2_atom = u_merge.select_atoms('name CA and resid 119')\n",
    "P3_atom = u_merge.select_atoms('name CA and resid 328')\n",
    "if P1_atom.n_atoms != 1 or P2_atom.n_atoms != 1 or P3_atom.n_atoms != 1:\n",
    "    raise ValueError('Error: more than one atom selected')\n",
    "\n",
    "lig_atom = u_merge.select_atoms(f'resname {u_lig.atoms.resnames[0]} and name C12')\n",
    "\n",
    "# get ll_x,y,z distances\n",
    "r_vect = lig_atom.center_of_mass() - P1_atom.positions\n",
    "print(f'l1_x: {r_vect[0][0]:.2f}')\n",
    "print(f'l1_y: {r_vect[0][1]:.2f}')\n",
    "print(f'l1_z: {r_vect[0][2]:.2f}')"
   ]
  },
  {
   "cell_type": "markdown",
   "metadata": {},
   "source": [
    "Modify the `test/abfe/abfe.in` file to include the following lines based on the output of the above script:\n",
    "    \n",
    "```bash\n",
    "    l1_x: xxx\n",
    "    l1_y: xxx\n",
    "    l1_z: xxx\n",
    "```"
   ]
  },
  {
   "cell_type": "code",
   "execution_count": null,
   "metadata": {},
   "outputs": [],
   "source": [
    "# Prepare the system for the equilibration stage\n",
    "system.prepare(\n",
    "    stage='equil',\n",
    "    input_file=input_file,\n",
    "    overwrite=True,\n",
    ")"
   ]
  },
  {
   "cell_type": "code",
   "execution_count": null,
   "metadata": {},
   "outputs": [],
   "source": [
    "# Submit the equilibration job to SLURM\n",
    "system.submit(stage='equil')"
   ]
  },
  {
   "cell_type": "markdown",
   "metadata": {},
   "source": [
    "Wait for the equilbration to finish."
   ]
  },
  {
   "cell_type": "code",
   "execution_count": null,
   "metadata": {},
   "outputs": [],
   "source": [
    "# Prepare the system for the free energy calculation\n",
    "system.prepare(\n",
    "    stage='fe',\n",
    "    input_file=input_file,\n",
    "#    overwrite=True,\n",
    ")"
   ]
  },
  {
   "cell_type": "code",
   "execution_count": null,
   "metadata": {},
   "outputs": [],
   "source": [
    "# Submit the equilibration job to SLURM\n",
    "system.submit(stage='fe')"
   ]
  },
  {
   "cell_type": "markdown",
   "metadata": {},
   "source": [
    "Wait for the production to finish."
   ]
  },
  {
   "cell_type": "code",
   "execution_count": null,
   "metadata": {},
   "outputs": [],
   "source": [
    "system.analysis()"
   ]
  }
 ],
 "metadata": {
  "kernelspec": {
   "display_name": "batter",
   "language": "python",
   "name": "python3"
  },
  "language_info": {
   "codemirror_mode": {
    "name": "ipython",
    "version": 3
   },
   "file_extension": ".py",
   "mimetype": "text/x-python",
   "name": "python",
   "nbconvert_exporter": "python",
   "pygments_lexer": "ipython3",
   "version": "3.11.0"
  }
 },
 "nbformat": 4,
 "nbformat_minor": 2
}
