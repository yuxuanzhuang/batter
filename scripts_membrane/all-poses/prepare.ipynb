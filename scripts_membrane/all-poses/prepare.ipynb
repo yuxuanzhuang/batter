{
 "cells": [
  {
   "cell_type": "markdown",
   "metadata": {},
   "source": [
    "# Prepare a protein system from scratch\n",
    "\n",
    "- BAT.py requires a protein system in PDB format. The atom names should be generic or match the names in the AMBER force field; PDB files from e.g. a snapshot from a CHARMM simulation, the output PDB from `dabble` when `charmm` forcefield is used, will not work.\n",
    "\n",
    "We need two PDB files for preparing a protein system.\n",
    "\n",
    "1. protein_input.pdb: A PDB of protein that is exported from Maestro; it means the protonation states of the protein are assigned (I think tleap can recongnize e.g ASP and ASH, maybe?). Water and ligand can be present in the protein_input.pdb but they will be removed during preparation.\n",
    "\n",
    "2. system_input.pdb: A prepared simulation system with dabble. The ligand does not need to be present in the system_input.pdb.\n",
    "\n",
    "For ligands that will be used in the simulation, we need their PDB files as well. The ligand should be in the docking poses for `system_input.pdb`.\n",
    "\n",
    "3. system_input.inpcrd: The inpcrd file of the system_input.pdb\n",
    "This is used to get the dimension of the box.\n",
    "\n",
    "To get the anchor atoms for the protein, prepare a PDB with ligand docked into the protein `prot_lig_input.pdb`; it should share the same resid as the protein in `protein_input.pdb`. The ligand should be in the docking pose."
   ]
  },
  {
   "cell_type": "code",
   "execution_count": 4,
   "metadata": {},
   "outputs": [],
   "source": [
    "import MDAnalysis as mda\n",
    "import numpy as np\n",
    "from MDAnalysis.analysis import align"
   ]
  },
  {
   "cell_type": "code",
   "execution_count": 5,
   "metadata": {},
   "outputs": [],
   "source": [
    "protein_input = 'protein_input.pdb'\n",
    "system_input = 'system_input.pdb'\n",
    "system_inpcrd = 'system_input.inpcrd'\n",
    "prot_lig_input = 'prot_lig_input.pdb'"
   ]
  },
  {
   "cell_type": "code",
   "execution_count": 6,
   "metadata": {},
   "outputs": [],
   "source": [
    "u_prot = mda.Universe(protein_input)\n",
    "u_sys = mda.Universe(system_input, format='XPDB')\n",
    "u_prot_lig = mda.Universe(prot_lig_input)"
   ]
  },
  {
   "cell_type": "markdown",
   "metadata": {},
   "source": [
    "## Generate the protein system\n",
    "\n",
    "1. Add POPC from system_input.pdb back to protein_input.pdb**\n",
    "2. Store water that are within 20 Å from the protein/membrane system"
   ]
  },
  {
   "cell_type": "code",
   "execution_count": 10,
   "metadata": {},
   "outputs": [
    {
     "name": "stderr",
     "output_type": "stream",
     "text": [
      "/scratch/users/yuzhuang/miniforge3/envs/batter/lib/python3.11/site-packages/MDAnalysis/topology/PDBParser.py:295: UserWarning: PDB file is missing resid information.  Defaulted to '1'\n",
      "  warnings.warn(\"PDB file is missing resid information.  \"\n",
      "/scratch/users/yuzhuang/miniforge3/envs/batter/lib/python3.11/site-packages/MDAnalysis/topology/PDBParser.py:346: UserWarning: Unknown element  found for some atoms. These have been given an empty element record. If needed they can be guessed using universe.guess_TopologyAttrs(context='default', to_guess=['elements']).\n",
      "  warnings.warn(wmsg)\n"
     ]
    },
    {
     "data": {
      "text/plain": [
       "(0.0005844909808033118, 0.0005838093667875604)"
      ]
     },
     "execution_count": 10,
     "metadata": {},
     "output_type": "execute_result"
    }
   ],
   "source": [
    "u_sys_aligned = mda.Universe(system_input, format = 'XPDB')\n",
    "align.alignto(u_sys_aligned,\n",
    "              u_prot, select='name CA and resid 60 to 250', match_atoms=False)"
   ]
  },
  {
   "cell_type": "code",
   "execution_count": 11,
   "metadata": {},
   "outputs": [
    {
     "name": "stdout",
     "output_type": "stream",
     "text": [
      "Number of POPC molecules: 171\n"
     ]
    }
   ],
   "source": [
    "membrane_ag = u_sys_aligned.select_atoms('resname POPC')\n",
    "print(f'Number of POPC molecules: {membrane_ag.n_residues}')"
   ]
  },
  {
   "cell_type": "code",
   "execution_count": 12,
   "metadata": {},
   "outputs": [
    {
     "name": "stdout",
     "output_type": "stream",
     "text": [
      "Number of water molecules: 13992\n"
     ]
    }
   ],
   "source": [
    "water_ag = u_sys_aligned.select_atoms('byres (resname TIP3 and around 20 (protein or resname POPC))')\n",
    "print(f'Number of water molecules: {water_ag.n_residues}')"
   ]
  },
  {
   "cell_type": "code",
   "execution_count": 14,
   "metadata": {},
   "outputs": [],
   "source": [
    "u_merged = mda.Merge(u_prot.select_atoms('protein'), membrane_ag, water_ag)"
   ]
  },
  {
   "cell_type": "code",
   "execution_count": 16,
   "metadata": {},
   "outputs": [
    {
     "name": "stdout",
     "output_type": "stream",
     "text": [
      "Number of water molecules: 13992\n",
      "Water atom names: ['OH2' 'H1' 'H2']\n"
     ]
    }
   ],
   "source": [
    "water = u_merged.select_atoms('resname TIP3')\n",
    "print(f'Number of water molecules: {water.n_residues}')\n",
    "print(f'Water atom names: {water.residues[0].atoms.names}')"
   ]
  },
  {
   "cell_type": "code",
   "execution_count": 18,
   "metadata": {},
   "outputs": [],
   "source": [
    "# set OW, OH2 to O\n",
    "# Otherwise tleap cannot recognize the water molecules\n",
    "water.select_atoms('name OW').names = 'O'\n",
    "water.select_atoms('name OH2').names = 'O'"
   ]
  },
  {
   "cell_type": "code",
   "execution_count": 19,
   "metadata": {},
   "outputs": [
    {
     "name": "stdout",
     "output_type": "stream",
     "text": [
      "Box dimensions: [ 89.935204  85.773499 112.995003  90.        90.        90.      ]\n"
     ]
    }
   ],
   "source": [
    "# read last line of inpcrd file to get dimensions\n",
    "with open(system_inpcrd) as f:\n",
    "    lines = f.readlines()\n",
    "    box = np.array([float(x) for x in lines[-1].split()])\n",
    "    print(f'Box dimensions: {box}')\n",
    "\n",
    "u_merged.dimensions = box"
   ]
  },
  {
   "cell_type": "code",
   "execution_count": 20,
   "metadata": {},
   "outputs": [
    {
     "name": "stderr",
     "output_type": "stream",
     "text": [
      "/scratch/users/yuzhuang/miniforge3/envs/batter/lib/python3.11/site-packages/MDAnalysis/coordinates/PDB.py:1154: UserWarning: Found no information for attr: 'formalcharges' Using default value of '0'\n",
      "  warnings.warn(\"Found no information for attr: '{}'\"\n"
     ]
    }
   ],
   "source": [
    "# save as *_docked.pdb that matched `input-dd-amber.in`\n",
    "u_merged.atoms.write('MOR_docked.pdb')"
   ]
  },
  {
   "cell_type": "markdown",
   "metadata": {},
   "source": [
    "## Generate reference structure"
   ]
  },
  {
   "cell_type": "code",
   "execution_count": 21,
   "metadata": {},
   "outputs": [],
   "source": [
    "protein_ref = u_sys.select_atoms('protein')"
   ]
  },
  {
   "cell_type": "code",
   "execution_count": 22,
   "metadata": {},
   "outputs": [
    {
     "name": "stderr",
     "output_type": "stream",
     "text": [
      "/scratch/users/yuzhuang/miniforge3/envs/batter/lib/python3.11/site-packages/MDAnalysis/coordinates/PDB.py:777: UserWarning: Unit cell dimensions not found. CRYST1 record set to unitary values.\n",
      "  warnings.warn(\"Unit cell dimensions not found. \"\n"
     ]
    }
   ],
   "source": [
    "protein_ref.write('../build_files/reference.pdb')"
   ]
  },
  {
   "cell_type": "markdown",
   "metadata": {},
   "source": [
    "## Get protein and ligand anchors\n",
    "Follow the guideline in section 7 of https://github.com/GHeinzelmann/BAT.py/blob/master/doc/User-guide.pdf\n",
    "\n",
    "Visualize and select anchor atoms with VMD.\n",
    "\n",
    "Save the final l1_x,y,z values inside `input-dd-amber.in`"
   ]
  },
  {
   "cell_type": "code",
   "execution_count": 23,
   "metadata": {},
   "outputs": [],
   "source": [
    "P1_atom = u_prot_lig.select_atoms('name CA and resid 149')\n",
    "P2_atom = u_prot_lig.select_atoms('name CA and resid 119')\n",
    "P3_atom = u_prot_lig.select_atoms('name CA and resid 328')\n",
    "if P1_atom.n_atoms != 1 or P2_atom.n_atoms != 1 or P3_atom.n_atoms != 1:\n",
    "    raise ValueError('Error: more than one atom selected')"
   ]
  },
  {
   "cell_type": "code",
   "execution_count": 24,
   "metadata": {},
   "outputs": [],
   "source": [
    "potential_lig_l1 = u_prot_lig.select_atoms('resname MP and name C12')\n",
    "if potential_lig_l1.n_atoms != 1:\n",
    "    raise ValueError('There should be exactly one atom named C12 in the ligand')"
   ]
  },
  {
   "cell_type": "code",
   "execution_count": 25,
   "metadata": {},
   "outputs": [
    {
     "name": "stdout",
     "output_type": "stream",
     "text": [
      "l1_x: 2.08\n",
      "l1_y: -6.83\n",
      "l1_z: 3.94\n"
     ]
    }
   ],
   "source": [
    "# get ll_x,y,z distances\n",
    "\n",
    "r_vect = potential_lig_l1.positions - P1_atom.positions\n",
    "print(f'l1_x: {r_vect[0][0]:.2f}')\n",
    "print(f'l1_y: {r_vect[0][1]:.2f}')\n",
    "print(f'l1_z: {r_vect[0][2]:.2f}')"
   ]
  }
 ],
 "metadata": {
  "kernelspec": {
   "display_name": "md_0807",
   "language": "python",
   "name": "python3"
  },
  "language_info": {
   "codemirror_mode": {
    "name": "ipython",
    "version": 3
   },
   "file_extension": ".py",
   "mimetype": "text/x-python",
   "name": "python",
   "nbconvert_exporter": "python",
   "pygments_lexer": "ipython3",
   "version": "3.11.0"
  }
 },
 "nbformat": 4,
 "nbformat_minor": 2
}
