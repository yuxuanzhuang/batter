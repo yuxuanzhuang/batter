{
 "cells": [
  {
   "cell_type": "code",
   "execution_count": null,
   "metadata": {},
   "outputs": [],
   "source": [
    "import matplotlib.pyplot as plt\n",
    "import numpy as np\n",
    "import MDAnalysis as mda"
   ]
  },
  {
   "cell_type": "code",
   "execution_count": null,
   "metadata": {},
   "outputs": [],
   "source": [
    "# Load the conformational ensemble\n",
    "state_name = 'active'\n",
    "state_name = 'inactive'\n",
    "u = mda.Universe(f'data/unbiased/{state_name}.pdb',\n",
    "                 f'data/unbiased/{state_name}.xtc')"
   ]
  },
  {
   "cell_type": "code",
   "execution_count": 13,
   "metadata": {},
   "outputs": [],
   "source": [
    "# Load the reference structure\n",
    "ref = mda.Universe(f'test/{state_name}_abfe/equil/pose0/full.pdb',\n",
    "                   f'test/{state_name}_abfe/equil/pose0/full.inpcrd', format='RESTRT')"
   ]
  },
  {
   "cell_type": "code",
   "execution_count": null,
   "metadata": {},
   "outputs": [],
   "source": [
    "gpcr_sel = 'protein and chainID R and name CA'\n",
    "gpcr_atoms = u.select_atoms(gpcr_sel)\n",
    "print(gpcr_atoms.n_atoms)"
   ]
  },
  {
   "cell_type": "code",
   "execution_count": 15,
   "metadata": {},
   "outputs": [],
   "source": [
    "from MDAnalysis.analysis import rms, align\n",
    "\n",
    "average = align.AverageStructure(u, u, select=gpcr_sel,\n",
    "                                 ref_frame=0).run()\n",
    "ref = average.results.universe\n",
    "\n",
    "aligner = align.AlignTraj(u, ref,\n",
    "                          select=gpcr_sel + ' and resid 60-150',\n",
    "                          in_memory=True).run()"
   ]
  },
  {
   "cell_type": "code",
   "execution_count": 16,
   "metadata": {},
   "outputs": [],
   "source": [
    "R = rms.RMSF(gpcr_atoms).run()"
   ]
  },
  {
   "cell_type": "code",
   "execution_count": null,
   "metadata": {},
   "outputs": [],
   "source": [
    "plt.plot(gpcr_atoms.resids, R.results.rmsf, label=state_name)\n",
    "plt.xlabel('Residue number')\n",
    "plt.ylabel('RMSF ($\\AA$)')\n",
    "plt.legend()"
   ]
  },
  {
   "cell_type": "code",
   "execution_count": null,
   "metadata": {},
   "outputs": [],
   "source": [
    "# store the average position\n",
    "ref.atoms.write(f'test/{state_name}_avg.pdb')"
   ]
  },
  {
   "cell_type": "code",
   "execution_count": 19,
   "metadata": {},
   "outputs": [],
   "source": [
    "# save rmsf\n",
    "rmsf_values = R.results.rmsf\n",
    "with open(f'test/{state_name}_rmsf.txt', 'w') as f:\n",
    "    for resid, rmsf in zip(gpcr_atoms.resids, rmsf_values):\n",
    "        f.write(f'{resid} {rmsf}\\n')"
   ]
  },
  {
   "cell_type": "code",
   "execution_count": null,
   "metadata": {},
   "outputs": [],
   "source": [
    "!cat test/inactive_rmsf.txt"
   ]
  },
  {
   "cell_type": "code",
   "execution_count": null,
   "metadata": {},
   "outputs": [],
   "source": []
  }
 ],
 "metadata": {
  "kernelspec": {
   "display_name": "batter",
   "language": "python",
   "name": "python3"
  },
  "language_info": {
   "codemirror_mode": {
    "name": "ipython",
    "version": 3
   },
   "file_extension": ".py",
   "mimetype": "text/x-python",
   "name": "python",
   "nbconvert_exporter": "python",
   "pygments_lexer": "ipython3",
   "version": "3.11.0"
  }
 },
 "nbformat": 4,
 "nbformat_minor": 2
}
