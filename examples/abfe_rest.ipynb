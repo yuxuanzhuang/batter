{
 "cells": [
  {
   "cell_type": "code",
   "execution_count": 1,
   "metadata": {},
   "outputs": [],
   "source": [
    "import numpy as np\n",
    "from batter import MABFESystem"
   ]
  },
  {
   "cell_type": "code",
   "execution_count": 2,
   "metadata": {},
   "outputs": [],
   "source": [
    "state = 'inactive'\n",
    "state = 'active'\n",
    "protein_file = f'data/MOR/{state}/protein_input.pdb'\n",
    "system_file = f'data/MOR/{state}/{state}.pdb'\n",
    "ligand_files = [f'data/MOR/{state}/ligand_mp.pdb',\n",
    "                f'data/MOR/{state}/ligand_mp.pdb',\n",
    "                f'data/MOR/{state}/ligand_fna.pdb']\n",
    "#system_inpcrd = 'data/7T2G_mp/system_input.inpcrd'\n",
    "equilibrated_rst = f'data/MOR/{state}/{state}_eq.rst'\n",
    "\n",
    "input_file = f'data/MOR/{state}/abfe.in'\n",
    "\n",
    "# make sure they all exist\n",
    "import os\n",
    "for f in [protein_file, system_file, equilibrated_rst, input_file] + ligand_files:\n",
    "    if not os.path.exists(f):\n",
    "        raise FileNotFoundError(f)"
   ]
  },
  {
   "cell_type": "code",
   "execution_count": null,
   "metadata": {},
   "outputs": [],
   "source": [
    "output_folder = f'test/{state}_abfe'\n",
    "system = MABFESystem(folder=output_folder)"
   ]
  },
  {
   "cell_type": "code",
   "execution_count": null,
   "metadata": {},
   "outputs": [],
   "source": [
    "# check available input of create_system\n",
    "system.create_system?"
   ]
  },
  {
   "cell_type": "code",
   "execution_count": null,
   "metadata": {},
   "outputs": [],
   "source": [
    "system.create_system(\n",
    "            system_name='MOR',\n",
    "            protein_input=protein_file,\n",
    "            system_topology=system_file,\n",
    "            system_coordinate=equilibrated_rst,\n",
    "            ligand_paths=ligand_files,\n",
    "#            overwrite=True,\n",
    "            lipid_mol=['POPC'])"
   ]
  },
  {
   "cell_type": "code",
   "execution_count": null,
   "metadata": {},
   "outputs": [],
   "source": [
    "import MDAnalysis as mda\n",
    "\n",
    "u_prot = mda.Universe(f'{output_folder}/all-poses/reference.pdb')\n",
    "u_lig = mda.Universe(f'{output_folder}/all-poses/pose0.pdb')\n",
    "u_merge = mda.Merge(u_prot.atoms, u_lig.atoms)\n",
    "\n",
    "P1_atom = u_merge.select_atoms('name CA and resid 149')\n",
    "P2_atom = u_merge.select_atoms('name CA and resid 119')\n",
    "P3_atom = u_merge.select_atoms('name CA and resid 328')\n",
    "if P1_atom.n_atoms != 1 or P2_atom.n_atoms != 1 or P3_atom.n_atoms != 1:\n",
    "    raise ValueError('Error: more than one atom selected')\n",
    "\n",
    "lig_atom = u_merge.select_atoms(f'resname {u_lig.atoms.resnames[0]} and name C12')\n",
    "\n",
    "# get ll_x,y,z distances\n",
    "r_vect = lig_atom.center_of_mass() - P1_atom.positions\n",
    "print(f'l1_x: {r_vect[0][0]:.2f}')\n",
    "print(f'l1_y: {r_vect[0][1]:.2f}')\n",
    "print(f'l1_z: {r_vect[0][2]:.2f}')"
   ]
  },
  {
   "cell_type": "markdown",
   "metadata": {},
   "source": [
    "Modify the `abfe.in` file to include the following lines based on the output of the above script:\n",
    "    \n",
    "```bash\n",
    "    l1_x: xxx\n",
    "    l1_y: xxx\n",
    "    l1_z: xxx\n",
    "```"
   ]
  },
  {
   "cell_type": "code",
   "execution_count": null,
   "metadata": {},
   "outputs": [],
   "source": [
    "# Prepare the system for the equilibration stage\n",
    "system.prepare(\n",
    "    stage='equil',\n",
    "    input_file=input_file,\n",
    "    overwrite=True,\n",
    ")"
   ]
  },
  {
   "cell_type": "markdown",
   "metadata": {},
   "source": [
    "Run the scripts in generate_rmsf_restraints.ipynb to generate the restraints file."
   ]
  },
  {
   "cell_type": "code",
   "execution_count": 27,
   "metadata": {},
   "outputs": [],
   "source": [
    "system.add_rmsf_restraints(\n",
    "    stage='equil',\n",
    "    avg_struc=f'test/{state}_avg.pdb',\n",
    "    rmsf_file=f'test/{state}_rmsf.txt'\n",
    ")"
   ]
  },
  {
   "cell_type": "code",
   "execution_count": null,
   "metadata": {},
   "outputs": [],
   "source": [
    "# Submit the equilibration job to SLURM\n",
    "system.submit(stage='equil')"
   ]
  },
  {
   "cell_type": "markdown",
   "metadata": {},
   "source": [
    "Wait for the equilbration to finish."
   ]
  },
  {
   "cell_type": "code",
   "execution_count": null,
   "metadata": {},
   "outputs": [],
   "source": [
    "# Prepare the system for the free energy calculation\n",
    "system.prepare(\n",
    "    stage='fe',\n",
    "    input_file=input_file,\n",
    "#    overwrite=True,\n",
    ")"
   ]
  },
  {
   "cell_type": "code",
   "execution_count": 6,
   "metadata": {},
   "outputs": [],
   "source": [
    "system.add_rmsf_restraints(\n",
    "    stage='fe',\n",
    "    avg_struc=f'test/{state}_avg.pdb',\n",
    "    rmsf_file=f'test/{state}_rmsf.txt'\n",
    ")"
   ]
  },
  {
   "cell_type": "code",
   "execution_count": null,
   "metadata": {},
   "outputs": [],
   "source": [
    "# Submit the equilibration job to SLURM\n",
    "system.submit(stage='fe')"
   ]
  },
  {
   "cell_type": "markdown",
   "metadata": {},
   "source": [
    "Wait for the production to finish."
   ]
  },
  {
   "cell_type": "code",
   "execution_count": null,
   "metadata": {},
   "outputs": [],
   "source": [
    "system.analysis()"
   ]
  }
 ],
 "metadata": {
  "kernelspec": {
   "display_name": "batter",
   "language": "python",
   "name": "python3"
  },
  "language_info": {
   "codemirror_mode": {
    "name": "ipython",
    "version": 3
   },
   "file_extension": ".py",
   "mimetype": "text/x-python",
   "name": "python",
   "nbconvert_exporter": "python",
   "pygments_lexer": "ipython3",
   "version": "3.11.0"
  }
 },
 "nbformat": 4,
 "nbformat_minor": 2
}
