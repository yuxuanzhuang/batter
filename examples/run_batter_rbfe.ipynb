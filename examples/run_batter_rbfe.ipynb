{
 "cells": [
  {
   "cell_type": "code",
   "execution_count": 1,
   "metadata": {},
   "outputs": [
    {
     "name": "stderr",
     "output_type": "stream",
     "text": [
      "/scratch/users/yuzhuang/miniforge3/envs/batter/lib/python3.11/site-packages/tqdm/auto.py:21: TqdmWarning: IProgress not found. Please update jupyter and ipywidgets. See https://ipywidgets.readthedocs.io/en/stable/user_install.html\n",
      "  from .autonotebook import tqdm as notebook_tqdm\n"
     ]
    }
   ],
   "source": [
    "import glob\n",
    "import numpy as np\n",
    "from batter import RBFESystem\n",
    "from batter.input_process import get_configure_from_file, parse_input_file\n",
    "\n",
    "from logging import getLogger, DEBUG \n",
    "logger = getLogger()\n",
    "logger.setLevel(DEBUG)"
   ]
  },
  {
   "cell_type": "code",
   "execution_count": 2,
   "metadata": {},
   "outputs": [],
   "source": [
    "protein_file = 'data/7T2G_mp/protein_input.pdb'\n",
    "system_file = 'data/7T2G_mp/system_input.pdb'\n",
    "ligand_files = ['data/7T2G_mp/ligand_MP.pdb',\n",
    "                'data/7T2G_mp/ligand_DAMGO.pdb']\n",
    "system_inpcrd = 'data/7T2G_mp/system_input.inpcrd'"
   ]
  },
  {
   "cell_type": "code",
   "execution_count": 3,
   "metadata": {},
   "outputs": [
    {
     "name": "stderr",
     "output_type": "stream",
     "text": [
      "19-Dec-2024 16:51:08 | INFO | Loading an existing system: /oak/stanford/groups/rondror/users/yuzhuang/software/batter/examples/test/rbfe/\n",
      "19-Dec-2024 16:51:08 | INFO | The folder does not contain fe: /oak/stanford/groups/rondror/users/yuzhuang/software/batter/examples/test/rbfe/\n"
     ]
    }
   ],
   "source": [
    "output_folder = 'test/rbfe'\n",
    "test_system = RBFESystem(folder=output_folder)"
   ]
  },
  {
   "cell_type": "code",
   "execution_count": 4,
   "metadata": {},
   "outputs": [
    {
     "name": "stderr",
     "output_type": "stream",
     "text": [
      "19-Dec-2024 16:51:10 | INFO | Input: membrane system\n",
      "19-Dec-2024 16:51:10 | INFO | Getting the alignment of the protein and ligand to the system\n",
      "19-Dec-2024 16:51:11 | INFO | System loaded and prepared\n"
     ]
    }
   ],
   "source": [
    "test_system.create_system(\n",
    "            system_name='7T2G',\n",
    "            protein_input=protein_file,\n",
    "            system_topology=system_file,\n",
    "            system_coordinate=system_inpcrd,\n",
    "            ligand_paths=ligand_files,\n",
    "#            overwrite=True,\n",
    "            lipid_mol=['POPC'])"
   ]
  },
  {
   "cell_type": "code",
   "execution_count": 5,
   "metadata": {},
   "outputs": [
    {
     "name": "stdout",
     "output_type": "stream",
     "text": [
      "l1_x: -3.54\n",
      "l1_y: 4.20\n",
      "l1_z: 4.08\n"
     ]
    }
   ],
   "source": [
    "import MDAnalysis as mda\n",
    "\n",
    "u_prot = mda.Universe(f'{output_folder}/all-poses/reference.pdb')\n",
    "u_lig = mda.Universe(f'{output_folder}/all-poses/pose0.pdb')\n",
    "u_merge = mda.Merge(u_prot.atoms, u_lig.atoms)\n",
    "\n",
    "P1_atom = u_merge.select_atoms('name CA and resid 149')\n",
    "P2_atom = u_merge.select_atoms('name CA and resid 119')\n",
    "P3_atom = u_merge.select_atoms('name CA and resid 328')\n",
    "if P1_atom.n_atoms != 1 or P2_atom.n_atoms != 1 or P3_atom.n_atoms != 1:\n",
    "    raise ValueError('Error: more than one atom selected')\n",
    "\n",
    "lig_atom = u_merge.select_atoms(f'resname {u_lig.atoms.resnames[0]} and name C12')\n",
    "\n",
    "# get ll_x,y,z distances\n",
    "r_vect = lig_atom.center_of_mass() - P1_atom.positions\n",
    "print(f'l1_x: {r_vect[0][0]:.2f}')\n",
    "print(f'l1_y: {r_vect[0][1]:.2f}')\n",
    "print(f'l1_z: {r_vect[0][2]:.2f}')"
   ]
  },
  {
   "cell_type": "code",
   "execution_count": 6,
   "metadata": {},
   "outputs": [],
   "source": [
    "sim_config = get_configure_from_file('data/md_input/lipid_rbfe.in')"
   ]
  },
  {
   "cell_type": "code",
   "execution_count": 7,
   "metadata": {},
   "outputs": [
    {
     "name": "stderr",
     "output_type": "stream",
     "text": [
      "19-Dec-2024 16:51:15 | INFO | Preparing the system\n",
      "19-Dec-2024 16:51:15 | INFO | Simulation configuration: software='amber' calc_type='dock' celpp_receptor='7T2G' poses_list=['0', '1'] p1=':147@CA' p2=':117@CA' p3=':326@CA' ligand_list=[] other_mol=[] solv_shell=4.0 lipid_mol=['POPC', 'PA', 'PC', 'OL'] fe_type='relative' components=['x', 'e', 'n', 'm'] release_eq=[10.0, 2.5, 0.5, 0.0] attach_rest=[0.0, 0.1, 0.24, 0.56, 1.33, 3.16, 7.5, 10.5, 17.78, 20.0, 42.17, 50.0, 60.0, 75.0, 80.0, 100.0] ti_points=0 lambdas=[0.0001, 0.02, 0.04, 0.06, 0.1, 0.15, 0.2, 0.25, 0.3, 0.35, 0.4, 0.45, 0.5, 0.55, 0.6, 0.65, 0.7, 0.75, 0.8, 0.85, 0.92, 0.96, 0.98, 0.9999] sdr_dist=40.0 dec_method='exchange' dec_int='mbar' blocks=5 rec_dihcf_force=50.0 rec_discf_force=5.0 lig_distance_force=5.0 lig_angle_force=250.0 lig_dihcf_force=70.0 rec_com_force=10.0 lig_com_force=10.0 water_model='TIP3P' num_waters=0 buffer_x=12.0 buffer_y=12.0 buffer_z=22.0 lig_buffer=15.0 neutralize_only='no' cation='Na+' anion='Cl-' ion_conc=0.15 hmr='yes' temperature=310.0 eq_steps1=100000 eq_steps2=5000000 n_steps_dict={'a_steps1': 100000, 'a_steps2': 200000, 'l_steps1': 100000, 'l_steps2': 200000, 't_steps1': 100000, 't_steps2': 200000, 'm_steps1': 100000, 'm_steps2': 200000, 'n_steps1': 100000, 'n_steps2': 200000, 'c_steps1': 100000, 'c_steps2': 200000, 'r_steps1': 100000, 'r_steps2': 200000, 'e_steps1': 200000, 'e_steps2': 400000, 'v_steps1': 400000, 'v_steps2': 600000, 'f_steps1': 100000, 'f_steps2': 200000, 'w_steps1': 100000, 'w_steps2': 200000, 'x_steps1': 100000, 'x_steps2': 200000} n_iter_dict={'a_itera1': 0, 'a_itera2': 0, 'l_itera1': 0, 'l_itera2': 0, 't_itera1': 0, 't_itera2': 0, 'm_itera1': 0, 'm_itera2': 0, 'n_itera1': 0, 'n_itera2': 0, 'c_itera1': 0, 'c_itera2': 0, 'r_itera1': 0, 'r_itera2': 0, 'e_itera1': 0, 'e_itera2': 0, 'v_itera1': 0, 'v_itera2': 0, 'f_itera1': 0, 'f_itera2': 0, 'w_itera1': 0, 'w_itera2': 0, 'x_itera1': 0, 'x_itera2': 0} rec_bb='no' bb_start=[1] bb_end=[0] bb_equil='no' l1_x=-3.54 l1_y=4.2 l1_z=4.08 l1_range=2.5 min_adis=3.0 max_adis=7.0 dlambda=0.001 ntpr='1000' ntwr='10000' ntwe='0' ntwx='2500' cut='9.0' gamma_ln='1.0' barostat='2' dt='0.004' itcheck='100' receptor_ff='protein.ff14SB' ligand_ff='gaff2' ligand_ph=7.0 retain_lig_prot='yes' ligand_charge=1 lipid_ff='lipid21' weights=[] mols=[] rng=3 ion_def=['Na+', 'Cl-', 0.15] poses_def=['pose0', 'pose1'] dic_steps1={'a': 100000, 'l': 100000, 't': 100000, 'm': 100000, 'n': 100000, 'c': 100000, 'r': 100000, 'e': 200000, 'v': 400000, 'f': 100000, 'w': 100000, 'x': 100000} dic_steps2={'a': 200000, 'l': 200000, 't': 200000, 'm': 200000, 'n': 200000, 'c': 200000, 'r': 200000, 'e': 400000, 'v': 600000, 'f': 200000, 'w': 200000, 'x': 200000} dic_itera1={'a': 0, 'l': 0, 't': 0, 'm': 0, 'n': 0, 'c': 0, 'r': 0, 'e': 0, 'v': 0, 'f': 0, 'w': 0, 'x': 0} dic_itera2={'a': 0, 'l': 0, 't': 0, 'm': 0, 'n': 0, 'c': 0, 'r': 0, 'e': 0, 'v': 0, 'f': 0, 'w': 0, 'x': 0} H1=':147@CA' H2=':117@CA' H3=':326@CA' rest=[50.0, 5.0, 5.0, 250.0, 70.0, 10.0, 10.0] celp_st='7T2G' neut='no' apr_sim=2\n",
      "19-Dec-2024 16:51:15 | INFO | Prepare for equilibration stage at /oak/stanford/groups/rondror/users/yuzhuang/software/batter/examples/test/rbfe//equil\n",
      "19-Dec-2024 16:51:15 | INFO | Overwrite is set. Removing existing equilibration files\n",
      "19-Dec-2024 16:51:15 | INFO | Prepare for equilibration stage\n",
      "19-Dec-2024 16:51:15 | INFO | Preparing pose: pose0\n",
      "19-Dec-2024 16:51:15 | INFO | Building pose0...\n",
      "19-Dec-2024 16:51:18 | WARNING | Receptor is not set as chain A; trying to fetch the first residue from the protein and it may be wrong.\n",
      "19-Dec-2024 16:51:18 | INFO | P1: :82@CA\n",
      "19-Dec-2024 16:51:18 | INFO | P2: :52@CA\n",
      "19-Dec-2024 16:51:18 | INFO | P3: :261@CA\n",
      "19-Dec-2024 16:51:18 | WARNING | The residue names of the lipids are four-letter names.They were truncated to three-letter namesfor compatibility with AMBER.\n",
      "19-Dec-2024 16:51:33 | INFO | Ligand anchors:\n",
      "19-Dec-2024 16:51:33 | INFO | L1: :289@C24\n",
      "19-Dec-2024 16:51:33 | INFO | L2: :289@C2\n",
      "19-Dec-2024 16:51:33 | INFO | L3: :289@C25\n"
     ]
    },
    {
     "name": "stdout",
     "output_type": "stream",
     "text": [
      "Building the system in /oak/stanford/groups/rondror/users/yuzhuang/software/batter/examples/test/rbfe/equil/pose0\n"
     ]
    },
    {
     "name": "stderr",
     "output_type": "stream",
     "text": [
      "19-Dec-2024 16:52:25 | INFO | Preparing pose: pose1\n",
      "19-Dec-2024 16:52:25 | INFO | Building pose1...\n",
      "19-Dec-2024 16:52:28 | WARNING | Receptor is not set as chain A; trying to fetch the first residue from the protein and it may be wrong.\n",
      "19-Dec-2024 16:52:28 | INFO | P1: :82@CA\n",
      "19-Dec-2024 16:52:28 | INFO | P2: :52@CA\n",
      "19-Dec-2024 16:52:28 | INFO | P3: :261@CA\n",
      "19-Dec-2024 16:52:28 | WARNING | The residue names of the lipids are four-letter names.They were truncated to three-letter namesfor compatibility with AMBER.\n",
      "19-Dec-2024 16:52:44 | INFO | Command failed with matched error: anchor not found\n",
      "19-Dec-2024 16:52:44 | INFO | Command output: Info) VMD for LINUXAMD64, version 1.9.4a55 (October 19, 2021)\n",
      "Info) http://www.ks.uiuc.edu/Research/vmd/                         \n",
      "Info) Email questions and bug reports to vmd@ks.uiuc.edu           \n",
      "Info) Please include this reference in published work using VMD:   \n",
      "Info)    Humphrey, W., Dalke, A. and Schulten, K., `VMD - Visual   \n",
      "Info)    Molecular Dynamics', J. Molec. Graphics 1996, 14.1, 33-38.\n",
      "Info) -------------------------------------------------------------\n",
      "Info) Multithreading available, 20 CPUs, ISA dispatch enabled.\n",
      "Info)   CPU features: SSE2 SSE4.1 AVX AVX2 FMA F16 HT \n",
      "Info) Free system memory: 239GB (95%)\n",
      "Info) Creating CUDA device pool and initializing hardware...\n",
      "Info) Detected 1 available CUDA accelerator::\n",
      "Info) [0] NVIDIA TITAN Xp      30 SM_6.1 1.9 GHz, 12GB RAM SP32 AE2 ZC\n",
      "Info) Detected 1 available TachyonL/OptiX ray tracing accelerator\n",
      "Info)   Compiling  OptiX shaders on 1 target GPU...\n",
      "Info) Dynamically loaded 3 plugins in directory:\n",
      "Info) /home/groups/rondror/software/vmd-1.9.4/lib/plugins/LINUXAMD64/molfile\n",
      "after#0\n",
      "Info) Using plugin pdb for structure file aligned_amber.pdb\n",
      "Info) Using plugin pdb for coordinates from file aligned_amber.pdb\n",
      "Info) Determining bond structure from distance search ...\n",
      "Info) Eliminating bonds duplicated from existing structure...\n",
      "Info) Finished with coordinate file aligned_amber.pdb.\n",
      "Info) Analyzing structure ...\n",
      "Info)    Atoms: 11892\n",
      "Info)    Bonds: 11166\n",
      "Info)    Angles: 0  Dihedrals: 0  Impropers: 0  Cross-terms: 0\n",
      "Info)    Bondtypes: 0  Angletypes: 0  Dihedraltypes: 0  Impropertypes: 0\n",
      "Info)    Residues: 1192\n",
      "Info)    Waters: 733\n",
      "Info)    Segments: 4\n",
      "Info)    Fragments: 906   Protein: 1   Nucleic: 0\n",
      "0\n",
      "equil-dam-ini.pdb\n",
      "equil-dam.pdb\n",
      "0\n",
      "100\n",
      "-3.54\n",
      "4.20\n",
      "4.08\n",
      "2.50\n",
      "7.00\n",
      "3.00\n",
      "0.00\n",
      "atomselect0\n",
      "atomselect1\n",
      "Info) Opened coordinate file equil-dam-ini.pdb for writing.\n",
      "Info) Finished with coordinate file equil-dam-ini.pdb.\n",
      "Info) Using plugin pdb for structure file equil-dam-ini.pdb\n",
      "Info) Using plugin pdb for coordinates from file equil-dam-ini.pdb\n",
      "Info) Determining bond structure from distance search ...\n",
      "Info) Finished with coordinate file equil-dam-ini.pdb.\n",
      "Info) Analyzing structure ...\n",
      "Info)    Atoms: 11892\n",
      "Info)    Bonds: 11166\n",
      "Info)    Angles: 0  Dihedrals: 0  Impropers: 0  Cross-terms: 0\n",
      "Info)    Bondtypes: 0  Angletypes: 0  Dihedraltypes: 0  Impropertypes: 0\n",
      "Info)    Residues: 1192\n",
      "Info)    Waters: 733\n",
      "Info)    Segments: 4\n",
      "Info)    Fragments: 906   Protein: 1   Nucleic: 0\n",
      "1\n",
      "atomselect2\n",
      "Info) Opened coordinate file equil-dam.pdb for writing.\n",
      "Info) Finished with coordinate file equil-dam.pdb.\n",
      "atomselect3\n",
      "atomselect4\n",
      "Info) Opened coordinate file dam.pdb for writing.\n",
      "Info) Finished with coordinate file dam.pdb.\n",
      "Info) Opened coordinate file dam-noh.pdb for writing.\n",
      "Info) Finished with coordinate file dam-noh.pdb.\n",
      "atomselect5\n",
      "N CA C O CB CG CD1 CD2 CE1 CE2 CZ OH N CA CB C O N CA C O C1 N CA C O CB CG CD1 CE1 CZ CE2 CD2 CA N C O\n",
      "ligand center is -6.611999788284302 14.545000267028808 11.270000057220459\n",
      "N\n",
      "4.522446922399374\n",
      "ligand center is -6.611999788284302 14.545000267028808 11.270000057220459\n",
      "CA\n",
      "5.054548242771512\n",
      "ligand center is -6.611999788284302 14.545000267028808 11.270000057220459\n",
      "C\n",
      "5.592300990206446\n",
      "ligand center is -6.611999788284302 14.545000267028808 11.270000057220459\n",
      "O\n",
      "5.799869342743703\n",
      "ligand center is -6.611999788284302 14.545000267028808 11.270000057220459\n",
      "CB\n",
      "3.8529638273891256\n",
      "ligand center is -6.611999788284302 14.545000267028808 11.270000057220459\n",
      "CG\n",
      "2.249824275401845\n",
      "ligand center is -6.611999788284302 14.545000267028808 11.270000057220459\n",
      "CD1\n",
      "2.0763578560362967\n",
      "ligand center is -6.611999788284302 14.545000267028808 11.270000057220459\n",
      "CD2\n",
      "2.5035282990570216\n",
      "ligand center is -6.611999788284302 14.545000267028808 11.270000057220459\n",
      "CE1\n",
      "1.8515142402401907\n",
      "ligand center is -6.611999788284302 14.545000267028808 11.270000057220459\n",
      "CE2\n",
      "2.4191097323766075\n",
      "ligand center is -6.611999788284302 14.545000267028808 11.270000057220459\n",
      "CZ\n",
      "1.9401450845979678\n",
      "ligand center is -6.611999788284302 14.545000267028808 11.270000057220459\n",
      "OH\n",
      "7.967529031915291\n",
      "ligand center is -6.611999788284302 14.545000267028808 11.270000057220459\n",
      "N\n",
      "4.522446922399374\n",
      "ligand center is -6.611999788284302 14.545000267028808 11.270000057220459\n",
      "CA\n",
      "5.054548242771512\n",
      "ligand center is -6.611999788284302 14.545000267028808 11.270000057220459\n",
      "CB\n",
      "3.8529638273891256\n",
      "ligand center is -6.611999788284302 14.545000267028808 11.270000057220459\n",
      "C\n",
      "5.592300990206446\n",
      "ligand center is -6.611999788284302 14.545000267028808 11.270000057220459\n",
      "O\n",
      "5.799869342743703\n",
      "ligand center is -6.611999788284302 14.545000267028808 11.270000057220459\n",
      "N\n",
      "4.522446922399374\n",
      "ligand center is -6.611999788284302 14.545000267028808 11.270000057220459\n",
      "CA\n",
      "5.054548242771512\n",
      "ligand center is -6.611999788284302 14.545000267028808 11.270000057220459\n",
      "C\n",
      "5.592300990206446\n",
      "ligand center is -6.611999788284302 14.545000267028808 11.270000057220459\n",
      "O\n",
      "5.799869342743703\n",
      "ligand center is -6.611999788284302 14.545000267028808 11.270000057220459\n",
      "C1\n",
      "7.324570304973345\n",
      "ligand center is -6.611999788284302 14.545000267028808 11.270000057220459\n",
      "N\n",
      "4.522446922399374\n",
      "ligand center is -6.611999788284302 14.545000267028808 11.270000057220459\n",
      "CA\n",
      "5.054548242771512\n",
      "ligand center is -6.611999788284302 14.545000267028808 11.270000057220459\n",
      "C\n",
      "5.592300990206446\n",
      "ligand center is -6.611999788284302 14.545000267028808 11.270000057220459\n",
      "O\n",
      "5.799869342743703\n",
      "ligand center is -6.611999788284302 14.545000267028808 11.270000057220459\n",
      "CB\n",
      "3.8529638273891256\n",
      "ligand center is -6.611999788284302 14.545000267028808 11.270000057220459\n",
      "CG\n",
      "2.249824275401845\n",
      "ligand center is -6.611999788284302 14.545000267028808 11.270000057220459\n",
      "CD1\n",
      "2.0763578560362967\n",
      "ligand center is -6.611999788284302 14.545000267028808 11.270000057220459\n",
      "CE1\n",
      "1.8515142402401907\n",
      "ligand center is -6.611999788284302 14.545000267028808 11.270000057220459\n",
      "CZ\n",
      "1.9401450845979678\n",
      "ligand center is -6.611999788284302 14.545000267028808 11.270000057220459\n",
      "CE2\n",
      "2.4191097323766075\n",
      "ligand center is -6.611999788284302 14.545000267028808 11.270000057220459\n",
      "CD2\n",
      "2.5035282990570216\n",
      "ligand center is -6.611999788284302 14.545000267028808 11.270000057220459\n",
      "CA\n",
      "5.054548242771512\n",
      "ligand center is -6.611999788284302 14.545000267028808 11.270000057220459\n",
      "N\n",
      "4.522446922399374\n",
      "ligand center is -6.611999788284302 14.545000267028808 11.270000057220459\n",
      "C\n",
      "5.592300990206446\n",
      "ligand center is -6.611999788284302 14.545000267028808 11.270000057220459\n",
      "O\n",
      "5.799869342743703\n",
      "CG CD1 CE1 CE2 CZ CG CD1 CE1 CZ CE2\n",
      "1\n",
      "anchor 1 is\n",
      "CE1\n",
      "1.8515142402401907\n",
      "\n",
      "expected integer but got \"2238 2259\" measure angle: bad atom index\n",
      "\n",
      "90\n",
      "0\n",
      "Ligand second anchor not found\n",
      "Info) VMD for LINUXAMD64, version 1.9.4a55 (October 19, 2021)\n",
      "Info) Exiting normally.\n",
      "\n",
      "19-Dec-2024 16:52:44 | INFO | Command errors: wkf_thread_set_self_cpuaffinitylist: sched_setaffinity: Invalid argument\n",
      "wkf_thread_set_self_cpuaffinitylist: sched_setaffinity: Invalid argument\n",
      "wkf_thread_set_self_cpuaffinitylist: sched_setaffinity: Invalid argument\n",
      "wkf_thread_set_self_cpuaffinitylist: sched_setaffinity: Invalid argument\n",
      "wkf_thread_set_self_cpuaffinitylist: sched_setaffinity: Invalid argument\n",
      "wkf_thread_set_self_cpuaffinitylist: sched_setaffinity: Invalid argument\n",
      "wkf_thread_set_self_cpuaffinitylist: sched_setaffinity: Invalid argument\n",
      "wkf_thread_set_self_cpuaffinitylist: sched_setaffinity: Invalid argument\n",
      "wkf_thread_set_self_cpuaffinitylist: sched_setaffinity: Invalid argument\n",
      "wkf_thread_set_self_cpuaffinitylist: sched_setaffinity: Invalid argument\n",
      "wkf_thread_set_self_cpuaffinitylist: sched_setaffinity: Invalid argument\n",
      "wkf_thread_set_self_cpuaffinitylist: sched_setaffinity: Invalid argument\n",
      "wkf_thread_set_self_cpuaffinitylist: sched_setaffinity: Invalid argument\n",
      "wkf_thread_set_self_cpuaffinitylist: sched_setaffinity: Invalid argument\n",
      "\n",
      "19-Dec-2024 16:52:44 | INFO | Command failed with return code 1\n"
     ]
    },
    {
     "ename": "CalledProcessError",
     "evalue": "Command 'vmd -dispdev text -e prep.tcl' returned non-zero exit status 1.",
     "output_type": "error",
     "traceback": [
      "\u001b[0;31m---------------------------------------------------------------------------\u001b[0m",
      "\u001b[0;31mCalledProcessError\u001b[0m                        Traceback (most recent call last)",
      "Cell \u001b[0;32mIn[7], line 2\u001b[0m\n\u001b[1;32m      1\u001b[0m \u001b[38;5;66;03m# Prepare the system for the equilibration stage\u001b[39;00m\n\u001b[0;32m----> 2\u001b[0m \u001b[43mtest_system\u001b[49m\u001b[38;5;241;43m.\u001b[39;49m\u001b[43mprepare\u001b[49m\u001b[43m(\u001b[49m\n\u001b[1;32m      3\u001b[0m \u001b[43m    \u001b[49m\u001b[43mstage\u001b[49m\u001b[38;5;241;43m=\u001b[39;49m\u001b[38;5;124;43m'\u001b[39;49m\u001b[38;5;124;43mequil\u001b[39;49m\u001b[38;5;124;43m'\u001b[39;49m\u001b[43m,\u001b[49m\n\u001b[1;32m      4\u001b[0m \u001b[38;5;66;43;03m#    input_file='data/md_input/lipid.in',\u001b[39;49;00m\n\u001b[1;32m      5\u001b[0m \u001b[43m    \u001b[49m\u001b[43minput_file\u001b[49m\u001b[38;5;241;43m=\u001b[39;49m\u001b[43msim_config\u001b[49m\u001b[43m,\u001b[49m\n\u001b[1;32m      6\u001b[0m \u001b[43m    \u001b[49m\u001b[43moverwrite\u001b[49m\u001b[38;5;241;43m=\u001b[39;49m\u001b[38;5;28;43;01mTrue\u001b[39;49;00m\u001b[43m,\u001b[49m\n\u001b[1;32m      7\u001b[0m \u001b[43m)\u001b[49m\n",
      "File \u001b[0;32m/oak/stanford/groups/rondror/users/yuzhuang/software/batter/batter/batter.py:591\u001b[0m, in \u001b[0;36mSystem.prepare\u001b[0;34m(self, stage, input_file, overwrite)\u001b[0m\n\u001b[1;32m    588\u001b[0m     \u001b[38;5;28;01mwith\u001b[39;00m \u001b[38;5;28mopen\u001b[39m(\u001b[38;5;124mf\u001b[39m\u001b[38;5;124m\"\u001b[39m\u001b[38;5;132;01m{\u001b[39;00m\u001b[38;5;28mself\u001b[39m\u001b[38;5;241m.\u001b[39mequil_folder\u001b[38;5;132;01m}\u001b[39;00m\u001b[38;5;124m/sim_config.json\u001b[39m\u001b[38;5;124m\"\u001b[39m, \u001b[38;5;124m'\u001b[39m\u001b[38;5;124mw\u001b[39m\u001b[38;5;124m'\u001b[39m) \u001b[38;5;28;01mas\u001b[39;00m f:\n\u001b[1;32m    589\u001b[0m         json\u001b[38;5;241m.\u001b[39mdump(sim_config\u001b[38;5;241m.\u001b[39mmodel_dump(), f, indent\u001b[38;5;241m=\u001b[39m\u001b[38;5;241m2\u001b[39m)\n\u001b[0;32m--> 591\u001b[0m     \u001b[38;5;28;43mself\u001b[39;49m\u001b[38;5;241;43m.\u001b[39;49m\u001b[43m_prepare_equil_system\u001b[49m\u001b[43m(\u001b[49m\u001b[43m)\u001b[49m\n\u001b[1;32m    592\u001b[0m     logger\u001b[38;5;241m.\u001b[39minfo(\u001b[38;5;124m'\u001b[39m\u001b[38;5;124mEquil System prepared\u001b[39m\u001b[38;5;124m'\u001b[39m)\n\u001b[1;32m    594\u001b[0m \u001b[38;5;28;01mif\u001b[39;00m stage \u001b[38;5;241m==\u001b[39m \u001b[38;5;124m'\u001b[39m\u001b[38;5;124mfe\u001b[39m\u001b[38;5;124m'\u001b[39m:\n",
      "File \u001b[0;32m/oak/stanford/groups/rondror/users/yuzhuang/software/batter/batter/batter.py:706\u001b[0m, in \u001b[0;36mSystem._prepare_equil_system\u001b[0;34m(self)\u001b[0m\n\u001b[1;32m    699\u001b[0m \u001b[38;5;28;01mfor\u001b[39;00m pose \u001b[38;5;129;01min\u001b[39;00m \u001b[38;5;28mself\u001b[39m\u001b[38;5;241m.\u001b[39msim_config\u001b[38;5;241m.\u001b[39mposes_def:\n\u001b[1;32m    700\u001b[0m     logger\u001b[38;5;241m.\u001b[39minfo(\u001b[38;5;124mf\u001b[39m\u001b[38;5;124m'\u001b[39m\u001b[38;5;124mPreparing pose: \u001b[39m\u001b[38;5;132;01m{\u001b[39;00mpose\u001b[38;5;132;01m}\u001b[39;00m\u001b[38;5;124m'\u001b[39m)\n\u001b[1;32m    701\u001b[0m     equil_builder \u001b[38;5;241m=\u001b[39m \u001b[43mEquilibrationBuilder\u001b[49m\u001b[43m(\u001b[49m\n\u001b[1;32m    702\u001b[0m \u001b[43m        \u001b[49m\u001b[43msystem\u001b[49m\u001b[38;5;241;43m=\u001b[39;49m\u001b[38;5;28;43mself\u001b[39;49m\u001b[43m,\u001b[49m\n\u001b[1;32m    703\u001b[0m \u001b[43m        \u001b[49m\u001b[43mpose_name\u001b[49m\u001b[38;5;241;43m=\u001b[39;49m\u001b[43mpose\u001b[49m\u001b[43m,\u001b[49m\n\u001b[1;32m    704\u001b[0m \u001b[43m        \u001b[49m\u001b[43msim_config\u001b[49m\u001b[38;5;241;43m=\u001b[39;49m\u001b[43msim_config\u001b[49m\u001b[43m,\u001b[49m\n\u001b[1;32m    705\u001b[0m \u001b[43m        \u001b[49m\u001b[43mworking_dir\u001b[49m\u001b[38;5;241;43m=\u001b[39;49m\u001b[38;5;124;43mf\u001b[39;49m\u001b[38;5;124;43m'\u001b[39;49m\u001b[38;5;132;43;01m{\u001b[39;49;00m\u001b[38;5;28;43mself\u001b[39;49m\u001b[38;5;241;43m.\u001b[39;49m\u001b[43mequil_folder\u001b[49m\u001b[38;5;132;43;01m}\u001b[39;49;00m\u001b[38;5;124;43m'\u001b[39;49m\u001b[43m,\u001b[49m\n\u001b[0;32m--> 706\u001b[0m \u001b[43m    \u001b[49m\u001b[43m)\u001b[49m\u001b[38;5;241;43m.\u001b[39;49m\u001b[43mbuild\u001b[49m\u001b[43m(\u001b[49m\u001b[43m)\u001b[49m\n\u001b[1;32m    708\u001b[0m logger\u001b[38;5;241m.\u001b[39minfo(\u001b[38;5;124m'\u001b[39m\u001b[38;5;124mEquilibration systems have been created for all poses listed in the input file.\u001b[39m\u001b[38;5;124m'\u001b[39m)\n\u001b[1;32m    709\u001b[0m logger\u001b[38;5;241m.\u001b[39minfo(\u001b[38;5;124mf\u001b[39m\u001b[38;5;124m'\u001b[39m\u001b[38;5;124mnow cd equil/pose0\u001b[39m\u001b[38;5;124m'\u001b[39m)\n",
      "File \u001b[0;32m/oak/stanford/groups/rondror/users/yuzhuang/software/batter/batter/builder.py:82\u001b[0m, in \u001b[0;36mSystemBuilder.build\u001b[0;34m(self)\u001b[0m\n\u001b[1;32m     80\u001b[0m \u001b[38;5;28;01mwith\u001b[39;00m \u001b[38;5;28mself\u001b[39m\u001b[38;5;241m.\u001b[39m_change_dir(\u001b[38;5;124m'\u001b[39m\u001b[38;5;124mbuild_files\u001b[39m\u001b[38;5;124m'\u001b[39m):\n\u001b[1;32m     81\u001b[0m     logger\u001b[38;5;241m.\u001b[39mdebug(\u001b[38;5;124mf\u001b[39m\u001b[38;5;124m'\u001b[39m\u001b[38;5;124mCreating build_files in  \u001b[39m\u001b[38;5;132;01m{\u001b[39;00mos\u001b[38;5;241m.\u001b[39mgetcwd()\u001b[38;5;132;01m}\u001b[39;00m\u001b[38;5;124m'\u001b[39m)\n\u001b[0;32m---> 82\u001b[0m     anchor_found \u001b[38;5;241m=\u001b[39m \u001b[38;5;28;43mself\u001b[39;49m\u001b[38;5;241;43m.\u001b[39;49m\u001b[43m_build_complex\u001b[49m\u001b[43m(\u001b[49m\u001b[43m)\u001b[49m\n\u001b[1;32m     83\u001b[0m     \u001b[38;5;28;01mif\u001b[39;00m \u001b[38;5;129;01mnot\u001b[39;00m anchor_found:\n\u001b[1;32m     84\u001b[0m         warnings\u001b[38;5;241m.\u001b[39mwarn(\u001b[38;5;124mf\u001b[39m\u001b[38;5;124m'\u001b[39m\u001b[38;5;124mCould not find the ligand anchors for \u001b[39m\u001b[38;5;132;01m{\u001b[39;00m\u001b[38;5;28mself\u001b[39m\u001b[38;5;241m.\u001b[39mpose_name\u001b[38;5;132;01m}\u001b[39;00m\u001b[38;5;124m.\u001b[39m\u001b[38;5;124m'\u001b[39m)\n",
      "File \u001b[0;32m/oak/stanford/groups/rondror/users/yuzhuang/software/batter/batter/builder.py:439\u001b[0m, in \u001b[0;36mEquilibrationBuilder._build_complex\u001b[0;34m(self)\u001b[0m\n\u001b[1;32m    435\u001b[0m     u\u001b[38;5;241m.\u001b[39matoms\u001b[38;5;241m.\u001b[39mresidues\u001b[38;5;241m.\u001b[39mresids \u001b[38;5;241m=\u001b[39m revised_resids\n\u001b[1;32m    437\u001b[0m     u\u001b[38;5;241m.\u001b[39matoms\u001b[38;5;241m.\u001b[39mwrite(\u001b[38;5;124m'\u001b[39m\u001b[38;5;124maligned_amber.pdb\u001b[39m\u001b[38;5;124m'\u001b[39m)\n\u001b[0;32m--> 439\u001b[0m \u001b[43mrun_with_log\u001b[49m\u001b[43m(\u001b[49m\u001b[38;5;124;43m'\u001b[39;49m\u001b[38;5;124;43mvmd -dispdev text -e prep.tcl\u001b[39;49m\u001b[38;5;124;43m'\u001b[39;49m\u001b[43m,\u001b[49m\u001b[43m \u001b[49m\u001b[43merror_match\u001b[49m\u001b[38;5;241;43m=\u001b[39;49m\u001b[38;5;124;43m'\u001b[39;49m\u001b[38;5;124;43manchor not found\u001b[39;49m\u001b[38;5;124;43m'\u001b[39;49m\u001b[43m)\u001b[49m\n\u001b[1;32m    441\u001b[0m \u001b[38;5;66;03m# Check size of anchor file\u001b[39;00m\n\u001b[1;32m    442\u001b[0m anchor_file \u001b[38;5;241m=\u001b[39m \u001b[38;5;124m'\u001b[39m\u001b[38;5;124manchors.txt\u001b[39m\u001b[38;5;124m'\u001b[39m\n",
      "File \u001b[0;32m/oak/stanford/groups/rondror/users/yuzhuang/software/batter/batter/utils/utils.py:83\u001b[0m, in \u001b[0;36mrun_with_log\u001b[0;34m(command, level, working_dir, error_match)\u001b[0m\n\u001b[1;32m     81\u001b[0m         logger\u001b[38;5;241m.\u001b[39minfo(\u001b[38;5;124mf\u001b[39m\u001b[38;5;124m\"\u001b[39m\u001b[38;5;124mCommand output: \u001b[39m\u001b[38;5;132;01m{\u001b[39;00mresult\u001b[38;5;241m.\u001b[39mstdout\u001b[38;5;132;01m}\u001b[39;00m\u001b[38;5;124m\"\u001b[39m)\n\u001b[1;32m     82\u001b[0m         logger\u001b[38;5;241m.\u001b[39minfo(\u001b[38;5;124mf\u001b[39m\u001b[38;5;124m\"\u001b[39m\u001b[38;5;124mCommand errors: \u001b[39m\u001b[38;5;132;01m{\u001b[39;00mresult\u001b[38;5;241m.\u001b[39mstderr\u001b[38;5;132;01m}\u001b[39;00m\u001b[38;5;124m\"\u001b[39m)\n\u001b[0;32m---> 83\u001b[0m         \u001b[38;5;28;01mraise\u001b[39;00m sp\u001b[38;5;241m.\u001b[39mCalledProcessError(\n\u001b[1;32m     84\u001b[0m             returncode\u001b[38;5;241m=\u001b[39m\u001b[38;5;241m1\u001b[39m,\n\u001b[1;32m     85\u001b[0m             cmd\u001b[38;5;241m=\u001b[39mcommand,\n\u001b[1;32m     86\u001b[0m             output\u001b[38;5;241m=\u001b[39mresult\u001b[38;5;241m.\u001b[39mstdout,\n\u001b[1;32m     87\u001b[0m             stderr\u001b[38;5;241m=\u001b[39mresult\u001b[38;5;241m.\u001b[39mstderr\n\u001b[1;32m     88\u001b[0m         )\n\u001b[1;32m     90\u001b[0m \u001b[38;5;66;03m# Log stdout and stderr line by line\u001b[39;00m\n\u001b[1;32m     91\u001b[0m \u001b[38;5;28;01mif\u001b[39;00m result\u001b[38;5;241m.\u001b[39mstdout:\n",
      "\u001b[0;31mCalledProcessError\u001b[0m: Command 'vmd -dispdev text -e prep.tcl' returned non-zero exit status 1."
     ]
    }
   ],
   "source": [
    "# Prepare the system for the equilibration stage\n",
    "test_system.prepare(\n",
    "    stage='equil',\n",
    "#    input_file='data/md_input/lipid.in',\n",
    "    input_file=sim_config,\n",
    "    overwrite=True,\n",
    ")"
   ]
  },
  {
   "cell_type": "code",
   "execution_count": 7,
   "metadata": {},
   "outputs": [],
   "source": [
    "# Submit the equilibration job to SLURM\n",
    "# test_system.submit(stage='equil')"
   ]
  },
  {
   "cell_type": "code",
   "execution_count": 8,
   "metadata": {},
   "outputs": [
    {
     "name": "stderr",
     "output_type": "stream",
     "text": [
      "16-Dec-2024 12:55:17 | INFO | Preparing the system\n",
      "16-Dec-2024 12:55:17 | INFO | Simulation configuration: software='amber' calc_type='dock' celpp_receptor='7T2G' poses_list=['0'] p1=':147@CA' p2=':117@CA' p3=':326@CA' ligand_list=[] other_mol=[] solv_shell=4.0 lipid_mol=['POPC', 'PA', 'PC', 'OL'] fe_type='express' components=['m', 'n', 'e', 'v'] release_eq=[10.0, 2.5, 0.5, 0.0] attach_rest=[0.0, 0.1, 0.24, 0.56, 1.33, 3.16, 7.5, 10.5, 17.78, 20.0, 42.17, 50.0, 60.0, 75.0, 80.0, 100.0] ti_points=0 lambdas=[0.0001, 0.02, 0.04, 0.06, 0.1, 0.15, 0.2, 0.25, 0.3, 0.35, 0.4, 0.45, 0.5, 0.55, 0.6, 0.65, 0.7, 0.75, 0.8, 0.85, 0.92, 0.96, 0.98, 0.9999] sdr_dist=40.0 dec_method='sdr' dec_int='mbar' blocks=5 rec_dihcf_force=50.0 rec_discf_force=5.0 lig_distance_force=5.0 lig_angle_force=250.0 lig_dihcf_force=70.0 rec_com_force=10.0 lig_com_force=10.0 water_model='TIP3P' num_waters=0 buffer_x=12.0 buffer_y=12.0 buffer_z=22.0 lig_buffer=15.0 neutralize_only='no' cation='Na+' anion='Cl-' ion_conc=0.15 hmr='yes' temperature=310.0 eq_steps1=100000 eq_steps2=5000000 n_steps_dict={'a_steps1': 100000, 'a_steps2': 200000, 'l_steps1': 100000, 'l_steps2': 200000, 't_steps1': 100000, 't_steps2': 200000, 'm_steps1': 100000, 'm_steps2': 200000, 'n_steps1': 100000, 'n_steps2': 200000, 'c_steps1': 100000, 'c_steps2': 200000, 'r_steps1': 100000, 'r_steps2': 200000, 'e_steps1': 200000, 'e_steps2': 400000, 'v_steps1': 400000, 'v_steps2': 600000, 'f_steps1': 100000, 'f_steps2': 200000, 'w_steps1': 100000, 'w_steps2': 200000, 'x_steps1': 0, 'x_steps2': 0} n_iter_dict={'a_itera1': 0, 'a_itera2': 0, 'l_itera1': 0, 'l_itera2': 0, 't_itera1': 0, 't_itera2': 0, 'm_itera1': 0, 'm_itera2': 0, 'n_itera1': 0, 'n_itera2': 0, 'c_itera1': 0, 'c_itera2': 0, 'r_itera1': 0, 'r_itera2': 0, 'e_itera1': 0, 'e_itera2': 0, 'v_itera1': 0, 'v_itera2': 0, 'f_itera1': 0, 'f_itera2': 0, 'w_itera1': 0, 'w_itera2': 0, 'x_itera1': 0, 'x_itera2': 0} rec_bb='no' bb_start=[1] bb_end=[0] bb_equil='no' l1_x=2.1 l1_y=-6.8 l1_z=3.9 l1_range=2.5 min_adis=3.0 max_adis=7.0 dlambda=0.001 ntpr='1000' ntwr='10000' ntwe='0' ntwx='2500' cut='9.0' gamma_ln='1.0' barostat='2' dt='0.004' itcheck='100' receptor_ff='protein.ff14SB' ligand_ff='gaff2' ligand_ph=7.0 retain_lig_prot='yes' ligand_charge=1 lipid_ff='lipid21' weights=[] mols=[] rng=3 ion_def=['Na+', 'Cl-', 0.15] poses_def=['pose0'] dic_steps1={'a': 100000, 'l': 100000, 't': 100000, 'm': 100000, 'n': 100000, 'c': 100000, 'r': 100000, 'e': 200000, 'v': 400000, 'f': 100000, 'w': 100000, 'x': 0} dic_steps2={'a': 200000, 'l': 200000, 't': 200000, 'm': 200000, 'n': 200000, 'c': 200000, 'r': 200000, 'e': 400000, 'v': 600000, 'f': 200000, 'w': 200000, 'x': 0} dic_itera1={'a': 0, 'l': 0, 't': 0, 'm': 0, 'n': 0, 'c': 0, 'r': 0, 'e': 0, 'v': 0, 'f': 0, 'w': 0, 'x': 0} dic_itera2={'a': 0, 'l': 0, 't': 0, 'm': 0, 'n': 0, 'c': 0, 'r': 0, 'e': 0, 'v': 0, 'f': 0, 'w': 0, 'x': 0} H1=':147@CA' H2=':117@CA' H3=':326@CA' rest=[50.0, 5.0, 5.0, 250.0, 70.0, 10.0, 10.0] celp_st='7T2G' neut='no' apr_sim=2\n"
     ]
    },
    {
     "ename": "FileNotFoundError",
     "evalue": "Equilibration not finished yet. First run the equilibration.",
     "output_type": "error",
     "traceback": [
      "\u001b[0;31m---------------------------------------------------------------------------\u001b[0m",
      "\u001b[0;31mFileNotFoundError\u001b[0m                         Traceback (most recent call last)",
      "Cell \u001b[0;32mIn[8], line 2\u001b[0m\n\u001b[1;32m      1\u001b[0m \u001b[38;5;66;03m# Prepare the system for the free energy calculation\u001b[39;00m\n\u001b[0;32m----> 2\u001b[0m \u001b[43mtest_system\u001b[49m\u001b[38;5;241;43m.\u001b[39;49m\u001b[43mprepare\u001b[49m\u001b[43m(\u001b[49m\n\u001b[1;32m      3\u001b[0m \u001b[43m    \u001b[49m\u001b[43mstage\u001b[49m\u001b[38;5;241;43m=\u001b[39;49m\u001b[38;5;124;43m'\u001b[39;49m\u001b[38;5;124;43mfe\u001b[39;49m\u001b[38;5;124;43m'\u001b[39;49m\u001b[43m,\u001b[49m\n\u001b[1;32m      4\u001b[0m \u001b[38;5;66;43;03m#    input_file='data/md_input/lipid.in',\u001b[39;49;00m\n\u001b[1;32m      5\u001b[0m \u001b[43m    \u001b[49m\u001b[43minput_file\u001b[49m\u001b[38;5;241;43m=\u001b[39;49m\u001b[43msim_config\u001b[49m\u001b[43m,\u001b[49m\n\u001b[1;32m      6\u001b[0m \u001b[38;5;66;43;03m#    overwrite=True,\u001b[39;49;00m\n\u001b[1;32m      7\u001b[0m \u001b[43m)\u001b[49m\n",
      "File \u001b[0;32m/oak/stanford/groups/rondror/users/yuzhuang/software/batter/batter/batter.py:585\u001b[0m, in \u001b[0;36mSystem.prepare\u001b[0;34m(self, stage, input_file, overwrite)\u001b[0m\n\u001b[1;32m    582\u001b[0m     \u001b[38;5;28;01mraise\u001b[39;00m \u001b[38;5;167;01mFileNotFoundError\u001b[39;00m(\u001b[38;5;124mf\u001b[39m\u001b[38;5;124m\"\u001b[39m\u001b[38;5;124mEquilibration not generated yet. Run prepare(\u001b[39m\u001b[38;5;124m'\u001b[39m\u001b[38;5;124mequil\u001b[39m\u001b[38;5;124m'\u001b[39m\u001b[38;5;124m) first.\u001b[39m\u001b[38;5;124m\"\u001b[39m)\n\u001b[1;32m    584\u001b[0m \u001b[38;5;28;01mif\u001b[39;00m \u001b[38;5;129;01mnot\u001b[39;00m os\u001b[38;5;241m.\u001b[39mpath\u001b[38;5;241m.\u001b[39mexists(\u001b[38;5;124mf\u001b[39m\u001b[38;5;124m\"\u001b[39m\u001b[38;5;132;01m{\u001b[39;00m\u001b[38;5;28mself\u001b[39m\u001b[38;5;241m.\u001b[39mequil_folder\u001b[38;5;132;01m}\u001b[39;00m\u001b[38;5;124m/\u001b[39m\u001b[38;5;132;01m{\u001b[39;00m\u001b[38;5;28mself\u001b[39m\u001b[38;5;241m.\u001b[39msim_config\u001b[38;5;241m.\u001b[39mposes_def[\u001b[38;5;241m0\u001b[39m]\u001b[38;5;132;01m}\u001b[39;00m\u001b[38;5;124m/md03.rst7\u001b[39m\u001b[38;5;124m\"\u001b[39m):\n\u001b[0;32m--> 585\u001b[0m     \u001b[38;5;28;01mraise\u001b[39;00m \u001b[38;5;167;01mFileNotFoundError\u001b[39;00m(\u001b[38;5;124mf\u001b[39m\u001b[38;5;124m\"\u001b[39m\u001b[38;5;124mEquilibration not finished yet. First run the equilibration.\u001b[39m\u001b[38;5;124m\"\u001b[39m)\n\u001b[1;32m    587\u001b[0m sim_config_eq \u001b[38;5;241m=\u001b[39m json\u001b[38;5;241m.\u001b[39mload(\u001b[38;5;28mopen\u001b[39m(\u001b[38;5;124mf\u001b[39m\u001b[38;5;124m\"\u001b[39m\u001b[38;5;132;01m{\u001b[39;00m\u001b[38;5;28mself\u001b[39m\u001b[38;5;241m.\u001b[39mequil_folder\u001b[38;5;132;01m}\u001b[39;00m\u001b[38;5;124m/sim_config.json\u001b[39m\u001b[38;5;124m\"\u001b[39m))\n\u001b[1;32m    588\u001b[0m \u001b[38;5;28;01mif\u001b[39;00m sim_config_eq \u001b[38;5;241m!=\u001b[39m sim_config\u001b[38;5;241m.\u001b[39mmodel_dump():\n\u001b[1;32m    589\u001b[0m \u001b[38;5;66;03m# raise ValueError(f\"Equilibration and free energy simulation configurations are different\")\u001b[39;00m\n",
      "\u001b[0;31mFileNotFoundError\u001b[0m: Equilibration not finished yet. First run the equilibration."
     ]
    }
   ],
   "source": [
    "# Prepare the system for the free energy calculation\n",
    "test_system.prepare(\n",
    "    stage='fe',\n",
    "#    input_file='data/md_input/lipid.in',\n",
    "    input_file=sim_config,\n",
    "#    overwrite=True,\n",
    ")"
   ]
  },
  {
   "cell_type": "code",
   "execution_count": null,
   "metadata": {},
   "outputs": [],
   "source": []
  },
  {
   "cell_type": "code",
   "execution_count": 22,
   "metadata": {},
   "outputs": [],
   "source": [
    "import MDAnalysis as mda\n",
    "u = mda.Universe('./data/7T2G_mp/ligand_DAMGO.pdb')"
   ]
  },
  {
   "cell_type": "code",
   "execution_count": 23,
   "metadata": {},
   "outputs": [],
   "source": [
    "from MDAnalysis.guesser.default_guesser import DefaultGuesser"
   ]
  },
  {
   "cell_type": "code",
   "execution_count": 24,
   "metadata": {},
   "outputs": [],
   "source": [
    "u.guess_TopologyAttrs(to_guess=['elements'])"
   ]
  },
  {
   "cell_type": "code",
   "execution_count": 25,
   "metadata": {},
   "outputs": [],
   "source": [
    "u.add_TopologyAttr('charges')"
   ]
  },
  {
   "cell_type": "code",
   "execution_count": 26,
   "metadata": {},
   "outputs": [],
   "source": [
    "u.atoms.charges = DefaultGuesser(u).guess_gasteiger_charges(u.atoms)"
   ]
  },
  {
   "cell_type": "code",
   "execution_count": 5,
   "metadata": {},
   "outputs": [
    {
     "ename": "NameError",
     "evalue": "name 'u' is not defined",
     "output_type": "error",
     "traceback": [
      "\u001b[0;31m---------------------------------------------------------------------------\u001b[0m",
      "\u001b[0;31mNameError\u001b[0m                                 Traceback (most recent call last)",
      "Cell \u001b[0;32mIn[5], line 1\u001b[0m\n\u001b[0;32m----> 1\u001b[0m \u001b[43mu\u001b[49m\u001b[38;5;241m.\u001b[39matoms\u001b[38;5;241m.\u001b[39mcharges\u001b[38;5;241m.\u001b[39msum()\n",
      "\u001b[0;31mNameError\u001b[0m: name 'u' is not defined"
     ]
    }
   ],
   "source": [
    "u.atoms.charges.sum()"
   ]
  },
  {
   "cell_type": "code",
   "execution_count": null,
   "metadata": {},
   "outputs": [],
   "source": []
  }
 ],
 "metadata": {
  "kernelspec": {
   "display_name": "test",
   "language": "python",
   "name": "python3"
  },
  "language_info": {
   "codemirror_mode": {
    "name": "ipython",
    "version": 3
   },
   "file_extension": ".py",
   "mimetype": "text/x-python",
   "name": "python",
   "nbconvert_exporter": "python",
   "pygments_lexer": "ipython3",
   "version": "3.11.0"
  }
 },
 "nbformat": 4,
 "nbformat_minor": 2
}
