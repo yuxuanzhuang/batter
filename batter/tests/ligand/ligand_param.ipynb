{
 "cells": [
  {
   "cell_type": "code",
   "execution_count": 1,
   "metadata": {},
   "outputs": [],
   "source": [
    "from openff.toolkit.typing.engines.smirnoff.forcefield import get_available_force_fields"
   ]
  },
  {
   "cell_type": "code",
   "execution_count": 2,
   "metadata": {},
   "outputs": [
    {
     "name": "stderr",
     "output_type": "stream",
     "text": [
      "/scratch/users/yuzhuang/miniforge3_0507/envs/batter/lib/python3.12/site-packages/smirnoff99frosst/smirnoff99frosst.py:11: UserWarning: pkg_resources is deprecated as an API. See https://setuptools.pypa.io/en/latest/pkg_resources.html. The pkg_resources package is slated for removal as early as 2025-11-30. Refrain from using this package or pin to Setuptools<81.\n",
      "  from pkg_resources import resource_filename\n"
     ]
    },
    {
     "data": {
      "text/plain": [
       "['openff_unconstrained-1.0.0.offxml',\n",
       " 'tip4p_ew.offxml',\n",
       " 'openff_unconstrained-2.0.0-rc.1.offxml',\n",
       " 'openff-1.0.0-RC1.offxml',\n",
       " 'tip3p-1.0.1.offxml',\n",
       " 'tip3p.offxml',\n",
       " 'opc-1.0.2.offxml',\n",
       " 'openff_unconstrained-1.0.1.offxml',\n",
       " 'openff_unconstrained-1.3.1-alpha.1.offxml',\n",
       " 'spce-1.0.0.offxml',\n",
       " 'openff-2.0.0.offxml',\n",
       " 'tip4p_fb-1.0.0.offxml',\n",
       " 'tip5p-1.0.0.offxml',\n",
       " 'openff_unconstrained-2.0.0-rc.2.offxml',\n",
       " 'openff-1.0.1.offxml',\n",
       " 'openff-2.2.0.offxml',\n",
       " 'opc3-1.0.1.offxml',\n",
       " 'openff_unconstrained-1.1.1.offxml',\n",
       " 'openff_unconstrained-2.2.1-rc1.offxml',\n",
       " 'tip4p_ew-1.0.0.offxml',\n",
       " 'openff_unconstrained-2.1.0-rc.1.offxml',\n",
       " 'openff_unconstrained-1.2.1.offxml',\n",
       " 'openff-2.2.1.offxml',\n",
       " 'tip3p-1.0.0.offxml',\n",
       " 'opc-1.0.1.offxml',\n",
       " 'tip3p_fb.offxml',\n",
       " 'openff_unconstrained-1.1.0.offxml',\n",
       " 'openff_unconstrained-2.2.0.offxml',\n",
       " 'openff_unconstrained-2.2.1.offxml',\n",
       " 'openff-2.0.0-rc.1.offxml',\n",
       " 'openff-1.3.0.offxml',\n",
       " 'openff_unconstrained-1.2.0.offxml',\n",
       " 'tip3p_fb-1.1.0.offxml',\n",
       " 'openff_unconstrained-1.0.0-RC2.offxml',\n",
       " 'openff_unconstrained-2.2.0-rc1.offxml',\n",
       " 'openff-2.0.0-rc.2.offxml',\n",
       " 'openff-1.2.0.offxml',\n",
       " 'tip3p_fb-1.0.0.offxml',\n",
       " 'openff_unconstrained-1.0.0-RC1.offxml',\n",
       " 'openff-1.0.0.offxml',\n",
       " 'openff-1.3.1.offxml',\n",
       " 'openff_unconstrained-2.0.0.offxml',\n",
       " 'tip4p_fb-1.0.1.offxml',\n",
       " 'tip4p_fb.offxml',\n",
       " 'opc.offxml',\n",
       " 'openff-1.1.1.offxml',\n",
       " 'openff-2.1.0-rc.1.offxml',\n",
       " 'tip5p.offxml',\n",
       " 'openff-2.1.0.offxml',\n",
       " 'spce.offxml',\n",
       " 'opc3.offxml',\n",
       " 'openff_unconstrained-2.1.1.offxml',\n",
       " 'opc-1.0.0.offxml',\n",
       " 'opc3-1.0.0.offxml',\n",
       " 'openff-1.3.1-alpha.1.offxml',\n",
       " 'openff-2.2.1-rc1.offxml',\n",
       " 'openff_unconstrained-2.1.0.offxml',\n",
       " 'openff_unconstrained-1.3.1.offxml',\n",
       " 'openff-2.2.0-rc1.offxml',\n",
       " 'openff-1.2.1.offxml',\n",
       " 'tip3p_fb-1.1.1.offxml',\n",
       " 'openff_unconstrained-1.3.0.offxml',\n",
       " 'openff-2.1.1.offxml',\n",
       " 'openff-1.0.0-RC2.offxml',\n",
       " 'openff-1.1.0.offxml',\n",
       " 'smirnoff99Frosst-1.0.7.offxml',\n",
       " 'smirnoff99Frosst-1.0.9.offxml',\n",
       " 'smirnoff99Frosst-1.1.0.offxml',\n",
       " 'smirnoff99Frosst-1.0.5.offxml',\n",
       " 'smirnoff99Frosst-1.0.6.offxml',\n",
       " 'smirnoff99Frosst-1.0.2.offxml',\n",
       " 'smirnoff99Frosst-1.0.1.offxml',\n",
       " 'smirnoff99Frosst-1.0.8.offxml',\n",
       " 'smirnoff99Frosst-1.0.0.offxml',\n",
       " 'smirnoff99Frosst-1.0.3.offxml',\n",
       " 'smirnoff99Frosst-1.0.4.offxml',\n",
       " 'ff14sb_off_impropers_0.0.2.offxml',\n",
       " 'ff14sb_0.0.3.offxml',\n",
       " 'ff14sb_off_impropers_0.0.4.offxml',\n",
       " 'ff14sb_0.0.1.offxml',\n",
       " 'ff14sb_0.0.4.offxml',\n",
       " 'ff14sb_off_impropers_0.0.1.offxml',\n",
       " 'ff14sb_off_impropers_0.0.3.offxml',\n",
       " 'ff14sb_0.0.2.offxml']"
      ]
     },
     "execution_count": 2,
     "metadata": {},
     "output_type": "execute_result"
    }
   ],
   "source": [
    "get_available_force_fields()"
   ]
  },
  {
   "cell_type": "code",
   "execution_count": 9,
   "metadata": {},
   "outputs": [],
   "source": [
    "from batter.ligand_process import LigandFactory"
   ]
  },
  {
   "cell_type": "code",
   "execution_count": 10,
   "metadata": {},
   "outputs": [],
   "source": [
    "ligand_path = 'combine_top/g1i.sdf'\n",
    "ind = 0\n",
    "ligandff_folder = 'test_ligandff'\n",
    "ligand_name = 'g1i'\n",
    "retain_lig_prot = True\n",
    "ligand_ff = 'gaff2'"
   ]
  },
  {
   "cell_type": "code",
   "execution_count": 11,
   "metadata": {},
   "outputs": [],
   "source": [
    "ligand_factory = LigandFactory()\n",
    "ligand = ligand_factory.create_ligand(\n",
    "        ligand_file=ligand_path,\n",
    "        index=ind,\n",
    "        output_dir=ligandff_folder,\n",
    "        ligand_name=ligand_name,\n",
    "        retain_lig_prot=retain_lig_prot,\n",
    "        ligand_ff=ligand_ff\n",
    ")"
   ]
  },
  {
   "cell_type": "code",
   "execution_count": 12,
   "metadata": {},
   "outputs": [
    {
     "name": "stderr",
     "output_type": "stream",
     "text": [
      "INFO | \u001b[1mThe net charge of the ligand g1i in combine_top/g1i.sdf is 1.0\u001b[0m \n",
      "INFO | \u001b[1mLigand g1i parameters prepared: /oak/stanford/groups/rondror/users/yuzhuang/software/batter/batter/tests/ligand/test_ligandff/g1i.lib\u001b[0m \n"
     ]
    }
   ],
   "source": [
    "ligand.prepare_ligand_parameters()"
   ]
  },
  {
   "cell_type": "code",
   "execution_count": 13,
   "metadata": {},
   "outputs": [],
   "source": [
    "from openff.toolkit import ForceField, Molecule, Topology\n",
    "from openfe import SmallMoleculeComponent\n",
    "\n",
    "sage_ff14sb = ForceField(\"openff-2.2.0.offxml\", \"ff14sb_off_impropers_0.0.4.offxml\")"
   ]
  },
  {
   "cell_type": "code",
   "execution_count": 14,
   "metadata": {},
   "outputs": [
    {
     "data": {
      "text/plain": [
       "0"
      ]
     },
     "execution_count": 14,
     "metadata": {},
     "output_type": "execute_result"
    }
   ],
   "source": [
    "topology = Topology()\n",
    "topology.add_molecule(ligand.openff_molecule)"
   ]
  },
  {
   "cell_type": "code",
   "execution_count": 17,
   "metadata": {},
   "outputs": [],
   "source": [
    "import openmm"
   ]
  },
  {
   "cell_type": "code",
   "execution_count": 18,
   "metadata": {},
   "outputs": [
    {
     "name": "stdout",
     "output_type": "stream",
     "text": [
      "I see 31 atoms.\n",
      "I see 112 mixed proper and improper dihedrals.\n",
      "I see 57 angles.\n",
      "I see 16 bonds.\n"
     ]
    }
   ],
   "source": [
    "system = sage_ff14sb.create_openmm_system(topology)\n",
    "\n",
    "print(f\"I see {system.getNumParticles()} atoms.\")\n",
    "\n",
    "for force in system.getForces():\n",
    "    if isinstance(force, openmm.openmm.HarmonicBondForce):\n",
    "        print(f\"I see {force.getNumBonds()} bonds.\")\n",
    "    if isinstance(force, openmm.openmm.HarmonicAngleForce):\n",
    "        print(f\"I see {force.getNumAngles()} angles.\")\n",
    "    if isinstance(force, openmm.openmm.PeriodicTorsionForce):\n",
    "        print(f\"I see {force.getNumTorsions()} mixed proper and improper dihedrals.\")"
   ]
  },
  {
   "cell_type": "code",
   "execution_count": 21,
   "metadata": {},
   "outputs": [],
   "source": [
    "parmed_structure = pmd.openmm.load_topology(topology.to_openmm(), system)"
   ]
  },
  {
   "cell_type": "code",
   "execution_count": 22,
   "metadata": {},
   "outputs": [
    {
     "name": "stdout",
     "output_type": "stream",
     "text": [
      "I see 31 atoms.\n",
      "I see 32 bonds.\n",
      "I see 57 angles.\n",
      "I see 112 mixed proper and improper dihedrals.\n"
     ]
    }
   ],
   "source": [
    "print(f\"I see {len(parmed_structure.atoms)} atoms.\")\n",
    "\n",
    "\n",
    "print(f\"I see {len(parmed_structure.bonds)} bonds.\")\n",
    "print(f\"I see {len(parmed_structure.angles)} angles.\")\n",
    "print(f\"I see {len(parmed_structure.dihedrals)} mixed proper and improper dihedrals.\")"
   ]
  },
  {
   "cell_type": "code",
   "execution_count": 23,
   "metadata": {},
   "outputs": [
    {
     "data": {
      "text/plain": [
       "TrackedList([\n",
       "])"
      ]
     },
     "execution_count": 23,
     "metadata": {},
     "output_type": "execute_result"
    }
   ],
   "source": [
    "parmed_structure.improper_types"
   ]
  },
  {
   "cell_type": "code",
   "execution_count": 26,
   "metadata": {},
   "outputs": [
    {
     "ename": "ValueError",
     "evalue": "Cannot write PDB file with no coordinates",
     "output_type": "error",
     "traceback": [
      "\u001b[31m---------------------------------------------------------------------------\u001b[39m",
      "\u001b[31mValueError\u001b[39m                                Traceback (most recent call last)",
      "\u001b[36mCell\u001b[39m\u001b[36m \u001b[39m\u001b[32mIn[26]\u001b[39m\u001b[32m, line 1\u001b[39m\n\u001b[32m----> \u001b[39m\u001b[32m1\u001b[39m \u001b[43mparmed_structure\u001b[49m\u001b[43m.\u001b[49m\u001b[43msave\u001b[49m\u001b[43m(\u001b[49m\u001b[33;43m'\u001b[39;49m\u001b[33;43mtest_ligand.pdb\u001b[39;49m\u001b[33;43m'\u001b[39;49m\u001b[43m)\u001b[49m\n",
      "\u001b[36mFile \u001b[39m\u001b[32m/scratch/users/yuzhuang/miniforge3_0507/envs/batter/lib/python3.12/site-packages/parmed/structure.py:1531\u001b[39m, in \u001b[36mStructure.save\u001b[39m\u001b[34m(self, fname, format, overwrite, **kwargs)\u001b[39m\n\u001b[32m   1529\u001b[39m \u001b[38;5;66;03m# Dispatch\u001b[39;00m\n\u001b[32m   1530\u001b[39m \u001b[38;5;28;01mif\u001b[39;00m \u001b[38;5;28mformat\u001b[39m == \u001b[33m'\u001b[39m\u001b[33mPDB\u001b[39m\u001b[33m'\u001b[39m:\n\u001b[32m-> \u001b[39m\u001b[32m1531\u001b[39m     \u001b[38;5;28;43mself\u001b[39;49m\u001b[43m.\u001b[49m\u001b[43mwrite_pdb\u001b[49m\u001b[43m(\u001b[49m\u001b[43mfname\u001b[49m\u001b[43m,\u001b[49m\u001b[43m \u001b[49m\u001b[43m*\u001b[49m\u001b[43m*\u001b[49m\u001b[43mkwargs\u001b[49m\u001b[43m)\u001b[49m\n\u001b[32m   1532\u001b[39m \u001b[38;5;28;01melif\u001b[39;00m \u001b[38;5;28mformat\u001b[39m == \u001b[33m'\u001b[39m\u001b[33mCIF\u001b[39m\u001b[33m'\u001b[39m:\n\u001b[32m   1533\u001b[39m     \u001b[38;5;28mself\u001b[39m.write_cif(fname, **kwargs)\n",
      "\u001b[36mFile \u001b[39m\u001b[32m/scratch/users/yuzhuang/miniforge3_0507/envs/batter/lib/python3.12/site-packages/parmed/formats/pdb.py:982\u001b[39m, in \u001b[36mPDBFile.write\u001b[39m\u001b[34m(struct, dest, renumber, coordinates, altlocs, write_anisou, charmm, use_hetatoms, standard_resnames, increase_tercount, write_links)\u001b[39m\n\u001b[32m    980\u001b[39m     coords = struct.get_coordinates(\u001b[33m'\u001b[39m\u001b[33mall\u001b[39m\u001b[33m'\u001b[39m)\n\u001b[32m    981\u001b[39m     \u001b[38;5;28;01mif\u001b[39;00m coords \u001b[38;5;129;01mis\u001b[39;00m \u001b[38;5;28;01mNone\u001b[39;00m:\n\u001b[32m--> \u001b[39m\u001b[32m982\u001b[39m         \u001b[38;5;28;01mraise\u001b[39;00m \u001b[38;5;167;01mValueError\u001b[39;00m(\u001b[33m'\u001b[39m\u001b[33mCannot write PDB file with no coordinates\u001b[39m\u001b[33m'\u001b[39m)\n\u001b[32m    983\u001b[39m \u001b[38;5;66;03m# Create a function to process each atom and return which one we want\u001b[39;00m\n\u001b[32m    984\u001b[39m \u001b[38;5;66;03m# to print, based on our alternate location choice\u001b[39;00m\n\u001b[32m    985\u001b[39m \u001b[38;5;28;01mif\u001b[39;00m altlocs == \u001b[33m'\u001b[39m\u001b[33mall\u001b[39m\u001b[33m'\u001b[39m:\n",
      "\u001b[31mValueError\u001b[39m: Cannot write PDB file with no coordinates"
     ]
    }
   ],
   "source": [
    "parmed_structure.save('test_ligand.pdb')"
   ]
  },
  {
   "cell_type": "code",
   "execution_count": null,
   "metadata": {},
   "outputs": [],
   "source": [
    "for old_atom, new_atom in zip(ligand_res.atoms, new_ligand_res.atoms):\n",
    "    old_atom.name = new_atom.name  # optional\n",
    "    old_atom.type = new_atom.type\n",
    "    old_atom.atomic_number = new_atom.atomic_number\n",
    "    old_atom.charge = new_atom.charge\n",
    "    old_atom.mass = new_atom.mass\n",
    "    old_atom.rmin = new_atom.rmin\n",
    "    old_atom.epsilon = new_atom.epsilon\n",
    "    old_atom.rmin14 = new_atom.rmin14\n",
    "    old_atom.epsilon14 = new_atom.epsilon14"
   ]
  },
  {
   "cell_type": "code",
   "execution_count": 12,
   "metadata": {},
   "outputs": [],
   "source": [
    "interchange = sage_ff14sb.create_interchange(topology)"
   ]
  },
  {
   "cell_type": "code",
   "execution_count": 15,
   "metadata": {},
   "outputs": [],
   "source": [
    "interchange.to_prmtop(f\"combine_top/g1i.prmtop\")"
   ]
  },
  {
   "cell_type": "code",
   "execution_count": 39,
   "metadata": {},
   "outputs": [],
   "source": [
    "from openff.interchange.drivers import get_amber_energies, get_openmm_energies"
   ]
  },
  {
   "cell_type": "code",
   "execution_count": 41,
   "metadata": {},
   "outputs": [
    {
     "name": "stdout",
     "output_type": "stream",
     "text": [
      "{'Bond': <Quantity(32.5903839, 'kilojoule / mole')>, 'Angle': <Quantity(87.4273526, 'kilojoule / mole')>, 'Torsion': <Quantity(26.8279295, 'kilojoule / mole')>, 'Nonbonded': <Quantity(218.72762, 'kilojoule / mole')>}\n"
     ]
    }
   ],
   "source": [
    "openmm_energies = get_openmm_energies(interchange)\n",
    "print(openmm_energies.energies)"
   ]
  },
  {
   "cell_type": "code",
   "execution_count": 42,
   "metadata": {},
   "outputs": [
    {
     "ename": "UnsupportedExportError",
     "evalue": "vdW method no-cutoff not supported",
     "output_type": "error",
     "traceback": [
      "\u001b[31m---------------------------------------------------------------------------\u001b[39m",
      "\u001b[31mUnsupportedExportError\u001b[39m                    Traceback (most recent call last)",
      "\u001b[36mCell\u001b[39m\u001b[36m \u001b[39m\u001b[32mIn[42]\u001b[39m\u001b[32m, line 1\u001b[39m\n\u001b[32m----> \u001b[39m\u001b[32m1\u001b[39m amber_energies = \u001b[43mget_amber_energies\u001b[49m\u001b[43m(\u001b[49m\u001b[43minterchange\u001b[49m\u001b[43m)\u001b[49m\n\u001b[32m      2\u001b[39m \u001b[38;5;28mprint\u001b[39m(amber_energies.energies)\n",
      "\u001b[36mFile \u001b[39m\u001b[32m/scratch/users/yuzhuang/miniforge3_0507/envs/openfe_env/lib/python3.12/site-packages/openff/interchange/drivers/amber.py:48\u001b[39m, in \u001b[36mget_amber_energies\u001b[39m\u001b[34m(interchange, writer, detailed)\u001b[39m\n\u001b[32m     22\u001b[39m \u001b[38;5;28;01mdef\u001b[39;00m\u001b[38;5;250m \u001b[39m\u001b[34mget_amber_energies\u001b[39m(\n\u001b[32m     23\u001b[39m     interchange: Interchange,\n\u001b[32m     24\u001b[39m     writer: \u001b[38;5;28mstr\u001b[39m = \u001b[33m\"\u001b[39m\u001b[33minternal\u001b[39m\u001b[33m\"\u001b[39m,\n\u001b[32m     25\u001b[39m     detailed: \u001b[38;5;28mbool\u001b[39m = \u001b[38;5;28;01mFalse\u001b[39;00m,\n\u001b[32m     26\u001b[39m ) -> EnergyReport:\n\u001b[32m     27\u001b[39m \u001b[38;5;250m    \u001b[39m\u001b[33;03m\"\"\"\u001b[39;00m\n\u001b[32m     28\u001b[39m \u001b[33;03m    Given an OpenFF Interchange object, return single-point energies as computed by Amber.\u001b[39;00m\n\u001b[32m     29\u001b[39m \n\u001b[32m   (...)\u001b[39m\u001b[32m     45\u001b[39m \n\u001b[32m     46\u001b[39m \u001b[33;03m    \"\"\"\u001b[39;00m\n\u001b[32m     47\u001b[39m     \u001b[38;5;28;01mreturn\u001b[39;00m _process(\n\u001b[32m---> \u001b[39m\u001b[32m48\u001b[39m         \u001b[43m_get_amber_energies\u001b[49m\u001b[43m(\u001b[49m\n\u001b[32m     49\u001b[39m \u001b[43m            \u001b[49m\u001b[43minterchange\u001b[49m\u001b[43m=\u001b[49m\u001b[43minterchange\u001b[49m\u001b[43m,\u001b[49m\n\u001b[32m     50\u001b[39m \u001b[43m            \u001b[49m\u001b[43mwriter\u001b[49m\u001b[43m=\u001b[49m\u001b[43mwriter\u001b[49m\u001b[43m,\u001b[49m\n\u001b[32m     51\u001b[39m \u001b[43m        \u001b[49m\u001b[43m)\u001b[49m,\n\u001b[32m     52\u001b[39m         detailed=\u001b[38;5;28;01mFalse\u001b[39;00m,\n\u001b[32m     53\u001b[39m     )\n",
      "\u001b[36mFile \u001b[39m\u001b[32m/scratch/users/yuzhuang/miniforge3_0507/envs/openfe_env/lib/python3.12/site-packages/openff/interchange/drivers/amber.py:73\u001b[39m, in \u001b[36m_get_amber_energies\u001b[39m\u001b[34m(interchange, writer)\u001b[39m\n\u001b[32m     70\u001b[39m     \u001b[38;5;28;01mraise\u001b[39;00m InvalidWriterError(\u001b[33mf\u001b[39m\u001b[33m\"\u001b[39m\u001b[33mUnsupported `writer` argument \u001b[39m\u001b[38;5;132;01m{\u001b[39;00mwriter\u001b[38;5;132;01m}\u001b[39;00m\u001b[33m\"\u001b[39m)\n\u001b[32m     72\u001b[39m mdconfig = MDConfig.from_interchange(interchange)\n\u001b[32m---> \u001b[39m\u001b[32m73\u001b[39m \u001b[43mmdconfig\u001b[49m\u001b[43m.\u001b[49m\u001b[43mwrite_sander_input_file\u001b[49m\u001b[43m(\u001b[49m\u001b[33;43m\"\u001b[39;49m\u001b[33;43mrun.in\u001b[39;49m\u001b[33;43m\"\u001b[39;49m\u001b[43m)\u001b[49m\n\u001b[32m     75\u001b[39m \u001b[38;5;28;01mreturn\u001b[39;00m _run_sander(\n\u001b[32m     76\u001b[39m     prmtop_file=\u001b[33m\"\u001b[39m\u001b[33mout.prmtop\u001b[39m\u001b[33m\"\u001b[39m,\n\u001b[32m     77\u001b[39m     inpcrd_file=\u001b[33m\"\u001b[39m\u001b[33mout.inpcrd\u001b[39m\u001b[33m\"\u001b[39m,\n\u001b[32m     78\u001b[39m     input_file=\u001b[33m\"\u001b[39m\u001b[33mrun.in\u001b[39m\u001b[33m\"\u001b[39m,\n\u001b[32m     79\u001b[39m )\n",
      "\u001b[36mFile \u001b[39m\u001b[32m/scratch/users/yuzhuang/miniforge3_0507/envs/openfe_env/lib/python3.12/site-packages/openff/interchange/components/mdconfig.py:428\u001b[39m, in \u001b[36mMDConfig.write_sander_input_file\u001b[39m\u001b[34m(self, input_file)\u001b[39m\n\u001b[32m    426\u001b[39m     sander.write(\u001b[33mf\u001b[39m\u001b[33m\"\u001b[39m\u001b[33mcut=\u001b[39m\u001b[38;5;132;01m{\u001b[39;00mvdw_cutoff\u001b[38;5;132;01m}\u001b[39;00m\u001b[33m,\u001b[39m\u001b[38;5;130;01m\\n\u001b[39;00m\u001b[33m\"\u001b[39m)\n\u001b[32m    427\u001b[39m \u001b[38;5;28;01melse\u001b[39;00m:\n\u001b[32m--> \u001b[39m\u001b[32m428\u001b[39m     \u001b[38;5;28;01mraise\u001b[39;00m UnsupportedExportError(\n\u001b[32m    429\u001b[39m         \u001b[33mf\u001b[39m\u001b[33m\"\u001b[39m\u001b[33mvdW method \u001b[39m\u001b[38;5;132;01m{\u001b[39;00m\u001b[38;5;28mself\u001b[39m.vdw_method\u001b[38;5;132;01m}\u001b[39;00m\u001b[33m not supported\u001b[39m\u001b[33m\"\u001b[39m,\n\u001b[32m    430\u001b[39m     )\n\u001b[32m    432\u001b[39m \u001b[38;5;28;01mif\u001b[39;00m \u001b[38;5;28mself\u001b[39m.coul_method == _PME:\n\u001b[32m    433\u001b[39m     sander.write(\u001b[33m\"\u001b[39m\u001b[33m/\u001b[39m\u001b[38;5;130;01m\\n\u001b[39;00m\u001b[33m&ewald\u001b[39m\u001b[38;5;130;01m\\n\u001b[39;00m\u001b[33morder=4\u001b[39m\u001b[38;5;130;01m\\n\u001b[39;00m\u001b[33mskinnb=1.0\u001b[39m\u001b[38;5;130;01m\\n\u001b[39;00m\u001b[33m/\u001b[39m\u001b[33m\"\u001b[39m)\n",
      "\u001b[31mUnsupportedExportError\u001b[39m: vdW method no-cutoff not supported"
     ]
    }
   ],
   "source": [
    "amber_energies = get_amber_energies(interchange)\n",
    "print(amber_energies.energies)"
   ]
  },
  {
   "cell_type": "code",
   "execution_count": 20,
   "metadata": {},
   "outputs": [],
   "source": [
    "import parmed as pmd"
   ]
  },
  {
   "cell_type": "code",
   "execution_count": 5,
   "metadata": {},
   "outputs": [],
   "source": [
    "system = pmd.load_file(\"combine_top/full.prmtop\", \"combine_top/full.inpcrd\")"
   ]
  },
  {
   "cell_type": "code",
   "execution_count": 16,
   "metadata": {},
   "outputs": [],
   "source": [
    "ligand = pmd.load_file(\"combine_top/g1i.prmtop\")"
   ]
  },
  {
   "cell_type": "code",
   "execution_count": 22,
   "metadata": {},
   "outputs": [],
   "source": [
    "ligand_res = system.residues[285]"
   ]
  },
  {
   "cell_type": "code",
   "execution_count": 23,
   "metadata": {},
   "outputs": [],
   "source": [
    "new_ligand_res = ligand.residues[0]"
   ]
  },
  {
   "cell_type": "code",
   "execution_count": 25,
   "metadata": {},
   "outputs": [],
   "source": [
    "assert len(ligand_res.atoms) == len(new_ligand_res.atoms), \"Mismatch in atom count\""
   ]
  },
  {
   "cell_type": "code",
   "execution_count": null,
   "metadata": {},
   "outputs": [],
   "source": [
    "for old_atom, new_atom in zip(ligand_res.atoms, new_ligand_res.atoms):\n",
    "    old_atom.name = new_atom.name  # optional\n",
    "    old_atom.type = new_atom.type\n",
    "    old_atom.atomic_number = new_atom.atomic_number\n",
    "    old_atom.charge = new_atom.charge\n",
    "    old_atom.mass = new_atom.mass\n",
    "    old_atom.rmin = new_atom.rmin\n",
    "    old_atom.epsilon = new_atom.epsilon\n",
    "    old_atom.rmin14 = new_atom.rmin14\n",
    "    old_atom.epsilon14 = new_atom.epsilon14"
   ]
  }
 ],
 "metadata": {
  "kernelspec": {
   "display_name": "openfe_env",
   "language": "python",
   "name": "python3"
  },
  "language_info": {
   "codemirror_mode": {
    "name": "ipython",
    "version": 3
   },
   "file_extension": ".py",
   "mimetype": "text/x-python",
   "name": "python",
   "nbconvert_exporter": "python",
   "pygments_lexer": "ipython3",
   "version": "3.12.11"
  }
 },
 "nbformat": 4,
 "nbformat_minor": 2
}
